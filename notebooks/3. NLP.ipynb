{
 "cells": [
  {
   "cell_type": "markdown",
   "metadata": {},
   "source": [
    "## Flujo de Trabajo en NLP\n",
    "\n",
    "<img src=\"./_src/PLN_Flujo_Trabajo.jpg\" height=\"300\"><br>"
   ]
  },
  {
   "cell_type": "code",
   "execution_count": 1,
   "metadata": {},
   "outputs": [],
   "source": [
    "import pandas as pd\n",
    "import nltk\n",
    "import itertools\n",
    "import re \n",
    "from nltk.stem import PorterStemmer\n",
    "from nltk.stem import WordNetLemmatizer\n",
    "from nltk.corpus import wordnet\n",
    "from nltk.tokenize import RegexpTokenizer\n",
    "\n"
   ]
  },
  {
   "cell_type": "code",
   "execution_count": 2,
   "metadata": {},
   "outputs": [],
   "source": [
    "# Asegurarse de haber descargado los recursos necesarios\n",
    "# nltk.download('averaged_perceptron_tagger')\n",
    "# nltk.download('wordnet')"
   ]
  },
  {
   "cell_type": "code",
   "execution_count": 3,
   "metadata": {},
   "outputs": [],
   "source": [
    "# Cargo la información de las reviews depuradas\n",
    "df_reviews = pd.read_parquet('..\\\\datasets\\\\2. Depurado\\\\user_reviews_depurado.parquet')\n",
    "#df_reviews = df_reviews.iloc[:1000]"
   ]
  },
  {
   "cell_type": "markdown",
   "metadata": {},
   "source": [
    "# Cargo las Stopwords en Inglés"
   ]
  },
  {
   "cell_type": "code",
   "execution_count": 4,
   "metadata": {},
   "outputs": [],
   "source": [
    "stopwords = nltk.corpus.stopwords.words('english') "
   ]
  },
  {
   "cell_type": "code",
   "execution_count": 5,
   "metadata": {},
   "outputs": [],
   "source": [
    "#stemmer = PorterStemmer()\n",
    "wordnet_lemmatizer = WordNetLemmatizer()"
   ]
  },
  {
   "cell_type": "markdown",
   "metadata": {},
   "source": [
    "# Función para mapeo de tipo de palabra para Lematización"
   ]
  },
  {
   "cell_type": "code",
   "execution_count": 6,
   "metadata": {},
   "outputs": [],
   "source": [
    "# Las etiquetas refieren al tipo de palabra. Vamos a definir una función para traducir estas etiquetas a los valores de POS que entiende 'wordnet_lemmatizer'.\n",
    "def get_wordnet_pos(word):\n",
    "    \n",
    "    \"\"\"Map POS tag to first character lemmatize() accepts\"\"\"\n",
    "    tag = nltk.pos_tag([word])[0][1][0].upper()\n",
    "    tag_dict = {\"J\": wordnet.ADJ,\n",
    "                \"N\": wordnet.NOUN,\n",
    "                \"V\": wordnet.VERB,\n",
    "                \"R\": wordnet.ADV}\n",
    "    print(tag)     \n",
    "    return tag_dict.get(tag, wordnet.NOUN)"
   ]
  },
  {
   "cell_type": "markdown",
   "metadata": {},
   "source": [
    "# TOKENIZACIÓN, EXPRESIONES REGULARES y LEMATIZCIÓN"
   ]
  },
  {
   "cell_type": "code",
   "execution_count": 7,
   "metadata": {},
   "outputs": [],
   "source": [
    "# Las etiquetas refieren al tipo de palabra. Vamos a definir una función para traducir estas etiquetas a los valores de POS que entiende 'wordnet_lemmatizer'.\n",
    "def get_wordnet_pos(word):\n",
    "    \n",
    "    \"\"\"Map POS tag to first character lemmatize() accepts\"\"\"\n",
    "    tag = nltk.pos_tag([word])[0][1][0].upper()\n",
    "    tag_dict = {\"J\": wordnet.ADJ,\n",
    "                \"N\": wordnet.NOUN,\n",
    "                \"V\": wordnet.VERB,\n",
    "                \"R\": wordnet.ADV}\n",
    "    return tag_dict.get(tag, wordnet.NOUN)\n",
    "\n",
    "\n",
    "\n",
    "def process_review(review):\n",
    "    if pd.isna(review):\n",
    "        return []  # Review vacío\n",
    "    \n",
    "    # Limpieza y procesamiento\n",
    "    # Si la review no es nula\n",
    "    \n",
    "    # Eliminar todo lo que no sean letras y convertir a minúsculas\n",
    "    review = re.sub(\"[^a-zA-Z]\", \" \", str(review)).lower()\n",
    "    # Tokeniza la review depues de sacar las condiciones regulares que le pasamos\n",
    "    tokenizer = RegexpTokenizer(r'\\w+')\n",
    "    review = tokenizer.tokenize(review)\n",
    "    # Elimina las stopwords \n",
    "    review = [word for word in review if word not in stopwords]\n",
    "    # Lematización\n",
    "    review = [wordnet_lemmatizer.lemmatize(word, get_wordnet_pos(word)) for word in review]\n",
    "    \n",
    "    return review\n",
    "\n",
    "\n",
    "# Aplicar la función de procesamiento a cada reseña\n",
    "df_reviews[\"processed_reviews\"] = df_reviews[\"review\"].apply(process_review)\n"
   ]
  },
  {
   "cell_type": "markdown",
   "metadata": {},
   "source": [
    "# CORRO TextBlob"
   ]
  },
  {
   "cell_type": "code",
   "execution_count": 8,
   "metadata": {},
   "outputs": [],
   "source": [
    "from textblob import TextBlob"
   ]
  },
  {
   "cell_type": "code",
   "execution_count": 9,
   "metadata": {},
   "outputs": [],
   "source": [
    "# Función para clasificar el sentimiento\n",
    "def classify_sentiment(review):\n",
    "    # Unir la lista de palabras en una cadena de texto\n",
    "    review_text = \" \".join(review)\n",
    "\n",
    "    if not review_text:\n",
    "        return 'Neutro' # Si no hay review, asignar \"Neutro\"\n",
    "    \n",
    "    # Crear un objeto TextBlob\n",
    "    blob = TextBlob(review_text)\n",
    "    # Obtener el sentimiento\n",
    "    polarity = blob.sentiment.polarity\n",
    "\n",
    "    # Clasificación del sentimiento\n",
    "    if polarity > 0:\n",
    "        return 'Positivo'\n",
    "    elif polarity < 0:\n",
    "        return 'Negativo'\n",
    "    else:\n",
    "        return 'Neutro'\n",
    "\n",
    "# Aplicar la función a la columna \"review\"\n",
    "df_reviews['sentiment'] = df_reviews['processed_reviews'].apply(classify_sentiment)\n",
    "\n",
    "# Aplicar el valor necesario\n",
    "df_reviews['sentiment_value'] = df_reviews['sentiment'].map({'Negativo': '0', 'Neutro': '1', 'Positivo':'2'})\n",
    "\n",
    "# Guardo el resultado para su uso posterior\n",
    "df_reviews.to_parquet('..\\\\datasets\\\\3. Depurado y Reducido\\\\user_reviews_NLP.parquet', index=False)\n"
   ]
  },
  {
   "cell_type": "code",
   "execution_count": 10,
   "metadata": {},
   "outputs": [
    {
     "data": {
      "text/html": [
       "<div>\n",
       "<style scoped>\n",
       "    .dataframe tbody tr th:only-of-type {\n",
       "        vertical-align: middle;\n",
       "    }\n",
       "\n",
       "    .dataframe tbody tr th {\n",
       "        vertical-align: top;\n",
       "    }\n",
       "\n",
       "    .dataframe thead th {\n",
       "        text-align: right;\n",
       "    }\n",
       "</style>\n",
       "<table border=\"1\" class=\"dataframe\">\n",
       "  <thead>\n",
       "    <tr style=\"text-align: right;\">\n",
       "      <th></th>\n",
       "      <th>user_id</th>\n",
       "      <th>user_url</th>\n",
       "      <th>item_id</th>\n",
       "      <th>posted</th>\n",
       "      <th>helpful</th>\n",
       "      <th>recommend</th>\n",
       "      <th>funny</th>\n",
       "      <th>review</th>\n",
       "      <th>processed_reviews</th>\n",
       "      <th>sentiment</th>\n",
       "      <th>sentiment_value</th>\n",
       "    </tr>\n",
       "  </thead>\n",
       "  <tbody>\n",
       "    <tr>\n",
       "      <th>0</th>\n",
       "      <td>76561197970982479</td>\n",
       "      <td>http://steamcommunity.com/profiles/76561197970...</td>\n",
       "      <td>1250</td>\n",
       "      <td>Posted November 5, 2011.</td>\n",
       "      <td>No ratings yet</td>\n",
       "      <td>True</td>\n",
       "      <td></td>\n",
       "      <td>Simple yet with great replayability. In my opi...</td>\n",
       "      <td>[simple, yet, great, replayability, opinion, z...</td>\n",
       "      <td>Positivo</td>\n",
       "      <td>2</td>\n",
       "    </tr>\n",
       "    <tr>\n",
       "      <th>1</th>\n",
       "      <td>76561197970982479</td>\n",
       "      <td>http://steamcommunity.com/profiles/76561197970...</td>\n",
       "      <td>22200</td>\n",
       "      <td>Posted July 15, 2011.</td>\n",
       "      <td>No ratings yet</td>\n",
       "      <td>True</td>\n",
       "      <td></td>\n",
       "      <td>It's unique and worth a playthrough.</td>\n",
       "      <td>[unique, worth, playthrough]</td>\n",
       "      <td>Positivo</td>\n",
       "      <td>2</td>\n",
       "    </tr>\n",
       "    <tr>\n",
       "      <th>2</th>\n",
       "      <td>76561197970982479</td>\n",
       "      <td>http://steamcommunity.com/profiles/76561197970...</td>\n",
       "      <td>43110</td>\n",
       "      <td>Posted April 21, 2011.</td>\n",
       "      <td>No ratings yet</td>\n",
       "      <td>True</td>\n",
       "      <td></td>\n",
       "      <td>Great atmosphere. The gunplay can be a bit chu...</td>\n",
       "      <td>[great, atmosphere, gunplay, bit, chunky, time...</td>\n",
       "      <td>Positivo</td>\n",
       "      <td>2</td>\n",
       "    </tr>\n",
       "    <tr>\n",
       "      <th>3</th>\n",
       "      <td>js41637</td>\n",
       "      <td>http://steamcommunity.com/id/js41637</td>\n",
       "      <td>251610</td>\n",
       "      <td>Posted June 24, 2014.</td>\n",
       "      <td>15 of 20 people (75%) found this review helpful</td>\n",
       "      <td>True</td>\n",
       "      <td></td>\n",
       "      <td>I know what you think when you see this title ...</td>\n",
       "      <td>[know, think, see, title, barbie, dreamhouse, ...</td>\n",
       "      <td>Negativo</td>\n",
       "      <td>0</td>\n",
       "    </tr>\n",
       "    <tr>\n",
       "      <th>4</th>\n",
       "      <td>js41637</td>\n",
       "      <td>http://steamcommunity.com/id/js41637</td>\n",
       "      <td>227300</td>\n",
       "      <td>Posted September 8, 2013.</td>\n",
       "      <td>0 of 1 people (0%) found this review helpful</td>\n",
       "      <td>True</td>\n",
       "      <td></td>\n",
       "      <td>For a simple (it's actually not all that simpl...</td>\n",
       "      <td>[simple, actually, simple, truck, drive, simul...</td>\n",
       "      <td>Negativo</td>\n",
       "      <td>0</td>\n",
       "    </tr>\n",
       "  </tbody>\n",
       "</table>\n",
       "</div>"
      ],
      "text/plain": [
       "             user_id                                           user_url  \\\n",
       "0  76561197970982479  http://steamcommunity.com/profiles/76561197970...   \n",
       "1  76561197970982479  http://steamcommunity.com/profiles/76561197970...   \n",
       "2  76561197970982479  http://steamcommunity.com/profiles/76561197970...   \n",
       "3            js41637               http://steamcommunity.com/id/js41637   \n",
       "4            js41637               http://steamcommunity.com/id/js41637   \n",
       "\n",
       "  item_id                     posted  \\\n",
       "0    1250   Posted November 5, 2011.   \n",
       "1   22200      Posted July 15, 2011.   \n",
       "2   43110     Posted April 21, 2011.   \n",
       "3  251610      Posted June 24, 2014.   \n",
       "4  227300  Posted September 8, 2013.   \n",
       "\n",
       "                                           helpful  recommend funny  \\\n",
       "0                                   No ratings yet       True         \n",
       "1                                   No ratings yet       True         \n",
       "2                                   No ratings yet       True         \n",
       "3  15 of 20 people (75%) found this review helpful       True         \n",
       "4     0 of 1 people (0%) found this review helpful       True         \n",
       "\n",
       "                                              review  \\\n",
       "0  Simple yet with great replayability. In my opi...   \n",
       "1               It's unique and worth a playthrough.   \n",
       "2  Great atmosphere. The gunplay can be a bit chu...   \n",
       "3  I know what you think when you see this title ...   \n",
       "4  For a simple (it's actually not all that simpl...   \n",
       "\n",
       "                                   processed_reviews sentiment sentiment_value  \n",
       "0  [simple, yet, great, replayability, opinion, z...  Positivo               2  \n",
       "1                       [unique, worth, playthrough]  Positivo               2  \n",
       "2  [great, atmosphere, gunplay, bit, chunky, time...  Positivo               2  \n",
       "3  [know, think, see, title, barbie, dreamhouse, ...  Negativo               0  \n",
       "4  [simple, actually, simple, truck, drive, simul...  Negativo               0  "
      ]
     },
     "execution_count": 10,
     "metadata": {},
     "output_type": "execute_result"
    }
   ],
   "source": [
    "df_reviews.head()"
   ]
  },
  {
   "cell_type": "code",
   "execution_count": 11,
   "metadata": {},
   "outputs": [
    {
     "name": "stderr",
     "output_type": "stream",
     "text": [
      "C:\\Users\\Hernán\\AppData\\Local\\Temp\\ipykernel_11056\\3147148875.py:31: UserWarning: No artists with labels found to put in legend.  Note that artists whose label start with an underscore are ignored when legend() is called with no argument.\n",
      "  plt.legend(title='Recomendación')\n"
     ]
    },
    {
     "data": {
      "image/png": "[encoded data removed]",
      "text/plain": [
       "<Figure size 1000x600 with 1 Axes>"
      ]
     },
     "metadata": {},
     "output_type": "display_data"
    }
   ],
   "source": [
    "import pandas as pd\n",
    "import matplotlib.pyplot as plt\n",
    "import seaborn as sns\n",
    "\n",
    "\n",
    "# Cargo la información de las reviews\n",
    "df_reviews = pd.read_parquet('..\\\\datasets\\\\3. Depurado y Reducido\\\\user_reviews_NLP.parquet')\n",
    "# Asegurarse de que las recomendaciones estén bien categorizadas\n",
    "df_reviews['recommend'] = df_reviews['recommend'].map({True: 'Recommended', False: 'Not Recommended'})\n",
    "\n",
    "# Crear la figura para el gráfico\n",
    "plt.figure(figsize=(10, 6))\n",
    "\n",
    "# Gráfico de conteo con 'sentiment' en el eje x y 'recommend' como el hue\n",
    "ax = sns.countplot(data=df_reviews, x='sentiment_value', hue='sentiment_value')\n",
    "\n",
    "# Añadir los valores a cada barra\n",
    "for p in ax.patches:\n",
    "    height = p.get_height()\n",
    "    ax.text(\n",
    "        p.get_x() + p.get_width() / 2,  # Posición en X\n",
    "        height + 1,  # Posición en Y\n",
    "        int(height),  # Texto que mostrará (el valor)\n",
    "        ha=\"center\"  # Alineación horizontal\n",
    "    )\n",
    "\n",
    "# Título y etiquetas\n",
    "plt.title('Recomendaciones por Análisis de Sentimiento')\n",
    "plt.xlabel('Análisis de Sentimiento')\n",
    "plt.ylabel('Número de Reseñas')\n",
    "plt.legend(title='Recomendación')\n",
    "\n",
    "# Mostrar el gráfico\n",
    "plt.show()"
   ]
  }
 ],
 "metadata": {
  "kernelspec": {
   "display_name": "Python 3",
   "language": "python",
   "name": "python3"
  },
  "language_info": {
   "codemirror_mode": {
    "name": "ipython",
    "version": 3
   },
   "file_extension": ".py",
   "mimetype": "text/x-python",
   "name": "python",
   "nbconvert_exporter": "python",
   "pygments_lexer": "ipython3",
   "version": "3.12.1"
  }
 },
 "nbformat": 4,
 "nbformat_minor": 2
}
