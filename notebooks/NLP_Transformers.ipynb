{
 "cells": [
  {
   "cell_type": "markdown",
   "metadata": {},
   "source": [
    "## Flujo de Trabajo en NLP\n",
    "\n",
    "<img src=\"./_src/PLN_Flujo_Trabajo.jpg\" height=\"300\"><br>"
   ]
  },
  {
   "cell_type": "code",
   "execution_count": 39,
   "metadata": {},
   "outputs": [],
   "source": [
    "import pandas as pd\n",
    "import nltk\n",
    "import itertools\n",
    "import re \n",
    "from nltk.stem import PorterStemmer\n",
    "from nltk.stem import WordNetLemmatizer\n",
    "from nltk.corpus import wordnet\n",
    "from nltk.tokenize import RegexpTokenizer\n",
    "\n"
   ]
  },
  {
   "cell_type": "code",
   "execution_count": 40,
   "metadata": {},
   "outputs": [],
   "source": [
    "# Asegurarse de haber descargado los recursos necesarios\n",
    "# nltk.download('averaged_perceptron_tagger')\n",
    "# nltk.download('wordnet')"
   ]
  },
  {
   "cell_type": "code",
   "execution_count": 41,
   "metadata": {},
   "outputs": [],
   "source": [
    "# Cargo la información de las reviews\n",
    "df_reviews = pd.read_parquet('.\\\\Dataset\\\\user_reviews.parquet')\n",
    "df_reviews = df_reviews.iloc[:1000]"
   ]
  },
  {
   "cell_type": "code",
   "execution_count": 42,
   "metadata": {},
   "outputs": [
    {
     "data": {
      "text/plain": [
       "(1000, 8)"
      ]
     },
     "execution_count": 42,
     "metadata": {},
     "output_type": "execute_result"
    }
   ],
   "source": [
    "df_reviews.shape"
   ]
  },
  {
   "cell_type": "code",
   "execution_count": 43,
   "metadata": {},
   "outputs": [
    {
     "data": {
      "text/plain": [
       "recommend\n",
       "True     875\n",
       "False    123\n",
       "Name: count, dtype: int64"
      ]
     },
     "execution_count": 43,
     "metadata": {},
     "output_type": "execute_result"
    }
   ],
   "source": [
    "df_reviews['recommend'].value_counts()"
   ]
  },
  {
   "cell_type": "markdown",
   "metadata": {},
   "source": [
    "# Cargo las Stopwords en Inglés"
   ]
  },
  {
   "cell_type": "code",
   "execution_count": 44,
   "metadata": {},
   "outputs": [],
   "source": [
    "stopwords = nltk.corpus.stopwords.words('english') "
   ]
  },
  {
   "cell_type": "code",
   "execution_count": 45,
   "metadata": {},
   "outputs": [],
   "source": [
    "stemmer = PorterStemmer()\n",
    "wordnet_lemmatizer = WordNetLemmatizer()"
   ]
  },
  {
   "cell_type": "markdown",
   "metadata": {},
   "source": [
    "# Función para mapeo de tipo de palabra para Lematización"
   ]
  },
  {
   "cell_type": "code",
   "execution_count": 46,
   "metadata": {},
   "outputs": [],
   "source": [
    "# Las etiquetas refieren al tipo de palabra. Vamos a definir una función para traducir estas etiquetas a los valores de POS que entiende 'wordnet_lemmatizer'.\n",
    "def get_wordnet_pos(word):\n",
    "    \n",
    "    \"\"\"Map POS tag to first character lemmatize() accepts\"\"\"\n",
    "    tag = nltk.pos_tag([word])[0][1][0].upper()\n",
    "    tag_dict = {\"J\": wordnet.ADJ,\n",
    "                \"N\": wordnet.NOUN,\n",
    "                \"V\": wordnet.VERB,\n",
    "                \"R\": wordnet.ADV}\n",
    "    print(tag)     \n",
    "    return tag_dict.get(tag, wordnet.NOUN)"
   ]
  },
  {
   "cell_type": "markdown",
   "metadata": {},
   "source": [
    "# TOKENIZACIÓN, EXPRESIONES REGULARES y LEMATIZCIÓN"
   ]
  },
  {
   "cell_type": "code",
   "execution_count": 47,
   "metadata": {},
   "outputs": [],
   "source": [
    "# Las etiquetas refieren al tipo de palabra. Vamos a definir una función para traducir estas etiquetas a los valores de POS que entiende 'wordnet_lemmatizer'.\n",
    "def get_wordnet_pos(word):\n",
    "    \n",
    "    \"\"\"Map POS tag to first character lemmatize() accepts\"\"\"\n",
    "    tag = nltk.pos_tag([word])[0][1][0].upper()\n",
    "    tag_dict = {\"J\": wordnet.ADJ,\n",
    "                \"N\": wordnet.NOUN,\n",
    "                \"V\": wordnet.VERB,\n",
    "                \"R\": wordnet.ADV}\n",
    "    return tag_dict.get(tag, wordnet.NOUN)\n",
    "\n",
    "\n",
    "\n",
    "def process_review(review):\n",
    "    if pd.isna(review):\n",
    "        return []  # Review vacío\n",
    "    \n",
    "    # Limpieza y procesamiento\n",
    "    # Si la review no es nula\n",
    "    \n",
    "    # Eliminar todo lo que no sean letras y convertir a minúsculas\n",
    "    review = re.sub(\"[^a-zA-Z]\", \" \", str(review)).lower()\n",
    "    # Tokeniza la review depues de sacar las condiciones regulares que le pasamos\n",
    "    tokenizer = RegexpTokenizer(r'\\w+')\n",
    "    review = tokenizer.tokenize(review)\n",
    "    # Elimina las stopwords \n",
    "    review = [word for word in review if word not in stopwords]\n",
    "    # Lematización\n",
    "    review = [wordnet_lemmatizer.lemmatize(word, get_wordnet_pos(word)) for word in review]\n",
    "    \n",
    "    return review\n",
    "\n",
    "\n",
    "# Aplicar la función de procesamiento a cada reseña\n",
    "df_reviews[\"processed_reviews\"] = df_reviews[\"review\"].apply(process_review)\n"
   ]
  },
  {
   "cell_type": "code",
   "execution_count": 56,
   "metadata": {},
   "outputs": [],
   "source": [
    "from transformers import pipeline\n",
    "from transformers import AutoTokenizer\n",
    "import pandas as pd\n",
    "\n",
    "# Cargar el modelo de análisis de sentimientos\n",
    "#sentiment_analysis = pipeline(\"sentiment-analysis\", model=\"distilbert-base-uncased-finetuned-sst-2-english\")\n",
    "sentiment_analysis = pipeline(\"sentiment-analysis\", model=\"distilbert-base-uncased-finetuned-sst-2-english\", batch_size=16)\n",
    "\n",
    "# Debido a que hay reviews con más de 512 tokens, debo importar AutoTkenizer para limitar la cantidad.\n",
    "# Cargar el tokenizador asociado con el modelo\n",
    "tokenizer = AutoTokenizer.from_pretrained(\"distilbert-base-uncased\")\n"
   ]
  },
  {
   "cell_type": "code",
   "execution_count": 57,
   "metadata": {},
   "outputs": [],
   "source": [
    "# Aplicar el análisis de sentimiento a las reviews procesadas\n",
    "sentiment_results = []\n",
    "\n",
    "# Debido a que el pipeline \"sentiment-analysis\" clasifica en POSITIVE o NEGATIVE, se define la siguiente función:\n",
    "# Función para clasificar una reseña como positiva, neutra o negativa\n",
    "def classify_review(review):\n",
    "    # Unir la lista de palabras en una cadena de texto\n",
    "    review_text = \" \".join(review)\n",
    "\n",
    "    if not review_text:\n",
    "        return 'Neutro' # Si no hay review, asignar \"Neutro\"\n",
    "    \n",
    "    # Tokenizar la review y truncar si es necesario porque transformer requiere máx 512\n",
    "    inputs = tokenizer(review_text, truncation=True, max_length=512, return_tensors=\"pt\")\n",
    "    \n",
    "    # Realizar el análisis de sentimiento\n",
    "    result = sentiment_analysis(tokenizer.decode(inputs[\"input_ids\"][0], skip_special_tokens=True))[0]\n",
    "    label = result['label']\n",
    "    score = result['score']\n",
    "\n",
    "    # Convertir las etiquetas a Positivo, Neutro y Negativo\n",
    "    if label == 'POSITIVE' and score > 0.75:\n",
    "        return 'Positivo'\n",
    "    elif label == 'POSITIVE' and score <= 0.75:\n",
    "        return 'Neutro'\n",
    "    elif label == 'NEGATIVE' and score > 0.75:\n",
    "        return 'Negativo'\n",
    "    else:\n",
    "        return 'Neutro'\n",
    "\n",
    "\n",
    "\n",
    "# Aplicar el análisis de sentimiento a las reviews procesadas\n",
    "df_reviews['sentiment'] = df_reviews['processed_reviews'].apply(lambda review: classify_review(review) if review else 'Neutro')"
   ]
  },
  {
   "cell_type": "code",
   "execution_count": 52,
   "metadata": {},
   "outputs": [
    {
     "data": {
      "text/plain": [
       "0      Positivo\n",
       "1      Positivo\n",
       "2      Positivo\n",
       "3      Positivo\n",
       "4      Positivo\n",
       "         ...   \n",
       "995    Negativo\n",
       "996    Positivo\n",
       "997    Positivo\n",
       "998      Neutro\n",
       "999    Positivo\n",
       "Name: sentiment, Length: 1000, dtype: object"
      ]
     },
     "execution_count": 52,
     "metadata": {},
     "output_type": "execute_result"
    }
   ],
   "source": [
    "df_reviews['sentiment']"
   ]
  }
 ],
 "metadata": {
  "kernelspec": {
   "display_name": "Python 3",
   "language": "python",
   "name": "python3"
  },
  "language_info": {
   "codemirror_mode": {
    "name": "ipython",
    "version": 3
   },
   "file_extension": ".py",
   "mimetype": "text/x-python",
   "name": "python",
   "nbconvert_exporter": "python",
   "pygments_lexer": "ipython3",
   "version": "3.12.1"
  }
 },
 "nbformat": 4,
 "nbformat_minor": 2
}
