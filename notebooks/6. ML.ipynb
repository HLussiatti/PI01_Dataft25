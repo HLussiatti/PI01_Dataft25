{
 "cells": [
  {
   "cell_type": "code",
   "execution_count": 1,
   "metadata": {},
   "outputs": [],
   "source": [
    "import numpy as np\n",
    "import pandas as pd\n",
    "from sklearn.feature_extraction.text import TfidfVectorizer\n",
    "from sklearn.metrics.pairwise import cosine_similarity\n",
    "import gc"
   ]
  },
  {
   "cell_type": "code",
   "execution_count": 2,
   "metadata": {},
   "outputs": [],
   "source": [
    "def release_resources(*dfs):\n",
    "    \"\"\"\n",
    "    Elimina las variables pasadas como argumento y fuerza la recolección de basura.\n",
    "    :param dfs: DataFranes cargadis a eliminar.\n",
    "    \"\"\"\n",
    "    for var in dfs:\n",
    "        del var\n",
    "    gc.collect()"
   ]
  },
  {
   "cell_type": "markdown",
   "metadata": {},
   "source": [
    "- El modelo debe ser del tipo No Supervisado.\n",
    "- Elaboramos las columnas de similitud teniendo en cuenta:\n",
    "    - steam_games: genres - specs - tags"
   ]
  },
  {
   "cell_type": "code",
   "execution_count": 3,
   "metadata": {},
   "outputs": [],
   "source": [
    "def matrix_calculation(item_id):\n",
    "    \n",
    "    # Cargo los datos que voy a usar.\n",
    "    df_steam_games = pd.read_parquet('..\\\\datasets\\\\2. Depurado\\\\steam_games_postEDA.parquet', columns=['item_id','combined'])\n",
    "\n",
    "    # Verifico que exista el id del juego.\n",
    "    if df_steam_games[df_steam_games['item_id'] == item_id].empty:\n",
    "        release_resources(df_steam_games)\n",
    "        return f\"El item_id {item_id} no existe en el dataset.\"\n",
    "\n",
    "    # Vectorizo la columna combinada usando TF-IDF y creo la matriz\n",
    "    vectorizer = TfidfVectorizer()\n",
    "    tfidf_matrix = vectorizer.fit_transform(df_steam_games['combined'])\n",
    "\n",
    "    # Busco el índice del juego (índice de DF) y guardo por separado el vector del juego y los demás por separado (incluido él mismo)\n",
    "    idx = df_steam_games.index[df_steam_games['item_id'] == item_id].tolist()[0]\n",
    "    game_vector = tfidf_matrix[idx]\n",
    "    other_games_vector = tfidf_matrix\n",
    "\n",
    "    # Calculo la matriz de similitud del coseno\n",
    "    cosine_sim = cosine_similarity(game_vector, other_games_vector).flatten()\n",
    "    \n",
    "    # Elimino el índice del juego consigo mismo \n",
    "    cosine_sim[idx] = 0\n",
    "\n",
    "    # Devuelvo el resultado\n",
    "    release_resources(df_steam_games)\n",
    "    return cosine_sim\n",
    "\n",
    "\n",
    "# Función para recomendar juegos\n",
    "def recommend_games(item_id, n_recommendations):\n",
    "    \n",
    "    # Se debe calcular la matriz SOLO para el item_id, sino la matriz es demasiado grande para calcularla o para caragarla.\n",
    "    cosine_sim = matrix_calculation(item_id)\n",
    "\n",
    "    # Ordeno por los valores de la similitud\n",
    "    sim_scores = list(enumerate(cosine_sim))\n",
    "    sim_scores = sorted(sim_scores, key=lambda x: x[1], reverse=True)\n",
    "    \n",
    "    # Tomo los n primeros valores\n",
    "    sim_scores = sim_scores[0:n_recommendations]  \n",
    "\n",
    "    # Extraigo los índice y los puntajes de los \"n_recommendations\" juegos recomendados\n",
    "    game_indices = [i[0] for i in sim_scores[:n_recommendations]]\n",
    "    game_sim_scores = [i[1] for i in sim_scores]\n",
    "    \n",
    "    df_steam_games = pd.read_parquet('..\\\\datasets\\\\2. Depurado\\\\steam_games_postEDA.parquet', columns=['item_id', 'title', 'positive_ratio'])\n",
    "    df_steam_games.reset_index(drop=True, inplace=True)\n",
    "\n",
    "    # Retornar los juegos recomendados junto con los puntajes de similitud\n",
    "    recommended_games = df_steam_games.loc[df_steam_games.index.isin(game_indices), ['item_id', 'title', 'positive_ratio']]\n",
    "    recommended_games['similarity_score'] = game_sim_scores \n",
    "\n",
    "    # Como puede haber varios juegos con igual puntaje, decido ordenarlos por el posiive_ratio resultante del NLP\n",
    "    recommended_games = recommended_games.sort_values(by='positive_ratio', ascending=False)\n",
    "\n",
    "    # Convertir el DataFrame a una lista de diccionarios (serializable)\n",
    "    result_json = recommended_games.to_dict(orient=\"records\")\n",
    "\n",
    "    release_resources(df_steam_games)\n",
    "    return result_json"
   ]
  },
  {
   "cell_type": "code",
   "execution_count": 4,
   "metadata": {},
   "outputs": [
    {
     "data": {
      "text/html": [
       "<div>\n",
       "<style scoped>\n",
       "    .dataframe tbody tr th:only-of-type {\n",
       "        vertical-align: middle;\n",
       "    }\n",
       "\n",
       "    .dataframe tbody tr th {\n",
       "        vertical-align: top;\n",
       "    }\n",
       "\n",
       "    .dataframe thead th {\n",
       "        text-align: right;\n",
       "    }\n",
       "</style>\n",
       "<table border=\"1\" class=\"dataframe\">\n",
       "  <thead>\n",
       "    <tr style=\"text-align: right;\">\n",
       "      <th></th>\n",
       "      <th>title</th>\n",
       "      <th>item_id</th>\n",
       "      <th>genres</th>\n",
       "      <th>specs</th>\n",
       "      <th>tags_new</th>\n",
       "      <th>positive_ratio</th>\n",
       "    </tr>\n",
       "  </thead>\n",
       "  <tbody>\n",
       "    <tr>\n",
       "      <th>28447</th>\n",
       "      <td>Earth 2160</td>\n",
       "      <td>1900</td>\n",
       "      <td>[Strategy]</td>\n",
       "      <td>[Single-player, Multi-player, Co-op, Cross-Pla...</td>\n",
       "      <td>[]</td>\n",
       "      <td>0.0</td>\n",
       "    </tr>\n",
       "  </tbody>\n",
       "</table>\n",
       "</div>"
      ],
      "text/plain": [
       "            title  item_id      genres  \\\n",
       "28447  Earth 2160     1900  [Strategy]   \n",
       "\n",
       "                                                   specs tags_new  \\\n",
       "28447  [Single-player, Multi-player, Co-op, Cross-Pla...       []   \n",
       "\n",
       "       positive_ratio  \n",
       "28447             0.0  "
      ]
     },
     "execution_count": 4,
     "metadata": {},
     "output_type": "execute_result"
    }
   ],
   "source": [
    "df_steam_games = pd.read_parquet('..\\\\datasets\\\\2. Depurado\\\\steam_games_postEDA.parquet', columns=['title','item_id','genres','specs','tags_new','positive_ratio'])\n",
    "df_steam_games[df_steam_games['item_id']==1900]"
   ]
  },
  {
   "cell_type": "code",
   "execution_count": 5,
   "metadata": {},
   "outputs": [
    {
     "data": {
      "text/plain": [
       "[{'item_id': 238890,\n",
       "  'title': 'Skyward Collapse',\n",
       "  'positive_ratio': 1.0,\n",
       "  'similarity_score': 0.9274701792614519},\n",
       " {'item_id': 40400,\n",
       "  'title': 'AI War: Fleet Command',\n",
       "  'positive_ratio': 1.0,\n",
       "  'similarity_score': 0.9228901102591015},\n",
       " {'item_id': 274431,\n",
       "  'title': 'Space Hulk - Harbinger of Torment Campaign',\n",
       "  'positive_ratio': nan,\n",
       "  'similarity_score': 0.983940725229312},\n",
       " {'item_id': 317330,\n",
       "  'title': 'Defenders of Time',\n",
       "  'positive_ratio': nan,\n",
       "  'similarity_score': 0.9584525312034007},\n",
       " {'item_id': 321800,\n",
       "  'title': 'Icewind Dale: Enhanced Edition',\n",
       "  'positive_ratio': nan,\n",
       "  'similarity_score': 0.9313413619920984}]"
      ]
     },
     "execution_count": 5,
     "metadata": {},
     "output_type": "execute_result"
    }
   ],
   "source": [
    "# Ejemplo de uso\n",
    "recommended_games = recommend_games(item_id=1900, n_recommendations=5)\n",
    "recommended_games\n"
   ]
  }
 ],
 "metadata": {
  "kernelspec": {
   "display_name": "Python 3",
   "language": "python",
   "name": "python3"
  },
  "language_info": {
   "codemirror_mode": {
    "name": "ipython",
    "version": 3
   },
   "file_extension": ".py",
   "mimetype": "text/x-python",
   "name": "python",
   "nbconvert_exporter": "python",
   "pygments_lexer": "ipython3",
   "version": "3.12.1"
  }
 },
 "nbformat": 4,
 "nbformat_minor": 2
}
