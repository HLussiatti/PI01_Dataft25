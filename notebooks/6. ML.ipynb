{
 "cells": [
  {
   "cell_type": "code",
   "execution_count": 18,
   "metadata": {},
   "outputs": [],
   "source": [
    "import numpy as np\n",
    "import pandas as pd\n",
    "from sklearn.feature_extraction.text import TfidfVectorizer\n",
    "from sklearn.metrics.pairwise import cosine_similarity\n",
    "import gc"
   ]
  },
  {
   "cell_type": "code",
   "execution_count": 19,
   "metadata": {},
   "outputs": [],
   "source": [
    "def release_resources(*dfs):\n",
    "    \"\"\"\n",
    "    Elimina las variables pasadas como argumento y fuerza la recolección de basura.\n",
    "    :param dfs: DataFranes cargadis a eliminar.\n",
    "    \"\"\"\n",
    "    for var in dfs:\n",
    "        del var\n",
    "    gc.collect()"
   ]
  },
  {
   "cell_type": "markdown",
   "metadata": {},
   "source": [
    "- El modelo debe ser del tipo No Supervisado.\n",
    "- Elaboramos las columnas de similitud teniendo en cuenta:\n",
    "    - steam_games: genres - specs - tags"
   ]
  },
  {
   "cell_type": "code",
   "execution_count": 20,
   "metadata": {},
   "outputs": [],
   "source": [
    "def matrix_calculation(item_id):\n",
    "    \n",
    "    # Cargo los datos que voy a usar.\n",
    "    df_steam_games = pd.read_parquet('..\\\\datasets\\\\2. Depurado\\\\steam_games_postEDA.parquet', columns=['item_id','combined'])\n",
    "\n",
    "    # Verifico que exista el id del juego.\n",
    "    if df_steam_games[df_steam_games['item_id'] == item_id].empty:\n",
    "        release_resources(df_steam_games)\n",
    "        return f\"El item_id {item_id} no existe en el dataset.\"\n",
    "\n",
    "    # Vectorizo la columna combinada usando TF-IDF y creo la matriz\n",
    "    vectorizer = TfidfVectorizer()\n",
    "    tfidf_matrix = vectorizer.fit_transform(df_steam_games['combined'])\n",
    "\n",
    "    # Busco el índice del juego (índice de DF) y guardo por separado el vector del juego y los demás por separado (incluido él mismo)\n",
    "    idx = df_steam_games.index[df_steam_games['item_id'] == item_id].tolist()[0]\n",
    "    game_vector = tfidf_matrix[idx]\n",
    "    other_games_vector = tfidf_matrix\n",
    "\n",
    "    # Calculo la matriz de similitud del coseno\n",
    "    cosine_sim = cosine_similarity(game_vector, other_games_vector).flatten()\n",
    "    \n",
    "    # Elimino el índice del juego consigo mismo \n",
    "    cosine_sim[idx] = 0\n",
    "\n",
    "    # Devuelvo el resultado\n",
    "    release_resources(df_steam_games)\n",
    "    return cosine_sim\n",
    "\n",
    "\n",
    "# Función para recomendar juegos\n",
    "def recommend_games(item_id, n_recommendations):\n",
    "    \n",
    "    # Se debe calcular la matriz SOLO para el item_id, sino la matriz es demasiado grande para calcularla o para caragarla.\n",
    "    cosine_sim = matrix_calculation(item_id)\n",
    "\n",
    "    # Ordeno por los valores de la similitud\n",
    "    sim_scores = list(enumerate(cosine_sim))\n",
    "    sim_scores = sorted(sim_scores, key=lambda x: x[1], reverse=True)\n",
    "    \n",
    "    # Tomo los n primeros valores\n",
    "    sim_scores = sim_scores[0:n_recommendations]  \n",
    "\n",
    "    # Extraigo los índice y los puntajes de los \"n_recommendations\" juegos recomendados\n",
    "    game_indices = [i[0] for i in sim_scores[:n_recommendations]]\n",
    "    game_sim_scores = [i[1] for i in sim_scores]\n",
    "    \n",
    "    df_steam_games = pd.read_parquet('..\\\\datasets\\\\2. Depurado\\\\steam_games_postEDA.parquet', columns=['item_id', 'title', 'positive_ratio'])\n",
    "    df_steam_games.reset_index(drop=True, inplace=True)\n",
    "\n",
    "    # Retornar los juegos recomendados junto con los puntajes de similitud\n",
    "    recommended_games = df_steam_games.loc[df_steam_games.index.isin(game_indices), ['item_id', 'title', 'positive_ratio']]\n",
    "    recommended_games['similarity_score'] = game_sim_scores \n",
    "\n",
    "    # Como puede haber varios juegos con igual puntaje, decido ordenarlos por el posiive_ratio resultante del NLP\n",
    "    recommended_games = recommended_games.sort_values(by='positive_ratio', ascending=False)\n",
    "\n",
    "    # Convertir el DataFrame a una lista de diccionarios (serializable)\n",
    "    result_json = recommended_games.to_dict(orient=\"records\")\n",
    "\n",
    "    release_resources(df_steam_games)\n",
    "    return result_json"
   ]
  },
  {
   "cell_type": "code",
   "execution_count": 21,
   "metadata": {},
   "outputs": [
    {
     "data": {
      "text/html": [
       "<div>\n",
       "<style scoped>\n",
       "    .dataframe tbody tr th:only-of-type {\n",
       "        vertical-align: middle;\n",
       "    }\n",
       "\n",
       "    .dataframe tbody tr th {\n",
       "        vertical-align: top;\n",
       "    }\n",
       "\n",
       "    .dataframe thead th {\n",
       "        text-align: right;\n",
       "    }\n",
       "</style>\n",
       "<table border=\"1\" class=\"dataframe\">\n",
       "  <thead>\n",
       "    <tr style=\"text-align: right;\">\n",
       "      <th></th>\n",
       "      <th>title</th>\n",
       "      <th>item_id</th>\n",
       "      <th>genres</th>\n",
       "      <th>specs</th>\n",
       "      <th>tags_new</th>\n",
       "      <th>positive_ratio</th>\n",
       "    </tr>\n",
       "  </thead>\n",
       "  <tbody>\n",
       "    <tr>\n",
       "      <th>28518</th>\n",
       "      <td>Counter-Strike</td>\n",
       "      <td>10</td>\n",
       "      <td>[Action]</td>\n",
       "      <td>[Multi-player, Valve Anti-Cheat enabled]</td>\n",
       "      <td>[Strategy]</td>\n",
       "      <td>0.571429</td>\n",
       "    </tr>\n",
       "  </tbody>\n",
       "</table>\n",
       "</div>"
      ],
      "text/plain": [
       "                title  item_id    genres  \\\n",
       "28518  Counter-Strike       10  [Action]   \n",
       "\n",
       "                                          specs    tags_new  positive_ratio  \n",
       "28518  [Multi-player, Valve Anti-Cheat enabled]  [Strategy]        0.571429  "
      ]
     },
     "execution_count": 21,
     "metadata": {},
     "output_type": "execute_result"
    }
   ],
   "source": [
    "df_steam_games = pd.read_parquet('..\\\\datasets\\\\2. Depurado\\\\steam_games_postEDA.parquet', columns=['title','item_id','genres','specs','tags_new','positive_ratio'])\n",
    "df_steam_games[df_steam_games['item_id']==10]"
   ]
  },
  {
   "cell_type": "code",
   "execution_count": 22,
   "metadata": {},
   "outputs": [
    {
     "data": {
      "text/plain": [
       "[{'item_id': 40,\n",
       "  'title': 'Deathmatch Classic',\n",
       "  'positive_ratio': 1.0,\n",
       "  'similarity_score': 0.9765771782211303},\n",
       " {'item_id': 60,\n",
       "  'title': 'Ricochet',\n",
       "  'positive_ratio': 0.6,\n",
       "  'similarity_score': 0.9765771782211303},\n",
       " {'item_id': 1200,\n",
       "  'title': 'Red Orchestra: Ostfront 41-45',\n",
       "  'positive_ratio': 0.5,\n",
       "  'similarity_score': 0.9765771782211303},\n",
       " {'item_id': 360,\n",
       "  'title': 'Half-Life Deathmatch: Source',\n",
       "  'positive_ratio': 0.5,\n",
       "  'similarity_score': 0.9765771782211303},\n",
       " {'item_id': 30,\n",
       "  'title': 'Day of Defeat',\n",
       "  'positive_ratio': 0.5,\n",
       "  'similarity_score': 0.9597598624137504}]"
      ]
     },
     "execution_count": 22,
     "metadata": {},
     "output_type": "execute_result"
    }
   ],
   "source": [
    "# Ejemplo de uso\n",
    "recommended_games = recommend_games(item_id=10, n_recommendations=5)  # Cambia por el item_id deseado\n",
    "recommended_games\n"
   ]
  }
 ],
 "metadata": {
  "kernelspec": {
   "display_name": "Python 3",
   "language": "python",
   "name": "python3"
  },
  "language_info": {
   "codemirror_mode": {
    "name": "ipython",
    "version": 3
   },
   "file_extension": ".py",
   "mimetype": "text/x-python",
   "name": "python",
   "nbconvert_exporter": "python",
   "pygments_lexer": "ipython3",
   "version": "3.12.1"
  }
 },
 "nbformat": 4,
 "nbformat_minor": 2
}
