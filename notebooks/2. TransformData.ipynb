{
 "cells": [
  {
   "cell_type": "code",
   "execution_count": 349,
   "metadata": {},
   "outputs": [],
   "source": [
    "import pandas as pd\n",
    "import numpy as np"
   ]
  },
  {
   "cell_type": "markdown",
   "metadata": {},
   "source": [
    "# Depuración de steam_games\n",
    "- En una primera instancia se hace foco en los campos que se necesitarán para el desarrollo de las Funciones. lista_columnas = ['genres', 'release_date', 'price', 'item_id', 'developer']\n",
    "- No se eliminan los datos nulos en cada columna si hay datos en las demás.\n",
    "- Se crea un archivo \"depurado\" para ser consumido por la API.\n",
    "- Se podría intentar realizar un scraping de la información necesaria para mejorar el dataset (sólo si se llega a terminar el trabajo)."
   ]
  },
  {
   "cell_type": "code",
   "execution_count": 350,
   "metadata": {},
   "outputs": [],
   "source": [
    "# Levanto los datos\n",
    "df_steam_games = pd.read_parquet('..\\\\datasets\\\\1. Extracción\\\\steam_games.parquet')"
   ]
  },
  {
   "cell_type": "code",
   "execution_count": 351,
   "metadata": {},
   "outputs": [
    {
     "name": "stdout",
     "output_type": "stream",
     "text": [
      "<class 'pandas.core.frame.DataFrame'>\n",
      "RangeIndex: 120445 entries, 0 to 120444\n",
      "Data columns (total 13 columns):\n",
      " #   Column        Non-Null Count   Dtype \n",
      "---  ------        --------------   ----- \n",
      " 0   publisher     24083 non-null   object\n",
      " 1   genres        28852 non-null   object\n",
      " 2   app_name      32133 non-null   object\n",
      " 3   title         30085 non-null   object\n",
      " 4   url           32135 non-null   object\n",
      " 5   release_date  30068 non-null   object\n",
      " 6   tags          31972 non-null   object\n",
      " 7   reviews_url   32133 non-null   object\n",
      " 8   specs         31465 non-null   object\n",
      " 9   price         120445 non-null  object\n",
      " 10  early_access  32135 non-null   object\n",
      " 11  id            32133 non-null   object\n",
      " 12  developer     28836 non-null   object\n",
      "dtypes: object(13)\n",
      "memory usage: 11.9+ MB\n"
     ]
    }
   ],
   "source": [
    "# Observamos info del dataset\n",
    "df_steam_games.info()"
   ]
  },
  {
   "cell_type": "markdown",
   "metadata": {},
   "source": [
    "- Análisis de la columna 'price'. Como \"price\" contiene texto y números al momento de la carga de datos, fue necesario guardarlo como \"string\" en el archivo parquet.\n",
    "- Se analizan cuáles son los valores que \"no son precios\"."
   ]
  },
  {
   "cell_type": "code",
   "execution_count": 352,
   "metadata": {},
   "outputs": [
    {
     "data": {
      "text/plain": [
       "price\n",
       "nan                              89687\n",
       "Free                               905\n",
       "Free to Play                       520\n",
       "Free To Play                       462\n",
       "Free Mod                             4\n",
       "Free Demo                            3\n",
       "Play for Free!                       2\n",
       "Third-party                          2\n",
       "Play Now                             2\n",
       "Starting at $499.00                  1\n",
       "Free Movie                           1\n",
       "Free to Try                          1\n",
       "Starting at $449.00                  1\n",
       "Install Theme                        1\n",
       "Play the Demo                        1\n",
       "Free HITMAN™ Holiday Pack            1\n",
       "Play WARMACHINE: Tactics Demo        1\n",
       "Install Now                          1\n",
       "Free to Use                          1\n",
       "Name: count, dtype: int64"
      ]
     },
     "execution_count": 352,
     "metadata": {},
     "output_type": "execute_result"
    }
   ],
   "source": [
    "# Convierto 'price' en texto para asegurarnos que se puede manipular correctamente\n",
    "df_steam_games['price'] = df_steam_games['price'].astype(str)\n",
    "\n",
    "# Filtro valores que NO pueden ser convertidos a número (es decir, son texto) y cuento\n",
    "df_steam_games[~df_steam_games['price'].str.replace('.', '', 1).str.isnumeric()]['price'].value_counts()"
   ]
  },
  {
   "cell_type": "markdown",
   "metadata": {},
   "source": [
    "- Como resultado se observa:\n",
    "    - \"nan\": son valores nulos, se tratarán como nulos al momento de transformar \"price\" en valor numérico nuevamente.\n",
    "    - La gran mayoría contienen la palabra \"Free\". \n",
    "    - Modificamos valores específicos (449 y 499).\n",
    "    - Se toman los que no son \"nan\" y no son número y se le asigna valor \"0\" USD. \n",
    "    - Se crea una columna \"Free\" = True or False para un mejor funcionamiento de la API. Free = True son aquelos que valen \"0\" USD"
   ]
  },
  {
   "cell_type": "code",
   "execution_count": 353,
   "metadata": {},
   "outputs": [
    {
     "name": "stdout",
     "output_type": "stream",
     "text": [
      "1908\n"
     ]
    }
   ],
   "source": [
    "# Reemplazo valores específicos\n",
    "df_steam_games['price'] = df_steam_games['price'].replace('Starting at $499.00', '499')\n",
    "df_steam_games['price'] = df_steam_games['price'].replace('Starting at $449.00', '449')\n",
    "\n",
    "# Reemplazo los demás valores texto por $0, excepto los \"nan\"\n",
    "df_steam_games['price'] = df_steam_games['price'].apply( lambda x: 0 if (x != 'nan' and not x.replace('.', '', 1).isnumeric()) else x)\n",
    "\n",
    "# Convierto la colmna \"price\" a tipo float y los \"nan\" a \"NaN\"\n",
    "df_steam_games['price'] = pd.to_numeric(df_steam_games['price'], errors='coerce')\n",
    "\n",
    "# Creo la columna 'Free', donde si el precio es 0 la columna es \"True\" - Servirá para análisis posteriores.\n",
    "df_steam_games['free'] = df_steam_games['price'].apply(lambda x: True if x == 0 else False)\n",
    "\n",
    "#Verifico que la cantidad de \"Free\" coincida con la cantidad calculada anterior (sin contar los dos \"starting\" y los nan)\n",
    "cantidad_free = df_steam_games['free'].sum()\n",
    "print(cantidad_free)"
   ]
  },
  {
   "cell_type": "markdown",
   "metadata": {},
   "source": [
    "- Se realizan las siguientes modificaciones adicionales:\n",
    "    - Se reemplazan valores \"None\" por nulos de numpy\n",
    "    - Se descartan todas las filas que tengan todos los campos Nulos.\n",
    "    - Se modifica el formato del campo fecha como DateTime.\n",
    "    - Se crea una columna con el año que se va a requerir en la API."
   ]
  },
  {
   "cell_type": "code",
   "execution_count": 354,
   "metadata": {},
   "outputs": [],
   "source": [
    "# Reemplazo None por np.nan \n",
    "df_steam_games = df_steam_games.replace({None: np.nan})\n",
    "\n",
    "# Elilmino filas donde TODOS los valores son nulos: si todos los valores de la fila son nulos los puedo descartar seguro.\n",
    "df_steam_games = df_steam_games.dropna(how='all')\n",
    "\n",
    "# Modifico el formato de 'release_date' para poder usarlo como fecha.\n",
    "df_steam_games['release_date'] = pd.to_datetime(df_steam_games['release_date'], errors='coerce')\n",
    "\n",
    "# Creo la columna con el año de 'release_date' que se necesita en la función \"developer\"\n",
    "df_steam_games['year'] = df_steam_games['release_date'].dt.year\n"
   ]
  },
  {
   "cell_type": "markdown",
   "metadata": {},
   "source": [
    "- Tratamiento de columna id:\n",
    "    - Se renombra el campo id para que coincida con la tabla de users_items. \n",
    "    - Se cuentan los nulos, y se decide eliminarlos.  (Podría cruzarlo a partir del app_name con item_name del archivo de users_items (para una instancia posterior))\n",
    "    - Se eliminan todas las filas que tengan un nulo en el iitem_id\n",
    "    - Se transforma a Integer"
   ]
  },
  {
   "cell_type": "code",
   "execution_count": 355,
   "metadata": {},
   "outputs": [],
   "source": [
    "# Renombro id a item_id para que coincida con el dataseet de users_items\n",
    "df_steam_games = df_steam_games.rename(columns={'id': 'item_id'})"
   ]
  },
  {
   "cell_type": "code",
   "execution_count": 356,
   "metadata": {},
   "outputs": [
    {
     "name": "stdout",
     "output_type": "stream",
     "text": [
      "88312\n"
     ]
    }
   ],
   "source": [
    "# Cuento los valores nulos en id. Estas líneas no sirven si no puedo identificar el id del item.\n",
    "print(df_steam_games['item_id'].isnull().sum())\n"
   ]
  },
  {
   "cell_type": "code",
   "execution_count": 357,
   "metadata": {},
   "outputs": [],
   "source": [
    "# Elimino filas donde item_id es nulo\n",
    "df_steam_games = df_steam_games.dropna(subset=['item_id'])"
   ]
  },
  {
   "cell_type": "code",
   "execution_count": 358,
   "metadata": {},
   "outputs": [
    {
     "data": {
      "text/plain": [
       "Series([], Name: count, dtype: int64)"
      ]
     },
     "execution_count": 358,
     "metadata": {},
     "output_type": "execute_result"
    }
   ],
   "source": [
    "# Verifico que todos los item_id son números.\n",
    "df_steam_games[~df_steam_games['item_id'].str.isnumeric()]['item_id'].value_counts()"
   ]
  },
  {
   "cell_type": "code",
   "execution_count": 359,
   "metadata": {},
   "outputs": [],
   "source": [
    "# Convierto la colmna \"item_id\" a int \n",
    "df_steam_games['item_id'] = df_steam_games['item_id'].astype('Int64')"
   ]
  },
  {
   "cell_type": "code",
   "execution_count": 360,
   "metadata": {},
   "outputs": [
    {
     "name": "stdout",
     "output_type": "stream",
     "text": [
      "<class 'pandas.core.frame.DataFrame'>\n",
      "Index: 32133 entries, 88310 to 120444\n",
      "Data columns (total 15 columns):\n",
      " #   Column        Non-Null Count  Dtype         \n",
      "---  ------        --------------  -----         \n",
      " 0   publisher     24082 non-null  object        \n",
      " 1   genres        28851 non-null  object        \n",
      " 2   app_name      32132 non-null  object        \n",
      " 3   title         30084 non-null  object        \n",
      " 4   url           32133 non-null  object        \n",
      " 5   release_date  29782 non-null  datetime64[ns]\n",
      " 6   tags          31971 non-null  object        \n",
      " 7   reviews_url   32133 non-null  object        \n",
      " 8   specs         31464 non-null  object        \n",
      " 9   price         30756 non-null  float64       \n",
      " 10  early_access  32133 non-null  object        \n",
      " 11  item_id       32133 non-null  Int64         \n",
      " 12  developer     28835 non-null  object        \n",
      " 13  free          32133 non-null  bool          \n",
      " 14  year          29782 non-null  float64       \n",
      "dtypes: Int64(1), bool(1), datetime64[ns](1), float64(2), object(10)\n",
      "memory usage: 3.7+ MB\n"
     ]
    }
   ],
   "source": [
    "df_steam_games.info()"
   ]
  },
  {
   "cell_type": "markdown",
   "metadata": {},
   "source": [
    "- Análisis de duplicados:\n",
    "    - Se cuentan la cantidad de filas duplicadas consderando en una primera instancia sólo las columnas necesarias en la API, y luego considerando todas aquellas que no tienen un Array dentro."
   ]
  },
  {
   "cell_type": "code",
   "execution_count": 361,
   "metadata": {},
   "outputs": [
    {
     "name": "stdout",
     "output_type": "stream",
     "text": [
      "1\n"
     ]
    }
   ],
   "source": [
    "# Contar la cantidad de líneas duplicadas - Considero las columnas que voy a utilziar en la API menos la de \"genres\" que tiene un Array dentro.\n",
    "duplicated_count = df_steam_games.duplicated(subset = ['release_date', 'price', 'item_id', 'developer','year','free']).sum()\n",
    "print(duplicated_count )"
   ]
  },
  {
   "cell_type": "code",
   "execution_count": 362,
   "metadata": {},
   "outputs": [
    {
     "data": {
      "text/html": [
       "<div>\n",
       "<style scoped>\n",
       "    .dataframe tbody tr th:only-of-type {\n",
       "        vertical-align: middle;\n",
       "    }\n",
       "\n",
       "    .dataframe tbody tr th {\n",
       "        vertical-align: top;\n",
       "    }\n",
       "\n",
       "    .dataframe thead th {\n",
       "        text-align: right;\n",
       "    }\n",
       "</style>\n",
       "<table border=\"1\" class=\"dataframe\">\n",
       "  <thead>\n",
       "    <tr style=\"text-align: right;\">\n",
       "      <th></th>\n",
       "      <th>publisher</th>\n",
       "      <th>genres</th>\n",
       "      <th>app_name</th>\n",
       "      <th>title</th>\n",
       "      <th>url</th>\n",
       "      <th>release_date</th>\n",
       "      <th>tags</th>\n",
       "      <th>reviews_url</th>\n",
       "      <th>specs</th>\n",
       "      <th>price</th>\n",
       "      <th>early_access</th>\n",
       "      <th>item_id</th>\n",
       "      <th>developer</th>\n",
       "      <th>free</th>\n",
       "      <th>year</th>\n",
       "    </tr>\n",
       "  </thead>\n",
       "  <tbody>\n",
       "    <tr>\n",
       "      <th>102204</th>\n",
       "      <td>Bethesda Softworks</td>\n",
       "      <td>[Action]</td>\n",
       "      <td>Wolfenstein II: The New Colossus</td>\n",
       "      <td>Wolfenstein II: The New Colossus</td>\n",
       "      <td>http://store.steampowered.com/app/612880/</td>\n",
       "      <td>2017-10-26</td>\n",
       "      <td>[Action, FPS, Gore, Violent, Alternate History...</td>\n",
       "      <td>http://steamcommunity.com/app/612880/reviews/?...</td>\n",
       "      <td>[Single-player, Steam Achievements, Full contr...</td>\n",
       "      <td>59.99</td>\n",
       "      <td>False</td>\n",
       "      <td>612880</td>\n",
       "      <td>Machine Games</td>\n",
       "      <td>False</td>\n",
       "      <td>2017.0</td>\n",
       "    </tr>\n",
       "    <tr>\n",
       "      <th>102883</th>\n",
       "      <td>Bethesda Softworks</td>\n",
       "      <td>[Action]</td>\n",
       "      <td>Wolfenstein II: The New Colossus</td>\n",
       "      <td>Wolfenstein II: The New Colossus</td>\n",
       "      <td>http://store.steampowered.com/app/612880/Wolfe...</td>\n",
       "      <td>2017-10-26</td>\n",
       "      <td>[Action, FPS, Gore, Violent, Alternate History...</td>\n",
       "      <td>http://steamcommunity.com/app/612880/reviews/?...</td>\n",
       "      <td>[Single-player, Steam Achievements, Full contr...</td>\n",
       "      <td>59.99</td>\n",
       "      <td>False</td>\n",
       "      <td>612880</td>\n",
       "      <td>Machine Games</td>\n",
       "      <td>False</td>\n",
       "      <td>2017.0</td>\n",
       "    </tr>\n",
       "  </tbody>\n",
       "</table>\n",
       "</div>"
      ],
      "text/plain": [
       "                 publisher    genres                          app_name  \\\n",
       "102204  Bethesda Softworks  [Action]  Wolfenstein II: The New Colossus   \n",
       "102883  Bethesda Softworks  [Action]  Wolfenstein II: The New Colossus   \n",
       "\n",
       "                                   title  \\\n",
       "102204  Wolfenstein II: The New Colossus   \n",
       "102883  Wolfenstein II: The New Colossus   \n",
       "\n",
       "                                                      url release_date  \\\n",
       "102204          http://store.steampowered.com/app/612880/   2017-10-26   \n",
       "102883  http://store.steampowered.com/app/612880/Wolfe...   2017-10-26   \n",
       "\n",
       "                                                     tags  \\\n",
       "102204  [Action, FPS, Gore, Violent, Alternate History...   \n",
       "102883  [Action, FPS, Gore, Violent, Alternate History...   \n",
       "\n",
       "                                              reviews_url  \\\n",
       "102204  http://steamcommunity.com/app/612880/reviews/?...   \n",
       "102883  http://steamcommunity.com/app/612880/reviews/?...   \n",
       "\n",
       "                                                    specs  price early_access  \\\n",
       "102204  [Single-player, Steam Achievements, Full contr...  59.99        False   \n",
       "102883  [Single-player, Steam Achievements, Full contr...  59.99        False   \n",
       "\n",
       "        item_id      developer   free    year  \n",
       "102204   612880  Machine Games  False  2017.0  \n",
       "102883   612880  Machine Games  False  2017.0  "
      ]
     },
     "execution_count": 362,
     "metadata": {},
     "output_type": "execute_result"
    }
   ],
   "source": [
    "# Filtrar las líneas duplicadas\n",
    "duplicated_rows = df_steam_games[df_steam_games.duplicated(subset=['release_date', 'price', 'item_id', 'developer', 'year', 'free'], keep=False)]\n",
    "duplicated_rows.head()"
   ]
  },
  {
   "cell_type": "code",
   "execution_count": 363,
   "metadata": {},
   "outputs": [],
   "source": [
    "# Elimino duplicados en base al subconjunto de columnas\n",
    "df_steam_games_cleaned = df_steam_games.drop_duplicates(subset=['release_date', 'price', 'item_id', 'developer', 'year', 'free'], keep='first')"
   ]
  },
  {
   "cell_type": "code",
   "execution_count": 364,
   "metadata": {},
   "outputs": [
    {
     "name": "stdout",
     "output_type": "stream",
     "text": [
      "<class 'pandas.core.frame.DataFrame'>\n",
      "Index: 32133 entries, 88310 to 120444\n",
      "Data columns (total 15 columns):\n",
      " #   Column        Non-Null Count  Dtype         \n",
      "---  ------        --------------  -----         \n",
      " 0   publisher     24082 non-null  object        \n",
      " 1   genres        28851 non-null  object        \n",
      " 2   app_name      32132 non-null  object        \n",
      " 3   title         30084 non-null  object        \n",
      " 4   url           32133 non-null  object        \n",
      " 5   release_date  29782 non-null  datetime64[ns]\n",
      " 6   tags          31971 non-null  object        \n",
      " 7   reviews_url   32133 non-null  object        \n",
      " 8   specs         31464 non-null  object        \n",
      " 9   price         30756 non-null  float64       \n",
      " 10  early_access  32133 non-null  object        \n",
      " 11  item_id       32133 non-null  Int64         \n",
      " 12  developer     28835 non-null  object        \n",
      " 13  free          32133 non-null  bool          \n",
      " 14  year          29782 non-null  float64       \n",
      "dtypes: Int64(1), bool(1), datetime64[ns](1), float64(2), object(10)\n",
      "memory usage: 3.7+ MB\n"
     ]
    }
   ],
   "source": [
    "# Observamos resultado\n",
    "df_steam_games.info()"
   ]
  },
  {
   "cell_type": "code",
   "execution_count": 365,
   "metadata": {},
   "outputs": [
    {
     "name": "stdout",
     "output_type": "stream",
     "text": [
      "0\n"
     ]
    }
   ],
   "source": [
    "# Contar la cantidad de líneas duplicadas - Considero todas las columnas menos las que tienen Arrays dentro\n",
    "duplicated_count = df_steam_games.duplicated(subset=df_steam_games.columns.difference(['genres','specs','tags'])).sum()\n",
    "print(duplicated_count )"
   ]
  },
  {
   "cell_type": "markdown",
   "metadata": {},
   "source": [
    "- Se analiza la columna developer para unificar valores distintos:\n",
    "    - La desnormalización del developer es muy grande.\n",
    "    - Si hay tiempo se intentará scrapear este dato nuevamente. "
   ]
  },
  {
   "cell_type": "code",
   "execution_count": 372,
   "metadata": {},
   "outputs": [],
   "source": [
    "# Transforo la columna 'developer' al tipo oración y elimino espacios extra\n",
    "df_steam_games['developer'] = df_steam_games['developer'].fillna('').astype(str).str.capitalize().str.strip()\n",
    "\n",
    "# Valores únicos ordenados alfabéticamente\n",
    "sorted_developers = sorted(df_steam_games['developer'].unique())\n",
    "\n",
    "# Los exporto para analizarlos en csv.\n",
    "df_sorted_developers = pd.DataFrame(sorted_developers, columns=['developer'])\n",
    "df_sorted_developers.to_csv('sorted_developers.csv', index=False)\n"
   ]
  },
  {
   "cell_type": "markdown",
   "metadata": {},
   "source": [
    "- Se analizan outliers de price y de release_date."
   ]
  },
  {
   "cell_type": "code",
   "execution_count": 311,
   "metadata": {},
   "outputs": [
    {
     "name": "stdout",
     "output_type": "stream",
     "text": [
      "                        release_date         price        item_id  \\\n",
      "count                          29782  30756.000000        32133.0   \n",
      "mean   2015-04-21 10:49:09.916056832      8.896955  451757.412909   \n",
      "min              1970-07-15 00:00:00      0.000000           10.0   \n",
      "25%              2014-10-01 00:00:00      2.990000       329280.0   \n",
      "50%              2016-04-18 00:00:00      4.990000       452060.0   \n",
      "75%              2017-04-17 00:00:00      9.990000       593400.0   \n",
      "max              2021-12-31 00:00:00    995.000000      2028850.0   \n",
      "std                              NaN     16.341118  182714.045546   \n",
      "\n",
      "               year  \n",
      "count  29782.000000  \n",
      "mean    2014.759251  \n",
      "min     1970.000000  \n",
      "25%     2014.000000  \n",
      "50%     2016.000000  \n",
      "75%     2017.000000  \n",
      "max     2021.000000  \n",
      "std        3.508234  \n"
     ]
    }
   ],
   "source": [
    "print(df_steam_games.describe())"
   ]
  },
  {
   "cell_type": "markdown",
   "metadata": {},
   "source": [
    "- \"release_date\" tiene fechas razonables. Se presentaron dudas sobre la fecha más vieja, 15/07/1970, pero se verifica en la web.\n",
    "\n",
    "<img src=\"../_src/Juego_Más_Viejo.PNG\" height=\"300\"><br>"
   ]
  },
  {
   "cell_type": "code",
   "execution_count": 312,
   "metadata": {},
   "outputs": [
    {
     "data": {
      "text/html": [
       "<div>\n",
       "<style scoped>\n",
       "    .dataframe tbody tr th:only-of-type {\n",
       "        vertical-align: middle;\n",
       "    }\n",
       "\n",
       "    .dataframe tbody tr th {\n",
       "        vertical-align: top;\n",
       "    }\n",
       "\n",
       "    .dataframe thead th {\n",
       "        text-align: right;\n",
       "    }\n",
       "</style>\n",
       "<table border=\"1\" class=\"dataframe\">\n",
       "  <thead>\n",
       "    <tr style=\"text-align: right;\">\n",
       "      <th></th>\n",
       "      <th>publisher</th>\n",
       "      <th>genres</th>\n",
       "      <th>app_name</th>\n",
       "      <th>title</th>\n",
       "      <th>url</th>\n",
       "      <th>release_date</th>\n",
       "      <th>tags</th>\n",
       "      <th>reviews_url</th>\n",
       "      <th>specs</th>\n",
       "      <th>price</th>\n",
       "      <th>early_access</th>\n",
       "      <th>item_id</th>\n",
       "      <th>developer</th>\n",
       "      <th>free</th>\n",
       "      <th>year</th>\n",
       "    </tr>\n",
       "  </thead>\n",
       "  <tbody>\n",
       "    <tr>\n",
       "      <th>103157</th>\n",
       "      <td>NaN</td>\n",
       "      <td>NaN</td>\n",
       "      <td>Last Train To Berlin</td>\n",
       "      <td>Last Train To Berlin</td>\n",
       "      <td>http://store.steampowered.com/app/734030/Last_...</td>\n",
       "      <td>1970-07-15</td>\n",
       "      <td>[Movie]</td>\n",
       "      <td>http://steamcommunity.com/app/734030/reviews/?...</td>\n",
       "      <td>[Captions available]</td>\n",
       "      <td>3.99</td>\n",
       "      <td>False</td>\n",
       "      <td>734030</td>\n",
       "      <td>NaN</td>\n",
       "      <td>False</td>\n",
       "      <td>1970.0</td>\n",
       "    </tr>\n",
       "  </tbody>\n",
       "</table>\n",
       "</div>"
      ],
      "text/plain": [
       "       publisher genres              app_name                 title  \\\n",
       "103157       NaN    NaN  Last Train To Berlin  Last Train To Berlin   \n",
       "\n",
       "                                                      url release_date  \\\n",
       "103157  http://store.steampowered.com/app/734030/Last_...   1970-07-15   \n",
       "\n",
       "           tags                                        reviews_url  \\\n",
       "103157  [Movie]  http://steamcommunity.com/app/734030/reviews/?...   \n",
       "\n",
       "                       specs  price early_access  item_id developer   free  \\\n",
       "103157  [Captions available]   3.99        False   734030       NaN  False   \n",
       "\n",
       "          year  \n",
       "103157  1970.0  "
      ]
     },
     "execution_count": 312,
     "metadata": {},
     "output_type": "execute_result"
    }
   ],
   "source": [
    "df_steam_games[df_steam_games['release_date'] == df_steam_games['release_date'].min()]"
   ]
  },
  {
   "cell_type": "markdown",
   "metadata": {},
   "source": [
    "- \"price\": si bien la media es baja, los valores extremos no parecieran estar errados, es razonable que un juego pueda valer 995 USD."
   ]
  },
  {
   "cell_type": "code",
   "execution_count": 313,
   "metadata": {},
   "outputs": [
    {
     "data": {
      "image/png": "[encoded data removed]",
      "text/plain": [
       "<Figure size 1500x600 with 2 Axes>"
      ]
     },
     "metadata": {},
     "output_type": "display_data"
    }
   ],
   "source": [
    "import seaborn as sns\n",
    "import matplotlib.pyplot as plt\n",
    "\n",
    "# Creo un boxplot para la columna 'price' usando seaborn\n",
    "# Creo la figura y los subgráficos\n",
    "fig, axes = plt.subplots(1, 2, figsize=(15, 6))\n",
    "\n",
    "# Primer boxplot con todos los precios\n",
    "sns.boxplot(y=df_steam_games['price'], ax=axes[0])\n",
    "axes[0].set_title('Boxplot del Precio de los Juegos (Todos)')\n",
    "axes[0].set_ylabel('Precio')\n",
    "axes[0].grid(axis='y')\n",
    "\n",
    "# Segundo boxplot recortado a un precio máximo de 20\n",
    "sns.boxplot(y=df_steam_games['price'], ax=axes[1])\n",
    "axes[1].set_title('Boxplot del Precio de los Juegos (Máximo 20)')\n",
    "axes[1].set_ylabel('Precio')\n",
    "axes[1].grid(axis='y')\n",
    "axes[1].set_ylim(0, 20)\n",
    "\n",
    "\n",
    "# Mostrar los gráficos\n",
    "plt.tight_layout()\n",
    "plt.show()\n"
   ]
  },
  {
   "cell_type": "code",
   "execution_count": 314,
   "metadata": {},
   "outputs": [],
   "source": [
    "# Guardo el DF depurado con todas las columnas.\n",
    "df_steam_games.to_parquet('..\\\\datasets\\\\2. Depurado\\\\steam_games_depurado.parquet', index=False)\n",
    "\n",
    "# # Me quedo con las columnas que voy a usar en la API: genres, released_date, price, item_id  y developer\n",
    "# lista_columnas = ['genres', 'release_date', 'price', 'item_id', 'developer','year','free']\n",
    "# df_steam_games = df_steam_games[lista_columnas]\n",
    "\n",
    "# # Guardo el DF para levantarlo con la API.\n",
    "# df_steam_games.to_parquet('..\\\\datasets\\\\3. Depurado y Reducido\\\\steam_games_dep_reducido.parquet', index=False)"
   ]
  },
  {
   "cell_type": "markdown",
   "metadata": {},
   "source": [
    "---\n",
    "# Depuración de users_reviews"
   ]
  },
  {
   "cell_type": "code",
   "execution_count": 315,
   "metadata": {},
   "outputs": [],
   "source": [
    "# #Levanto los datos\n",
    "df_reviews = pd.read_parquet('..\\\\datasets\\\\1. Extracción\\\\user_reviews.parquet')"
   ]
  },
  {
   "cell_type": "code",
   "execution_count": 316,
   "metadata": {},
   "outputs": [
    {
     "name": "stdout",
     "output_type": "stream",
     "text": [
      "<class 'pandas.core.frame.DataFrame'>\n",
      "RangeIndex: 59333 entries, 0 to 59332\n",
      "Data columns (total 8 columns):\n",
      " #   Column     Non-Null Count  Dtype \n",
      "---  ------     --------------  ----- \n",
      " 0   user_id    59333 non-null  object\n",
      " 1   user_url   59333 non-null  object\n",
      " 2   item_id    59305 non-null  object\n",
      " 3   posted     59305 non-null  object\n",
      " 4   helpful    59305 non-null  object\n",
      " 5   recommend  59305 non-null  object\n",
      " 6   funny      59305 non-null  object\n",
      " 7   review     59305 non-null  object\n",
      "dtypes: object(8)\n",
      "memory usage: 3.6+ MB\n"
     ]
    }
   ],
   "source": [
    "df_reviews.info()"
   ]
  },
  {
   "cell_type": "markdown",
   "metadata": {},
   "source": [
    "- Se realiza el análisis de nulos de forma similar an el dataset anterior."
   ]
  },
  {
   "cell_type": "code",
   "execution_count": 317,
   "metadata": {},
   "outputs": [
    {
     "name": "stdout",
     "output_type": "stream",
     "text": [
      "0\n"
     ]
    }
   ],
   "source": [
    "# Cuento los valores nulos en user_id. \n",
    "print(df_reviews['user_id'].isnull().sum())"
   ]
  },
  {
   "cell_type": "code",
   "execution_count": 318,
   "metadata": {},
   "outputs": [
    {
     "name": "stdout",
     "output_type": "stream",
     "text": [
      "28\n"
     ]
    }
   ],
   "source": [
    "# Cuento los valores nulos en item_id. \n",
    "print(df_reviews['item_id'].isnull().sum())"
   ]
  },
  {
   "cell_type": "code",
   "execution_count": 319,
   "metadata": {},
   "outputs": [],
   "source": [
    "# Elimino filas donde item_id es nulo ya que no me sirve para relacionarlo con otras tablas.\n",
    "df_reviews = df_reviews.dropna(subset=['item_id'])"
   ]
  },
  {
   "cell_type": "code",
   "execution_count": 320,
   "metadata": {},
   "outputs": [
    {
     "data": {
      "text/plain": [
       "Series([], Name: count, dtype: int64)"
      ]
     },
     "execution_count": 320,
     "metadata": {},
     "output_type": "execute_result"
    }
   ],
   "source": [
    "# Verifico que todos los item_id son números.\n",
    "df_reviews[~df_reviews['item_id'].str.isnumeric()]['item_id'].value_counts()"
   ]
  },
  {
   "cell_type": "code",
   "execution_count": 321,
   "metadata": {},
   "outputs": [],
   "source": [
    "# Convierto la colmna \"item_id\" a int \n",
    "df_reviews['item_id'] = df_reviews['item_id'].astype('Int64')"
   ]
  },
  {
   "cell_type": "markdown",
   "metadata": {},
   "source": [
    "- Análisis de duplicados:"
   ]
  },
  {
   "cell_type": "code",
   "execution_count": 322,
   "metadata": {},
   "outputs": [
    {
     "name": "stdout",
     "output_type": "stream",
     "text": [
      "Cantidad de líneas duplicadas (no cuenta la primera aparición): 874\n",
      "Cantidad de líneas duplicadas (contamos todas las apariciones): 1736\n",
      "Cantidad de relaciones user_id - item_id repetidas: 862\n",
      "Suma de las repeticiones mayores a 1: count    1736\n",
      "dtype: int64\n"
     ]
    }
   ],
   "source": [
    "# Cuento la cantidad de líneas duplicadas - No cuenta la primera aparición.\n",
    "duplicated_count = df_reviews.duplicated().sum()\n",
    "\n",
    "# Cuento la cantidad de líneas duplicadas (contando todas las apariciones)\n",
    "total_duplicated_count = df_reviews.duplicated(keep=False).sum()\n",
    "\n",
    "# Cuento la cantidad de veces que ocurre la relación de cada combinación user_id - item_id\n",
    "repeated_relationships = df_reviews.groupby(['user_id', 'item_id']).size().reset_index(name='count')\n",
    "\n",
    "# Filtro las relaciones que se repiten\n",
    "repeated_relationships = repeated_relationships[repeated_relationships['count'] > 1]\n",
    "\n",
    "# Sumo las duplicaciones\n",
    "count_repeated_relationships = repeated_relationships[['count']].sum()\n",
    "\n",
    "# Muestro los resultados\n",
    "print(f'Cantidad de líneas duplicadas (no cuenta la primera aparición): {duplicated_count}')\n",
    "print(f'Cantidad de líneas duplicadas (contamos todas las apariciones): {total_duplicated_count}')\n",
    "print(f'Cantidad de relaciones user_id - item_id repetidas: {repeated_relationships.shape[0]}')\n",
    "print(f'Suma de las repeticiones mayores a 1: {count_repeated_relationships}')\n"
   ]
  },
  {
   "cell_type": "code",
   "execution_count": 323,
   "metadata": {},
   "outputs": [
    {
     "data": {
      "text/html": [
       "<div>\n",
       "<style scoped>\n",
       "    .dataframe tbody tr th:only-of-type {\n",
       "        vertical-align: middle;\n",
       "    }\n",
       "\n",
       "    .dataframe tbody tr th {\n",
       "        vertical-align: top;\n",
       "    }\n",
       "\n",
       "    .dataframe thead th {\n",
       "        text-align: right;\n",
       "    }\n",
       "</style>\n",
       "<table border=\"1\" class=\"dataframe\">\n",
       "  <thead>\n",
       "    <tr style=\"text-align: right;\">\n",
       "      <th></th>\n",
       "      <th>user_id</th>\n",
       "      <th>item_id</th>\n",
       "      <th>count</th>\n",
       "    </tr>\n",
       "  </thead>\n",
       "  <tbody>\n",
       "    <tr>\n",
       "      <th>91</th>\n",
       "      <td>05041129</td>\n",
       "      <td>440</td>\n",
       "      <td>2</td>\n",
       "    </tr>\n",
       "    <tr>\n",
       "      <th>92</th>\n",
       "      <td>05041129</td>\n",
       "      <td>730</td>\n",
       "      <td>2</td>\n",
       "    </tr>\n",
       "    <tr>\n",
       "      <th>93</th>\n",
       "      <td>05041129</td>\n",
       "      <td>277430</td>\n",
       "      <td>2</td>\n",
       "    </tr>\n",
       "    <tr>\n",
       "      <th>184</th>\n",
       "      <td>111222333444555666888</td>\n",
       "      <td>730</td>\n",
       "      <td>2</td>\n",
       "    </tr>\n",
       "    <tr>\n",
       "      <th>185</th>\n",
       "      <td>111222333444555666888</td>\n",
       "      <td>8870</td>\n",
       "      <td>2</td>\n",
       "    </tr>\n",
       "    <tr>\n",
       "      <th>...</th>\n",
       "      <td>...</td>\n",
       "      <td>...</td>\n",
       "      <td>...</td>\n",
       "    </tr>\n",
       "    <tr>\n",
       "      <th>57757</th>\n",
       "      <td>xXAussieRockXx</td>\n",
       "      <td>220240</td>\n",
       "      <td>2</td>\n",
       "    </tr>\n",
       "    <tr>\n",
       "      <th>57758</th>\n",
       "      <td>xXAussieRockXx</td>\n",
       "      <td>304050</td>\n",
       "      <td>2</td>\n",
       "    </tr>\n",
       "    <tr>\n",
       "      <th>58019</th>\n",
       "      <td>yolofaceguy</td>\n",
       "      <td>250320</td>\n",
       "      <td>2</td>\n",
       "    </tr>\n",
       "    <tr>\n",
       "      <th>58020</th>\n",
       "      <td>yolofaceguy</td>\n",
       "      <td>261030</td>\n",
       "      <td>2</td>\n",
       "    </tr>\n",
       "    <tr>\n",
       "      <th>58282</th>\n",
       "      <td>zeroblade</td>\n",
       "      <td>219640</td>\n",
       "      <td>2</td>\n",
       "    </tr>\n",
       "  </tbody>\n",
       "</table>\n",
       "<p>862 rows × 3 columns</p>\n",
       "</div>"
      ],
      "text/plain": [
       "                     user_id  item_id  count\n",
       "91                  05041129      440      2\n",
       "92                  05041129      730      2\n",
       "93                  05041129   277430      2\n",
       "184    111222333444555666888      730      2\n",
       "185    111222333444555666888     8870      2\n",
       "...                      ...      ...    ...\n",
       "57757         xXAussieRockXx   220240      2\n",
       "57758         xXAussieRockXx   304050      2\n",
       "58019            yolofaceguy   250320      2\n",
       "58020            yolofaceguy   261030      2\n",
       "58282              zeroblade   219640      2\n",
       "\n",
       "[862 rows x 3 columns]"
      ]
     },
     "execution_count": 323,
     "metadata": {},
     "output_type": "execute_result"
    }
   ],
   "source": [
    "# Visualizo las relaciones que se repiten\n",
    "repeated_relationships[repeated_relationships['count'] > 1]"
   ]
  },
  {
   "cell_type": "code",
   "execution_count": 324,
   "metadata": {},
   "outputs": [
    {
     "data": {
      "text/html": [
       "<div>\n",
       "<style scoped>\n",
       "    .dataframe tbody tr th:only-of-type {\n",
       "        vertical-align: middle;\n",
       "    }\n",
       "\n",
       "    .dataframe tbody tr th {\n",
       "        vertical-align: top;\n",
       "    }\n",
       "\n",
       "    .dataframe thead th {\n",
       "        text-align: right;\n",
       "    }\n",
       "</style>\n",
       "<table border=\"1\" class=\"dataframe\">\n",
       "  <thead>\n",
       "    <tr style=\"text-align: right;\">\n",
       "      <th></th>\n",
       "      <th>user_id</th>\n",
       "      <th>user_url</th>\n",
       "      <th>item_id</th>\n",
       "      <th>posted</th>\n",
       "      <th>helpful</th>\n",
       "      <th>recommend</th>\n",
       "      <th>funny</th>\n",
       "      <th>review</th>\n",
       "    </tr>\n",
       "  </thead>\n",
       "  <tbody>\n",
       "    <tr>\n",
       "      <th>13415</th>\n",
       "      <td>05041129</td>\n",
       "      <td>http://steamcommunity.com/id/05041129</td>\n",
       "      <td>277430</td>\n",
       "      <td>Posted January 5, 2015.</td>\n",
       "      <td>1 of 1 people (100%) found this review helpful</td>\n",
       "      <td>True</td>\n",
       "      <td>1 person found this review funny</td>\n",
       "      <td>this is the best third person game ever that i...</td>\n",
       "    </tr>\n",
       "    <tr>\n",
       "      <th>32000</th>\n",
       "      <td>05041129</td>\n",
       "      <td>http://steamcommunity.com/id/05041129</td>\n",
       "      <td>277430</td>\n",
       "      <td>Posted January 5, 2015.</td>\n",
       "      <td>1 of 1 people (100%) found this review helpful</td>\n",
       "      <td>True</td>\n",
       "      <td>1 person found this review funny</td>\n",
       "      <td>this is the best third person game ever that i...</td>\n",
       "    </tr>\n",
       "  </tbody>\n",
       "</table>\n",
       "</div>"
      ],
      "text/plain": [
       "        user_id                               user_url  item_id  \\\n",
       "13415  05041129  http://steamcommunity.com/id/05041129   277430   \n",
       "32000  05041129  http://steamcommunity.com/id/05041129   277430   \n",
       "\n",
       "                        posted  \\\n",
       "13415  Posted January 5, 2015.   \n",
       "32000  Posted January 5, 2015.   \n",
       "\n",
       "                                              helpful recommend  \\\n",
       "13415  1 of 1 people (100%) found this review helpful      True   \n",
       "32000  1 of 1 people (100%) found this review helpful      True   \n",
       "\n",
       "                                  funny  \\\n",
       "13415  1 person found this review funny   \n",
       "32000  1 person found this review funny   \n",
       "\n",
       "                                                  review  \n",
       "13415  this is the best third person game ever that i...  \n",
       "32000  this is the best third person game ever that i...  "
      ]
     },
     "execution_count": 324,
     "metadata": {},
     "output_type": "execute_result"
    }
   ],
   "source": [
    "# Verifico con un ejemplo\n",
    "filtered_reviews = df_reviews[(df_reviews[\"user_id\"] == \"05041129\") & (df_reviews[\"item_id\"] == 277430) ]\n",
    "\n",
    "# Mostrar el DataFrame filtrado\n",
    "filtered_reviews.head()"
   ]
  },
  {
   "cell_type": "code",
   "execution_count": 325,
   "metadata": {},
   "outputs": [
    {
     "data": {
      "text/html": [
       "<div>\n",
       "<style scoped>\n",
       "    .dataframe tbody tr th:only-of-type {\n",
       "        vertical-align: middle;\n",
       "    }\n",
       "\n",
       "    .dataframe tbody tr th {\n",
       "        vertical-align: top;\n",
       "    }\n",
       "\n",
       "    .dataframe thead th {\n",
       "        text-align: right;\n",
       "    }\n",
       "</style>\n",
       "<table border=\"1\" class=\"dataframe\">\n",
       "  <thead>\n",
       "    <tr style=\"text-align: right;\">\n",
       "      <th></th>\n",
       "      <th>user_id</th>\n",
       "      <th>user_url</th>\n",
       "      <th>item_id</th>\n",
       "      <th>posted</th>\n",
       "      <th>helpful</th>\n",
       "      <th>recommend</th>\n",
       "      <th>funny</th>\n",
       "      <th>review</th>\n",
       "    </tr>\n",
       "  </thead>\n",
       "  <tbody>\n",
       "    <tr>\n",
       "      <th>6858</th>\n",
       "      <td>xXAussieRockXx</td>\n",
       "      <td>http://steamcommunity.com/id/xXAussieRockXx</td>\n",
       "      <td>220240</td>\n",
       "      <td>Posted December 8, 2014.</td>\n",
       "      <td>No ratings yet</td>\n",
       "      <td>True</td>\n",
       "      <td></td>\n",
       "      <td>Far Cry 3 is by far right now one of my favour...</td>\n",
       "    </tr>\n",
       "    <tr>\n",
       "      <th>21449</th>\n",
       "      <td>xXAussieRockXx</td>\n",
       "      <td>http://steamcommunity.com/id/xXAussieRockXx</td>\n",
       "      <td>220240</td>\n",
       "      <td>Posted December 8, 2014.</td>\n",
       "      <td>No ratings yet</td>\n",
       "      <td>True</td>\n",
       "      <td></td>\n",
       "      <td>Far Cry 3 is by far right now one of my favour...</td>\n",
       "    </tr>\n",
       "  </tbody>\n",
       "</table>\n",
       "</div>"
      ],
      "text/plain": [
       "              user_id                                     user_url  item_id  \\\n",
       "6858   xXAussieRockXx  http://steamcommunity.com/id/xXAussieRockXx   220240   \n",
       "21449  xXAussieRockXx  http://steamcommunity.com/id/xXAussieRockXx   220240   \n",
       "\n",
       "                         posted         helpful recommend funny  \\\n",
       "6858   Posted December 8, 2014.  No ratings yet      True         \n",
       "21449  Posted December 8, 2014.  No ratings yet      True         \n",
       "\n",
       "                                                  review  \n",
       "6858   Far Cry 3 is by far right now one of my favour...  \n",
       "21449  Far Cry 3 is by far right now one of my favour...  "
      ]
     },
     "execution_count": 325,
     "metadata": {},
     "output_type": "execute_result"
    }
   ],
   "source": [
    "# Verifico con un ejemplo\n",
    "filtered_reviews = df_reviews[(df_reviews[\"user_id\"] == \"xXAussieRockXx\") & (df_reviews[\"item_id\"] == 220240) ]\n",
    "\n",
    "# Mostrar el DataFrame filtrado\n",
    "filtered_reviews.head()"
   ]
  },
  {
   "cell_type": "markdown",
   "metadata": {},
   "source": [
    "- Elimino las filas duplicadas"
   ]
  },
  {
   "cell_type": "code",
   "execution_count": 326,
   "metadata": {},
   "outputs": [],
   "source": [
    "df_reviews.drop_duplicates(inplace=True)"
   ]
  },
  {
   "cell_type": "code",
   "execution_count": 327,
   "metadata": {},
   "outputs": [
    {
     "name": "stdout",
     "output_type": "stream",
     "text": [
      "<class 'pandas.core.frame.DataFrame'>\n",
      "Index: 58431 entries, 0 to 59332\n",
      "Data columns (total 8 columns):\n",
      " #   Column     Non-Null Count  Dtype \n",
      "---  ------     --------------  ----- \n",
      " 0   user_id    58431 non-null  object\n",
      " 1   user_url   58431 non-null  object\n",
      " 2   item_id    58431 non-null  Int64 \n",
      " 3   posted     58431 non-null  object\n",
      " 4   helpful    58431 non-null  object\n",
      " 5   recommend  58431 non-null  object\n",
      " 6   funny      58431 non-null  object\n",
      " 7   review     58431 non-null  object\n",
      "dtypes: Int64(1), object(7)\n",
      "memory usage: 4.1+ MB\n",
      "None\n"
     ]
    }
   ],
   "source": [
    "print(df_reviews.info())"
   ]
  },
  {
   "cell_type": "code",
   "execution_count": 328,
   "metadata": {},
   "outputs": [
    {
     "name": "stdout",
     "output_type": "stream",
     "text": [
      "<class 'pandas.core.frame.DataFrame'>\n",
      "Index: 58431 entries, 0 to 59332\n",
      "Data columns (total 8 columns):\n",
      " #   Column     Non-Null Count  Dtype \n",
      "---  ------     --------------  ----- \n",
      " 0   user_id    58431 non-null  object\n",
      " 1   user_url   58431 non-null  object\n",
      " 2   item_id    58431 non-null  Int64 \n",
      " 3   posted     58431 non-null  object\n",
      " 4   helpful    58431 non-null  object\n",
      " 5   recommend  58431 non-null  object\n",
      " 6   funny      58431 non-null  object\n",
      " 7   review     58431 non-null  object\n",
      "dtypes: Int64(1), object(7)\n",
      "memory usage: 4.1+ MB\n",
      "None\n"
     ]
    }
   ],
   "source": [
    "print(df_reviews.info())"
   ]
  },
  {
   "cell_type": "code",
   "execution_count": 329,
   "metadata": {},
   "outputs": [],
   "source": [
    "# Guardo el DF depurado.\n",
    "df_reviews.to_parquet('..\\\\datasets\\\\2. Depurado\\\\user_reviews_depurado.parquet', index=False)"
   ]
  },
  {
   "cell_type": "markdown",
   "metadata": {},
   "source": [
    "---\n",
    "# Depuración de users_items"
   ]
  },
  {
   "cell_type": "code",
   "execution_count": 330,
   "metadata": {},
   "outputs": [],
   "source": [
    "# #Levanto los datos\n",
    "df_user_items = pd.read_parquet('..\\\\datasets\\\\1. Extracción\\\\users_items.parquet')"
   ]
  },
  {
   "cell_type": "code",
   "execution_count": 331,
   "metadata": {},
   "outputs": [
    {
     "name": "stdout",
     "output_type": "stream",
     "text": [
      "<class 'pandas.core.frame.DataFrame'>\n",
      "RangeIndex: 5170015 entries, 0 to 5170014\n",
      "Data columns (total 6 columns):\n",
      " #   Column            Dtype  \n",
      "---  ------            -----  \n",
      " 0   user_id           object \n",
      " 1   user_url          object \n",
      " 2   item_id           object \n",
      " 3   item_name         object \n",
      " 4   playtime_forever  float64\n",
      " 5   playtime_2weeks   float64\n",
      "dtypes: float64(2), object(4)\n",
      "memory usage: 236.7+ MB\n"
     ]
    }
   ],
   "source": [
    "df_user_items.info()"
   ]
  },
  {
   "cell_type": "markdown",
   "metadata": {},
   "source": [
    "- Análisis de nulos de forma similar a las anteriores."
   ]
  },
  {
   "cell_type": "code",
   "execution_count": 332,
   "metadata": {},
   "outputs": [
    {
     "name": "stdout",
     "output_type": "stream",
     "text": [
      "user_id             5170015\n",
      "user_url            5170015\n",
      "item_id             5153209\n",
      "item_name           5153209\n",
      "playtime_forever    5153209\n",
      "playtime_2weeks     5153209\n",
      "dtype: int64\n"
     ]
    }
   ],
   "source": [
    "# Cuento las que no nulos\n",
    "print(df_user_items.notnull().sum())"
   ]
  },
  {
   "cell_type": "code",
   "execution_count": 333,
   "metadata": {},
   "outputs": [
    {
     "name": "stdout",
     "output_type": "stream",
     "text": [
      "user_id                 0\n",
      "user_url                0\n",
      "item_id             16806\n",
      "item_name           16806\n",
      "playtime_forever    16806\n",
      "playtime_2weeks     16806\n",
      "dtype: int64\n"
     ]
    }
   ],
   "source": [
    "# Cuento las que tienen nulos\n",
    "print(df_user_items.isnull().sum())"
   ]
  },
  {
   "cell_type": "markdown",
   "metadata": {},
   "source": [
    "- Se eliminan las filas que no tienen \"item_id\" ya que no existe la relación user_id - item_id."
   ]
  },
  {
   "cell_type": "code",
   "execution_count": 334,
   "metadata": {},
   "outputs": [],
   "source": [
    "# Eliminar filas donde item_id es nulo\n",
    "df_user_items = df_user_items.dropna(subset=['item_id'])"
   ]
  },
  {
   "cell_type": "code",
   "execution_count": 335,
   "metadata": {},
   "outputs": [
    {
     "name": "stdout",
     "output_type": "stream",
     "text": [
      "user_id             0\n",
      "user_url            0\n",
      "item_id             0\n",
      "item_name           0\n",
      "playtime_forever    0\n",
      "playtime_2weeks     0\n",
      "dtype: int64\n"
     ]
    }
   ],
   "source": [
    "# Cuento las que tienen nulos\n",
    "print(df_user_items.isnull().sum())"
   ]
  },
  {
   "cell_type": "code",
   "execution_count": 336,
   "metadata": {},
   "outputs": [],
   "source": [
    "# Convierto la colmna \"item_id\" a int \n",
    "df_user_items['item_id'] = df_user_items['item_id'].astype('Int64')"
   ]
  },
  {
   "cell_type": "code",
   "execution_count": 337,
   "metadata": {},
   "outputs": [],
   "source": [
    "# Reemplazo None por np.nan \n",
    "df_user_items = df_user_items.replace({None: np.nan})"
   ]
  },
  {
   "cell_type": "markdown",
   "metadata": {},
   "source": [
    "- Análisis de duplicados:\n",
    "    - En este caso se presentó la condición de tener relaciones user_id - item_id repetidas pero en cuyas filas no todas las columnas tienen el mismo valor."
   ]
  },
  {
   "cell_type": "code",
   "execution_count": 338,
   "metadata": {},
   "outputs": [
    {
     "data": {
      "text/plain": [
       "59104"
      ]
     },
     "execution_count": 338,
     "metadata": {},
     "output_type": "execute_result"
    }
   ],
   "source": [
    "# Cuento la cantidad de líneas duplicadas\n",
    "df_user_items.duplicated().sum()"
   ]
  },
  {
   "cell_type": "code",
   "execution_count": 339,
   "metadata": {},
   "outputs": [
    {
     "name": "stdout",
     "output_type": "stream",
     "text": [
      "Cantidad de líneas duplicadas (no cuenta la primera aparición): 59104\n",
      "Cantidad de líneas duplicadas (contamos todas las apariciones): 117731\n",
      "Cantidad de relaciones user_id - item_id repetidas: 58647\n",
      "Suma de las repeticiones mayores a 1: count    117774\n",
      "dtype: int64\n"
     ]
    }
   ],
   "source": [
    "# Cuento la cantidad de líneas duplicadas - No cuenta la primera aparición.\n",
    "duplicated_count = df_user_items.duplicated().sum()\n",
    "\n",
    "# Cuento la cantidad de líneas duplicadas (contando todas las apariciones)\n",
    "total_duplicated_count = df_user_items.duplicated(keep=False).sum()\n",
    "\n",
    "# Cuento la cantidad de veces que ocurre la relación de cada combinación user_id - item_id\n",
    "repeated_relationships = df_user_items.groupby(['user_id', 'item_id']).size().reset_index(name='count')\n",
    "\n",
    "# Filtro las relaciones que se repiten\n",
    "repeated_relationships = repeated_relationships[repeated_relationships['count'] > 1]\n",
    "\n",
    "# Sumo las duplicaciones\n",
    "count_repeated_relationships = repeated_relationships[['count']].sum()\n",
    "\n",
    "# Muestro los resultados\n",
    "print(f'Cantidad de líneas duplicadas (no cuenta la primera aparición): {duplicated_count}')\n",
    "print(f'Cantidad de líneas duplicadas (contamos todas las apariciones): {total_duplicated_count}')\n",
    "print(f'Cantidad de relaciones user_id - item_id repetidas: {repeated_relationships.shape[0]}')\n",
    "print(f'Suma de las repeticiones mayores a 1: {count_repeated_relationships}')"
   ]
  },
  {
   "cell_type": "markdown",
   "metadata": {},
   "source": [
    "- Se identifican las relaciones user_id - item_id que NO tienen los mismos datos en todas las columnas. Se analizan estas relaciones."
   ]
  },
  {
   "cell_type": "code",
   "execution_count": 340,
   "metadata": {},
   "outputs": [
    {
     "data": {
      "text/html": [
       "<div>\n",
       "<style scoped>\n",
       "    .dataframe tbody tr th:only-of-type {\n",
       "        vertical-align: middle;\n",
       "    }\n",
       "\n",
       "    .dataframe tbody tr th {\n",
       "        vertical-align: top;\n",
       "    }\n",
       "\n",
       "    .dataframe thead th {\n",
       "        text-align: right;\n",
       "    }\n",
       "</style>\n",
       "<table border=\"1\" class=\"dataframe\">\n",
       "  <thead>\n",
       "    <tr style=\"text-align: right;\">\n",
       "      <th></th>\n",
       "      <th>user_id</th>\n",
       "      <th>item_id</th>\n",
       "      <th>variations</th>\n",
       "    </tr>\n",
       "  </thead>\n",
       "  <tbody>\n",
       "    <tr>\n",
       "      <th>11052</th>\n",
       "      <td>76561198050680344</td>\n",
       "      <td>377160</td>\n",
       "      <td>2</td>\n",
       "    </tr>\n",
       "    <tr>\n",
       "      <th>14808</th>\n",
       "      <td>76561198064484479</td>\n",
       "      <td>232090</td>\n",
       "      <td>2</td>\n",
       "    </tr>\n",
       "    <tr>\n",
       "      <th>15009</th>\n",
       "      <td>76561198064956087</td>\n",
       "      <td>40100</td>\n",
       "      <td>2</td>\n",
       "    </tr>\n",
       "    <tr>\n",
       "      <th>17383</th>\n",
       "      <td>76561198072861800</td>\n",
       "      <td>433850</td>\n",
       "      <td>3</td>\n",
       "    </tr>\n",
       "    <tr>\n",
       "      <th>18951</th>\n",
       "      <td>76561198079079942</td>\n",
       "      <td>282070</td>\n",
       "      <td>2</td>\n",
       "    </tr>\n",
       "    <tr>\n",
       "      <th>19219</th>\n",
       "      <td>76561198080450686</td>\n",
       "      <td>730</td>\n",
       "      <td>2</td>\n",
       "    </tr>\n",
       "    <tr>\n",
       "      <th>19237</th>\n",
       "      <td>76561198080450686</td>\n",
       "      <td>252950</td>\n",
       "      <td>2</td>\n",
       "    </tr>\n",
       "    <tr>\n",
       "      <th>19248</th>\n",
       "      <td>76561198081666970</td>\n",
       "      <td>730</td>\n",
       "      <td>2</td>\n",
       "    </tr>\n",
       "    <tr>\n",
       "      <th>19289</th>\n",
       "      <td>76561198081666970</td>\n",
       "      <td>361600</td>\n",
       "      <td>2</td>\n",
       "    </tr>\n",
       "    <tr>\n",
       "      <th>31071</th>\n",
       "      <td>Jojibu</td>\n",
       "      <td>460870</td>\n",
       "      <td>2</td>\n",
       "    </tr>\n",
       "    <tr>\n",
       "      <th>32145</th>\n",
       "      <td>Letachal</td>\n",
       "      <td>730</td>\n",
       "      <td>2</td>\n",
       "    </tr>\n",
       "    <tr>\n",
       "      <th>33357</th>\n",
       "      <td>MIMMATA</td>\n",
       "      <td>246900</td>\n",
       "      <td>2</td>\n",
       "    </tr>\n",
       "    <tr>\n",
       "      <th>33365</th>\n",
       "      <td>MIMMATA</td>\n",
       "      <td>251570</td>\n",
       "      <td>2</td>\n",
       "    </tr>\n",
       "    <tr>\n",
       "      <th>38362</th>\n",
       "      <td>Specimen11</td>\n",
       "      <td>99900</td>\n",
       "      <td>2</td>\n",
       "    </tr>\n",
       "    <tr>\n",
       "      <th>44802</th>\n",
       "      <td>bwolf7803</td>\n",
       "      <td>221640</td>\n",
       "      <td>2</td>\n",
       "    </tr>\n",
       "    <tr>\n",
       "      <th>44910</th>\n",
       "      <td>bwolf7803</td>\n",
       "      <td>345180</td>\n",
       "      <td>2</td>\n",
       "    </tr>\n",
       "    <tr>\n",
       "      <th>44927</th>\n",
       "      <td>bwolf7803</td>\n",
       "      <td>385770</td>\n",
       "      <td>2</td>\n",
       "    </tr>\n",
       "    <tr>\n",
       "      <th>45314</th>\n",
       "      <td>chocolatemanj</td>\n",
       "      <td>730</td>\n",
       "      <td>2</td>\n",
       "    </tr>\n",
       "    <tr>\n",
       "      <th>47315</th>\n",
       "      <td>everybodylovesrayman</td>\n",
       "      <td>730</td>\n",
       "      <td>2</td>\n",
       "    </tr>\n",
       "    <tr>\n",
       "      <th>47326</th>\n",
       "      <td>everybodylovesrayman</td>\n",
       "      <td>10190</td>\n",
       "      <td>2</td>\n",
       "    </tr>\n",
       "    <tr>\n",
       "      <th>55686</th>\n",
       "      <td>sergioxks1</td>\n",
       "      <td>291410</td>\n",
       "      <td>2</td>\n",
       "    </tr>\n",
       "    <tr>\n",
       "      <th>57622</th>\n",
       "      <td>viceflin</td>\n",
       "      <td>299360</td>\n",
       "      <td>2</td>\n",
       "    </tr>\n",
       "  </tbody>\n",
       "</table>\n",
       "</div>"
      ],
      "text/plain": [
       "                    user_id  item_id  variations\n",
       "11052     76561198050680344   377160           2\n",
       "14808     76561198064484479   232090           2\n",
       "15009     76561198064956087    40100           2\n",
       "17383     76561198072861800   433850           3\n",
       "18951     76561198079079942   282070           2\n",
       "19219     76561198080450686      730           2\n",
       "19237     76561198080450686   252950           2\n",
       "19248     76561198081666970      730           2\n",
       "19289     76561198081666970   361600           2\n",
       "31071                Jojibu   460870           2\n",
       "32145              Letachal      730           2\n",
       "33357               MIMMATA   246900           2\n",
       "33365               MIMMATA   251570           2\n",
       "38362            Specimen11    99900           2\n",
       "44802             bwolf7803   221640           2\n",
       "44910             bwolf7803   345180           2\n",
       "44927             bwolf7803   385770           2\n",
       "45314         chocolatemanj      730           2\n",
       "47315  everybodylovesrayman      730           2\n",
       "47326  everybodylovesrayman    10190           2\n",
       "55686            sergioxks1   291410           2\n",
       "57622              viceflin   299360           2"
      ]
     },
     "execution_count": 340,
     "metadata": {},
     "output_type": "execute_result"
    }
   ],
   "source": [
    "# Agrupo por relación y me quedo con las repetidas (count > 1)\n",
    "repeated_combinations = df_user_items.groupby(['user_id', 'item_id']).size().reset_index(name='count')\n",
    "repeated_combinations = repeated_combinations[repeated_combinations['count'] > 1]\n",
    "\n",
    "# Filtro las combinaciones repetidas en el dataframe original\n",
    "df_repeated_rows = df_user_items.merge(repeated_combinations[['user_id', 'item_id']], on=['user_id', 'item_id'])\n",
    "\n",
    "# Descarto todas filas donde los datos en TODAS las columnas no son iguales\n",
    "df_different_rows = df_repeated_rows.drop_duplicates()\n",
    "\n",
    "# Agrupo por user_id e item_id nuevamente y contar cuántas variaciones hay\n",
    "df_varied_relationships = df_different_rows.groupby(['user_id', 'item_id']).size().reset_index(name='variations')\n",
    "df_varied_relationships = df_varied_relationships[df_varied_relationships['variations'] > 1]\n",
    "df_varied_relationships"
   ]
  },
  {
   "cell_type": "code",
   "execution_count": 341,
   "metadata": {},
   "outputs": [
    {
     "data": {
      "text/html": [
       "<div>\n",
       "<style scoped>\n",
       "    .dataframe tbody tr th:only-of-type {\n",
       "        vertical-align: middle;\n",
       "    }\n",
       "\n",
       "    .dataframe tbody tr th {\n",
       "        vertical-align: top;\n",
       "    }\n",
       "\n",
       "    .dataframe thead th {\n",
       "        text-align: right;\n",
       "    }\n",
       "</style>\n",
       "<table border=\"1\" class=\"dataframe\">\n",
       "  <thead>\n",
       "    <tr style=\"text-align: right;\">\n",
       "      <th></th>\n",
       "      <th>user_id</th>\n",
       "      <th>user_url</th>\n",
       "      <th>item_id</th>\n",
       "      <th>item_name</th>\n",
       "      <th>playtime_forever</th>\n",
       "      <th>playtime_2weeks</th>\n",
       "    </tr>\n",
       "  </thead>\n",
       "  <tbody>\n",
       "    <tr>\n",
       "      <th>1528382</th>\n",
       "      <td>sergioxks1</td>\n",
       "      <td>http://steamcommunity.com/id/sergioxks1</td>\n",
       "      <td>291410</td>\n",
       "      <td>Duelyst</td>\n",
       "      <td>1357.0</td>\n",
       "      <td>1113.0</td>\n",
       "    </tr>\n",
       "    <tr>\n",
       "      <th>3371879</th>\n",
       "      <td>sergioxks1</td>\n",
       "      <td>http://steamcommunity.com/id/sergioxks1</td>\n",
       "      <td>291410</td>\n",
       "      <td>Duelyst</td>\n",
       "      <td>1371.0</td>\n",
       "      <td>1128.0</td>\n",
       "    </tr>\n",
       "  </tbody>\n",
       "</table>\n",
       "</div>"
      ],
      "text/plain": [
       "            user_id                                 user_url  item_id  \\\n",
       "1528382  sergioxks1  http://steamcommunity.com/id/sergioxks1   291410   \n",
       "3371879  sergioxks1  http://steamcommunity.com/id/sergioxks1   291410   \n",
       "\n",
       "        item_name  playtime_forever  playtime_2weeks  \n",
       "1528382   Duelyst            1357.0           1113.0  \n",
       "3371879   Duelyst            1371.0           1128.0  "
      ]
     },
     "execution_count": 341,
     "metadata": {},
     "output_type": "execute_result"
    }
   ],
   "source": [
    "# Verifico con un ejemplo\n",
    "filtered_reviews = df_user_items[(df_user_items[\"user_id\"] == \"sergioxks1\") & (df_user_items[\"item_id\"] == 291410)]\n",
    "\n",
    "# Mostrar el DataFrame filtrado\n",
    "filtered_reviews.head()"
   ]
  },
  {
   "cell_type": "code",
   "execution_count": 342,
   "metadata": {},
   "outputs": [
    {
     "data": {
      "text/html": [
       "<div>\n",
       "<style scoped>\n",
       "    .dataframe tbody tr th:only-of-type {\n",
       "        vertical-align: middle;\n",
       "    }\n",
       "\n",
       "    .dataframe tbody tr th {\n",
       "        vertical-align: top;\n",
       "    }\n",
       "\n",
       "    .dataframe thead th {\n",
       "        text-align: right;\n",
       "    }\n",
       "</style>\n",
       "<table border=\"1\" class=\"dataframe\">\n",
       "  <thead>\n",
       "    <tr style=\"text-align: right;\">\n",
       "      <th></th>\n",
       "      <th>user_id</th>\n",
       "      <th>user_url</th>\n",
       "      <th>item_id</th>\n",
       "      <th>item_name</th>\n",
       "      <th>playtime_forever</th>\n",
       "      <th>playtime_2weeks</th>\n",
       "    </tr>\n",
       "  </thead>\n",
       "  <tbody>\n",
       "    <tr>\n",
       "      <th>236905</th>\n",
       "      <td>chocolatemanj</td>\n",
       "      <td>http://steamcommunity.com/id/chocolatemanj</td>\n",
       "      <td>240</td>\n",
       "      <td>Counter-Strike: Source</td>\n",
       "      <td>1732.0</td>\n",
       "      <td>0.0</td>\n",
       "    </tr>\n",
       "    <tr>\n",
       "      <th>236906</th>\n",
       "      <td>chocolatemanj</td>\n",
       "      <td>http://steamcommunity.com/id/chocolatemanj</td>\n",
       "      <td>205790</td>\n",
       "      <td>Dota 2 Test</td>\n",
       "      <td>0.0</td>\n",
       "      <td>0.0</td>\n",
       "    </tr>\n",
       "    <tr>\n",
       "      <th>236907</th>\n",
       "      <td>chocolatemanj</td>\n",
       "      <td>http://steamcommunity.com/id/chocolatemanj</td>\n",
       "      <td>730</td>\n",
       "      <td>Counter-Strike: Global Offensive</td>\n",
       "      <td>65204.0</td>\n",
       "      <td>757.0</td>\n",
       "    </tr>\n",
       "    <tr>\n",
       "      <th>236908</th>\n",
       "      <td>chocolatemanj</td>\n",
       "      <td>http://steamcommunity.com/id/chocolatemanj</td>\n",
       "      <td>202970</td>\n",
       "      <td>Call of Duty: Black Ops II</td>\n",
       "      <td>1.0</td>\n",
       "      <td>0.0</td>\n",
       "    </tr>\n",
       "    <tr>\n",
       "      <th>236909</th>\n",
       "      <td>chocolatemanj</td>\n",
       "      <td>http://steamcommunity.com/id/chocolatemanj</td>\n",
       "      <td>202990</td>\n",
       "      <td>Call of Duty: Black Ops II - Multiplayer</td>\n",
       "      <td>320.0</td>\n",
       "      <td>0.0</td>\n",
       "    </tr>\n",
       "    <tr>\n",
       "      <th>236910</th>\n",
       "      <td>chocolatemanj</td>\n",
       "      <td>http://steamcommunity.com/id/chocolatemanj</td>\n",
       "      <td>212910</td>\n",
       "      <td>Call of Duty: Black Ops II - Zombies</td>\n",
       "      <td>10.0</td>\n",
       "      <td>0.0</td>\n",
       "    </tr>\n",
       "    <tr>\n",
       "      <th>236911</th>\n",
       "      <td>chocolatemanj</td>\n",
       "      <td>http://steamcommunity.com/id/chocolatemanj</td>\n",
       "      <td>202090</td>\n",
       "      <td>Magicka: Wizard Wars</td>\n",
       "      <td>812.0</td>\n",
       "      <td>0.0</td>\n",
       "    </tr>\n",
       "    <tr>\n",
       "      <th>236912</th>\n",
       "      <td>chocolatemanj</td>\n",
       "      <td>http://steamcommunity.com/id/chocolatemanj</td>\n",
       "      <td>239220</td>\n",
       "      <td>The Mighty Quest For Epic Loot</td>\n",
       "      <td>511.0</td>\n",
       "      <td>0.0</td>\n",
       "    </tr>\n",
       "    <tr>\n",
       "      <th>236913</th>\n",
       "      <td>chocolatemanj</td>\n",
       "      <td>http://steamcommunity.com/id/chocolatemanj</td>\n",
       "      <td>252490</td>\n",
       "      <td>Rust</td>\n",
       "      <td>3080.0</td>\n",
       "      <td>0.0</td>\n",
       "    </tr>\n",
       "    <tr>\n",
       "      <th>236914</th>\n",
       "      <td>chocolatemanj</td>\n",
       "      <td>http://steamcommunity.com/id/chocolatemanj</td>\n",
       "      <td>252950</td>\n",
       "      <td>Rocket League</td>\n",
       "      <td>68.0</td>\n",
       "      <td>0.0</td>\n",
       "    </tr>\n",
       "    <tr>\n",
       "      <th>236915</th>\n",
       "      <td>chocolatemanj</td>\n",
       "      <td>http://steamcommunity.com/id/chocolatemanj</td>\n",
       "      <td>221100</td>\n",
       "      <td>DayZ</td>\n",
       "      <td>301.0</td>\n",
       "      <td>0.0</td>\n",
       "    </tr>\n",
       "    <tr>\n",
       "      <th>236916</th>\n",
       "      <td>chocolatemanj</td>\n",
       "      <td>http://steamcommunity.com/id/chocolatemanj</td>\n",
       "      <td>268750</td>\n",
       "      <td>Magicite</td>\n",
       "      <td>248.0</td>\n",
       "      <td>0.0</td>\n",
       "    </tr>\n",
       "    <tr>\n",
       "      <th>236917</th>\n",
       "      <td>chocolatemanj</td>\n",
       "      <td>http://steamcommunity.com/id/chocolatemanj</td>\n",
       "      <td>295110</td>\n",
       "      <td>H1Z1: Just Survive</td>\n",
       "      <td>833.0</td>\n",
       "      <td>0.0</td>\n",
       "    </tr>\n",
       "    <tr>\n",
       "      <th>236918</th>\n",
       "      <td>chocolatemanj</td>\n",
       "      <td>http://steamcommunity.com/id/chocolatemanj</td>\n",
       "      <td>362300</td>\n",
       "      <td>H1Z1: Just Survive Test Server</td>\n",
       "      <td>0.0</td>\n",
       "      <td>0.0</td>\n",
       "    </tr>\n",
       "    <tr>\n",
       "      <th>236919</th>\n",
       "      <td>chocolatemanj</td>\n",
       "      <td>http://steamcommunity.com/id/chocolatemanj</td>\n",
       "      <td>433850</td>\n",
       "      <td>H1Z1: King of the Kill</td>\n",
       "      <td>0.0</td>\n",
       "      <td>0.0</td>\n",
       "    </tr>\n",
       "    <tr>\n",
       "      <th>236920</th>\n",
       "      <td>chocolatemanj</td>\n",
       "      <td>http://steamcommunity.com/id/chocolatemanj</td>\n",
       "      <td>439700</td>\n",
       "      <td>H1Z1: King of the Kill Test Server</td>\n",
       "      <td>0.0</td>\n",
       "      <td>0.0</td>\n",
       "    </tr>\n",
       "    <tr>\n",
       "      <th>236921</th>\n",
       "      <td>chocolatemanj</td>\n",
       "      <td>http://steamcommunity.com/id/chocolatemanj</td>\n",
       "      <td>304930</td>\n",
       "      <td>Unturned</td>\n",
       "      <td>809.0</td>\n",
       "      <td>327.0</td>\n",
       "    </tr>\n",
       "    <tr>\n",
       "      <th>236922</th>\n",
       "      <td>chocolatemanj</td>\n",
       "      <td>http://steamcommunity.com/id/chocolatemanj</td>\n",
       "      <td>227940</td>\n",
       "      <td>Heroes &amp; Generals</td>\n",
       "      <td>201.0</td>\n",
       "      <td>0.0</td>\n",
       "    </tr>\n",
       "    <tr>\n",
       "      <th>236923</th>\n",
       "      <td>chocolatemanj</td>\n",
       "      <td>http://steamcommunity.com/id/chocolatemanj</td>\n",
       "      <td>333930</td>\n",
       "      <td>Dirty Bomb</td>\n",
       "      <td>10.0</td>\n",
       "      <td>0.0</td>\n",
       "    </tr>\n",
       "    <tr>\n",
       "      <th>236924</th>\n",
       "      <td>chocolatemanj</td>\n",
       "      <td>http://steamcommunity.com/id/chocolatemanj</td>\n",
       "      <td>365590</td>\n",
       "      <td>Tom Clancy's The Division</td>\n",
       "      <td>10091.0</td>\n",
       "      <td>0.0</td>\n",
       "    </tr>\n",
       "    <tr>\n",
       "      <th>1136856</th>\n",
       "      <td>chocolatemanj</td>\n",
       "      <td>http://steamcommunity.com/id/chocolatemanj</td>\n",
       "      <td>240</td>\n",
       "      <td>Counter-Strike: Source</td>\n",
       "      <td>1732.0</td>\n",
       "      <td>0.0</td>\n",
       "    </tr>\n",
       "    <tr>\n",
       "      <th>1136857</th>\n",
       "      <td>chocolatemanj</td>\n",
       "      <td>http://steamcommunity.com/id/chocolatemanj</td>\n",
       "      <td>205790</td>\n",
       "      <td>Dota 2 Test</td>\n",
       "      <td>0.0</td>\n",
       "      <td>0.0</td>\n",
       "    </tr>\n",
       "    <tr>\n",
       "      <th>1136858</th>\n",
       "      <td>chocolatemanj</td>\n",
       "      <td>http://steamcommunity.com/id/chocolatemanj</td>\n",
       "      <td>730</td>\n",
       "      <td>Counter-Strike: Global Offensive</td>\n",
       "      <td>65204.0</td>\n",
       "      <td>743.0</td>\n",
       "    </tr>\n",
       "    <tr>\n",
       "      <th>1136859</th>\n",
       "      <td>chocolatemanj</td>\n",
       "      <td>http://steamcommunity.com/id/chocolatemanj</td>\n",
       "      <td>202970</td>\n",
       "      <td>Call of Duty: Black Ops II</td>\n",
       "      <td>1.0</td>\n",
       "      <td>0.0</td>\n",
       "    </tr>\n",
       "    <tr>\n",
       "      <th>1136860</th>\n",
       "      <td>chocolatemanj</td>\n",
       "      <td>http://steamcommunity.com/id/chocolatemanj</td>\n",
       "      <td>202990</td>\n",
       "      <td>Call of Duty: Black Ops II - Multiplayer</td>\n",
       "      <td>320.0</td>\n",
       "      <td>0.0</td>\n",
       "    </tr>\n",
       "    <tr>\n",
       "      <th>1136861</th>\n",
       "      <td>chocolatemanj</td>\n",
       "      <td>http://steamcommunity.com/id/chocolatemanj</td>\n",
       "      <td>212910</td>\n",
       "      <td>Call of Duty: Black Ops II - Zombies</td>\n",
       "      <td>10.0</td>\n",
       "      <td>0.0</td>\n",
       "    </tr>\n",
       "    <tr>\n",
       "      <th>1136862</th>\n",
       "      <td>chocolatemanj</td>\n",
       "      <td>http://steamcommunity.com/id/chocolatemanj</td>\n",
       "      <td>202090</td>\n",
       "      <td>Magicka: Wizard Wars</td>\n",
       "      <td>812.0</td>\n",
       "      <td>0.0</td>\n",
       "    </tr>\n",
       "    <tr>\n",
       "      <th>1136863</th>\n",
       "      <td>chocolatemanj</td>\n",
       "      <td>http://steamcommunity.com/id/chocolatemanj</td>\n",
       "      <td>239220</td>\n",
       "      <td>The Mighty Quest For Epic Loot</td>\n",
       "      <td>511.0</td>\n",
       "      <td>0.0</td>\n",
       "    </tr>\n",
       "    <tr>\n",
       "      <th>1136864</th>\n",
       "      <td>chocolatemanj</td>\n",
       "      <td>http://steamcommunity.com/id/chocolatemanj</td>\n",
       "      <td>252490</td>\n",
       "      <td>Rust</td>\n",
       "      <td>3080.0</td>\n",
       "      <td>0.0</td>\n",
       "    </tr>\n",
       "    <tr>\n",
       "      <th>1136865</th>\n",
       "      <td>chocolatemanj</td>\n",
       "      <td>http://steamcommunity.com/id/chocolatemanj</td>\n",
       "      <td>252950</td>\n",
       "      <td>Rocket League</td>\n",
       "      <td>68.0</td>\n",
       "      <td>0.0</td>\n",
       "    </tr>\n",
       "    <tr>\n",
       "      <th>1136866</th>\n",
       "      <td>chocolatemanj</td>\n",
       "      <td>http://steamcommunity.com/id/chocolatemanj</td>\n",
       "      <td>221100</td>\n",
       "      <td>DayZ</td>\n",
       "      <td>301.0</td>\n",
       "      <td>0.0</td>\n",
       "    </tr>\n",
       "    <tr>\n",
       "      <th>1136867</th>\n",
       "      <td>chocolatemanj</td>\n",
       "      <td>http://steamcommunity.com/id/chocolatemanj</td>\n",
       "      <td>268750</td>\n",
       "      <td>Magicite</td>\n",
       "      <td>248.0</td>\n",
       "      <td>0.0</td>\n",
       "    </tr>\n",
       "    <tr>\n",
       "      <th>1136868</th>\n",
       "      <td>chocolatemanj</td>\n",
       "      <td>http://steamcommunity.com/id/chocolatemanj</td>\n",
       "      <td>295110</td>\n",
       "      <td>H1Z1: Just Survive</td>\n",
       "      <td>833.0</td>\n",
       "      <td>0.0</td>\n",
       "    </tr>\n",
       "    <tr>\n",
       "      <th>1136869</th>\n",
       "      <td>chocolatemanj</td>\n",
       "      <td>http://steamcommunity.com/id/chocolatemanj</td>\n",
       "      <td>362300</td>\n",
       "      <td>H1Z1: Just Survive Test Server</td>\n",
       "      <td>0.0</td>\n",
       "      <td>0.0</td>\n",
       "    </tr>\n",
       "    <tr>\n",
       "      <th>1136870</th>\n",
       "      <td>chocolatemanj</td>\n",
       "      <td>http://steamcommunity.com/id/chocolatemanj</td>\n",
       "      <td>433850</td>\n",
       "      <td>H1Z1: King of the Kill</td>\n",
       "      <td>0.0</td>\n",
       "      <td>0.0</td>\n",
       "    </tr>\n",
       "    <tr>\n",
       "      <th>1136871</th>\n",
       "      <td>chocolatemanj</td>\n",
       "      <td>http://steamcommunity.com/id/chocolatemanj</td>\n",
       "      <td>439700</td>\n",
       "      <td>H1Z1: King of the Kill Test Server</td>\n",
       "      <td>0.0</td>\n",
       "      <td>0.0</td>\n",
       "    </tr>\n",
       "    <tr>\n",
       "      <th>1136872</th>\n",
       "      <td>chocolatemanj</td>\n",
       "      <td>http://steamcommunity.com/id/chocolatemanj</td>\n",
       "      <td>304930</td>\n",
       "      <td>Unturned</td>\n",
       "      <td>809.0</td>\n",
       "      <td>327.0</td>\n",
       "    </tr>\n",
       "    <tr>\n",
       "      <th>1136873</th>\n",
       "      <td>chocolatemanj</td>\n",
       "      <td>http://steamcommunity.com/id/chocolatemanj</td>\n",
       "      <td>227940</td>\n",
       "      <td>Heroes &amp; Generals</td>\n",
       "      <td>201.0</td>\n",
       "      <td>0.0</td>\n",
       "    </tr>\n",
       "    <tr>\n",
       "      <th>1136874</th>\n",
       "      <td>chocolatemanj</td>\n",
       "      <td>http://steamcommunity.com/id/chocolatemanj</td>\n",
       "      <td>333930</td>\n",
       "      <td>Dirty Bomb</td>\n",
       "      <td>10.0</td>\n",
       "      <td>0.0</td>\n",
       "    </tr>\n",
       "    <tr>\n",
       "      <th>1136875</th>\n",
       "      <td>chocolatemanj</td>\n",
       "      <td>http://steamcommunity.com/id/chocolatemanj</td>\n",
       "      <td>365590</td>\n",
       "      <td>Tom Clancy's The Division</td>\n",
       "      <td>10091.0</td>\n",
       "      <td>0.0</td>\n",
       "    </tr>\n",
       "  </tbody>\n",
       "</table>\n",
       "</div>"
      ],
      "text/plain": [
       "               user_id                                    user_url  item_id  \\\n",
       "236905   chocolatemanj  http://steamcommunity.com/id/chocolatemanj      240   \n",
       "236906   chocolatemanj  http://steamcommunity.com/id/chocolatemanj   205790   \n",
       "236907   chocolatemanj  http://steamcommunity.com/id/chocolatemanj      730   \n",
       "236908   chocolatemanj  http://steamcommunity.com/id/chocolatemanj   202970   \n",
       "236909   chocolatemanj  http://steamcommunity.com/id/chocolatemanj   202990   \n",
       "236910   chocolatemanj  http://steamcommunity.com/id/chocolatemanj   212910   \n",
       "236911   chocolatemanj  http://steamcommunity.com/id/chocolatemanj   202090   \n",
       "236912   chocolatemanj  http://steamcommunity.com/id/chocolatemanj   239220   \n",
       "236913   chocolatemanj  http://steamcommunity.com/id/chocolatemanj   252490   \n",
       "236914   chocolatemanj  http://steamcommunity.com/id/chocolatemanj   252950   \n",
       "236915   chocolatemanj  http://steamcommunity.com/id/chocolatemanj   221100   \n",
       "236916   chocolatemanj  http://steamcommunity.com/id/chocolatemanj   268750   \n",
       "236917   chocolatemanj  http://steamcommunity.com/id/chocolatemanj   295110   \n",
       "236918   chocolatemanj  http://steamcommunity.com/id/chocolatemanj   362300   \n",
       "236919   chocolatemanj  http://steamcommunity.com/id/chocolatemanj   433850   \n",
       "236920   chocolatemanj  http://steamcommunity.com/id/chocolatemanj   439700   \n",
       "236921   chocolatemanj  http://steamcommunity.com/id/chocolatemanj   304930   \n",
       "236922   chocolatemanj  http://steamcommunity.com/id/chocolatemanj   227940   \n",
       "236923   chocolatemanj  http://steamcommunity.com/id/chocolatemanj   333930   \n",
       "236924   chocolatemanj  http://steamcommunity.com/id/chocolatemanj   365590   \n",
       "1136856  chocolatemanj  http://steamcommunity.com/id/chocolatemanj      240   \n",
       "1136857  chocolatemanj  http://steamcommunity.com/id/chocolatemanj   205790   \n",
       "1136858  chocolatemanj  http://steamcommunity.com/id/chocolatemanj      730   \n",
       "1136859  chocolatemanj  http://steamcommunity.com/id/chocolatemanj   202970   \n",
       "1136860  chocolatemanj  http://steamcommunity.com/id/chocolatemanj   202990   \n",
       "1136861  chocolatemanj  http://steamcommunity.com/id/chocolatemanj   212910   \n",
       "1136862  chocolatemanj  http://steamcommunity.com/id/chocolatemanj   202090   \n",
       "1136863  chocolatemanj  http://steamcommunity.com/id/chocolatemanj   239220   \n",
       "1136864  chocolatemanj  http://steamcommunity.com/id/chocolatemanj   252490   \n",
       "1136865  chocolatemanj  http://steamcommunity.com/id/chocolatemanj   252950   \n",
       "1136866  chocolatemanj  http://steamcommunity.com/id/chocolatemanj   221100   \n",
       "1136867  chocolatemanj  http://steamcommunity.com/id/chocolatemanj   268750   \n",
       "1136868  chocolatemanj  http://steamcommunity.com/id/chocolatemanj   295110   \n",
       "1136869  chocolatemanj  http://steamcommunity.com/id/chocolatemanj   362300   \n",
       "1136870  chocolatemanj  http://steamcommunity.com/id/chocolatemanj   433850   \n",
       "1136871  chocolatemanj  http://steamcommunity.com/id/chocolatemanj   439700   \n",
       "1136872  chocolatemanj  http://steamcommunity.com/id/chocolatemanj   304930   \n",
       "1136873  chocolatemanj  http://steamcommunity.com/id/chocolatemanj   227940   \n",
       "1136874  chocolatemanj  http://steamcommunity.com/id/chocolatemanj   333930   \n",
       "1136875  chocolatemanj  http://steamcommunity.com/id/chocolatemanj   365590   \n",
       "\n",
       "                                        item_name  playtime_forever  \\\n",
       "236905                     Counter-Strike: Source            1732.0   \n",
       "236906                                Dota 2 Test               0.0   \n",
       "236907           Counter-Strike: Global Offensive           65204.0   \n",
       "236908                 Call of Duty: Black Ops II               1.0   \n",
       "236909   Call of Duty: Black Ops II - Multiplayer             320.0   \n",
       "236910       Call of Duty: Black Ops II - Zombies              10.0   \n",
       "236911                       Magicka: Wizard Wars             812.0   \n",
       "236912             The Mighty Quest For Epic Loot             511.0   \n",
       "236913                                       Rust            3080.0   \n",
       "236914                              Rocket League              68.0   \n",
       "236915                                       DayZ             301.0   \n",
       "236916                                   Magicite             248.0   \n",
       "236917                         H1Z1: Just Survive             833.0   \n",
       "236918             H1Z1: Just Survive Test Server               0.0   \n",
       "236919                     H1Z1: King of the Kill               0.0   \n",
       "236920         H1Z1: King of the Kill Test Server               0.0   \n",
       "236921                                   Unturned             809.0   \n",
       "236922                          Heroes & Generals             201.0   \n",
       "236923                                 Dirty Bomb              10.0   \n",
       "236924                  Tom Clancy's The Division           10091.0   \n",
       "1136856                    Counter-Strike: Source            1732.0   \n",
       "1136857                               Dota 2 Test               0.0   \n",
       "1136858          Counter-Strike: Global Offensive           65204.0   \n",
       "1136859                Call of Duty: Black Ops II               1.0   \n",
       "1136860  Call of Duty: Black Ops II - Multiplayer             320.0   \n",
       "1136861      Call of Duty: Black Ops II - Zombies              10.0   \n",
       "1136862                      Magicka: Wizard Wars             812.0   \n",
       "1136863            The Mighty Quest For Epic Loot             511.0   \n",
       "1136864                                      Rust            3080.0   \n",
       "1136865                             Rocket League              68.0   \n",
       "1136866                                      DayZ             301.0   \n",
       "1136867                                  Magicite             248.0   \n",
       "1136868                        H1Z1: Just Survive             833.0   \n",
       "1136869            H1Z1: Just Survive Test Server               0.0   \n",
       "1136870                    H1Z1: King of the Kill               0.0   \n",
       "1136871        H1Z1: King of the Kill Test Server               0.0   \n",
       "1136872                                  Unturned             809.0   \n",
       "1136873                         Heroes & Generals             201.0   \n",
       "1136874                                Dirty Bomb              10.0   \n",
       "1136875                 Tom Clancy's The Division           10091.0   \n",
       "\n",
       "         playtime_2weeks  \n",
       "236905               0.0  \n",
       "236906               0.0  \n",
       "236907             757.0  \n",
       "236908               0.0  \n",
       "236909               0.0  \n",
       "236910               0.0  \n",
       "236911               0.0  \n",
       "236912               0.0  \n",
       "236913               0.0  \n",
       "236914               0.0  \n",
       "236915               0.0  \n",
       "236916               0.0  \n",
       "236917               0.0  \n",
       "236918               0.0  \n",
       "236919               0.0  \n",
       "236920               0.0  \n",
       "236921             327.0  \n",
       "236922               0.0  \n",
       "236923               0.0  \n",
       "236924               0.0  \n",
       "1136856              0.0  \n",
       "1136857              0.0  \n",
       "1136858            743.0  \n",
       "1136859              0.0  \n",
       "1136860              0.0  \n",
       "1136861              0.0  \n",
       "1136862              0.0  \n",
       "1136863              0.0  \n",
       "1136864              0.0  \n",
       "1136865              0.0  \n",
       "1136866              0.0  \n",
       "1136867              0.0  \n",
       "1136868              0.0  \n",
       "1136869              0.0  \n",
       "1136870              0.0  \n",
       "1136871              0.0  \n",
       "1136872            327.0  \n",
       "1136873              0.0  \n",
       "1136874              0.0  \n",
       "1136875              0.0  "
      ]
     },
     "execution_count": 342,
     "metadata": {},
     "output_type": "execute_result"
    }
   ],
   "source": [
    "df_user_items[(df_user_items[\"user_id\"] == \"chocolatemanj\")] "
   ]
  },
  {
   "cell_type": "markdown",
   "metadata": {},
   "source": [
    "- La mayoría de estos duplicados no se encuentran en Steam porque los usuarios están dados de baja o por perfil es privado. \n",
    "- Tomamos como criterio quedarnos con el que cumpla tener playtime_forever más elevado primero y si son iguales, playtime_2weeks más elevado."
   ]
  },
  {
   "cell_type": "code",
   "execution_count": 343,
   "metadata": {},
   "outputs": [],
   "source": [
    "# Ordeno por user_id, item_id, playtime_forever (descendente) y playtime_2weeks (descendente)\n",
    "df_user_items.sort_values(by=['user_id', 'item_id', 'playtime_forever', 'playtime_2weeks'], ascending=[True, True, False, False], inplace=True)\n",
    "\n",
    "# Elimino duplicados de user_id e item_id, quedandome con la primera aparición (que será la de mayor playtime)\n",
    "df_user_items.drop_duplicates(subset=['user_id', 'item_id'], keep='first', inplace=True)"
   ]
  },
  {
   "cell_type": "code",
   "execution_count": 344,
   "metadata": {},
   "outputs": [
    {
     "data": {
      "text/html": [
       "<div>\n",
       "<style scoped>\n",
       "    .dataframe tbody tr th:only-of-type {\n",
       "        vertical-align: middle;\n",
       "    }\n",
       "\n",
       "    .dataframe tbody tr th {\n",
       "        vertical-align: top;\n",
       "    }\n",
       "\n",
       "    .dataframe thead th {\n",
       "        text-align: right;\n",
       "    }\n",
       "</style>\n",
       "<table border=\"1\" class=\"dataframe\">\n",
       "  <thead>\n",
       "    <tr style=\"text-align: right;\">\n",
       "      <th></th>\n",
       "      <th>user_id</th>\n",
       "      <th>user_url</th>\n",
       "      <th>item_id</th>\n",
       "      <th>item_name</th>\n",
       "      <th>playtime_forever</th>\n",
       "      <th>playtime_2weeks</th>\n",
       "    </tr>\n",
       "  </thead>\n",
       "  <tbody>\n",
       "    <tr>\n",
       "      <th>3371879</th>\n",
       "      <td>sergioxks1</td>\n",
       "      <td>http://steamcommunity.com/id/sergioxks1</td>\n",
       "      <td>291410</td>\n",
       "      <td>Duelyst</td>\n",
       "      <td>1371.0</td>\n",
       "      <td>1128.0</td>\n",
       "    </tr>\n",
       "  </tbody>\n",
       "</table>\n",
       "</div>"
      ],
      "text/plain": [
       "            user_id                                 user_url  item_id  \\\n",
       "3371879  sergioxks1  http://steamcommunity.com/id/sergioxks1   291410   \n",
       "\n",
       "        item_name  playtime_forever  playtime_2weeks  \n",
       "3371879   Duelyst            1371.0           1128.0  "
      ]
     },
     "execution_count": 344,
     "metadata": {},
     "output_type": "execute_result"
    }
   ],
   "source": [
    "# Verifico con el mismo ejemplo anterior\n",
    "filtered_reviews = df_user_items[(df_user_items[\"user_id\"] == \"sergioxks1\") & (df_user_items[\"item_id\"] == 291410)]\n",
    "\n",
    "# Mostrar el DataFrame filtrado\n",
    "filtered_reviews.head()"
   ]
  },
  {
   "cell_type": "code",
   "execution_count": 345,
   "metadata": {},
   "outputs": [
    {
     "data": {
      "text/plain": [
       "0"
      ]
     },
     "execution_count": 345,
     "metadata": {},
     "output_type": "execute_result"
    }
   ],
   "source": [
    "# Cuento la cantidad de líneas duplicadas\n",
    "df_user_items.duplicated().sum()"
   ]
  },
  {
   "cell_type": "code",
   "execution_count": 346,
   "metadata": {},
   "outputs": [
    {
     "name": "stdout",
     "output_type": "stream",
     "text": [
      "user_id             5094082\n",
      "user_url            5094082\n",
      "item_id             5094082\n",
      "item_name           5094082\n",
      "playtime_forever    5094082\n",
      "playtime_2weeks     5094082\n",
      "dtype: int64\n"
     ]
    }
   ],
   "source": [
    "# Vuelvo a contar las que no nulos\n",
    "print(df_user_items.notnull().sum())"
   ]
  },
  {
   "cell_type": "code",
   "execution_count": 347,
   "metadata": {},
   "outputs": [
    {
     "name": "stdout",
     "output_type": "stream",
     "text": [
      "             item_id  playtime_forever  playtime_2weeks\n",
      "count      5094082.0      5.094082e+06     5.094082e+06\n",
      "mean    178391.45484      9.905071e+02     9.065419e+00\n",
      "std    131851.395185      5.414098e+03     1.402840e+02\n",
      "min             10.0      0.000000e+00     0.000000e+00\n",
      "25%          34450.0      0.000000e+00     0.000000e+00\n",
      "50%         214420.0      3.400000e+01     0.000000e+00\n",
      "75%         266430.0      3.550000e+02     0.000000e+00\n",
      "max         530720.0      6.427730e+05     1.996700e+04\n"
     ]
    }
   ],
   "source": [
    "print(df_user_items.describe())"
   ]
  },
  {
   "cell_type": "code",
   "execution_count": 348,
   "metadata": {},
   "outputs": [],
   "source": [
    "# Guardo el DF en parquet para levantarlo más rápido la próxima vez.\n",
    "df_user_items.to_parquet('..\\\\datasets\\\\2. Depurado\\\\users_items_depurado.parquet', index=False)"
   ]
  }
 ],
 "metadata": {
  "kernelspec": {
   "display_name": "Python 3",
   "language": "python",
   "name": "python3"
  },
  "language_info": {
   "codemirror_mode": {
    "name": "ipython",
    "version": 3
   },
   "file_extension": ".py",
   "mimetype": "text/x-python",
   "name": "python",
   "nbconvert_exporter": "python",
   "pygments_lexer": "ipython3",
   "version": "3.12.1"
  }
 },
 "nbformat": 4,
 "nbformat_minor": 2
}
