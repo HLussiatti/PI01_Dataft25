{
 "cells": [
  {
   "cell_type": "code",
   "execution_count": 30,
   "metadata": {},
   "outputs": [],
   "source": [
    "import pandas as pd\n",
    "import numpy as np"
   ]
  },
  {
   "cell_type": "markdown",
   "metadata": {},
   "source": [
    "# Depuración de steam_games\n",
    "- Nos concentramos únicamente en los campos que necesitamos para luego poder realizar las Funciones. lista_columnas = ['genres', 'release_date', 'price', 'item_id', 'developer']\n",
    "- No vamos a eliminar los datos que estén nulos en cada columna si hay datos en las demás.\n",
    "- Se crea un archivo \"depurado\" y un archivo \"depurado y reducido\" para ser consumido por la API.\n",
    "- Podría intentar realizar un scraping de la información necesaria para las funciones (Scraping.ipynb). Sólo si llego."
   ]
  },
  {
   "cell_type": "code",
   "execution_count": 31,
   "metadata": {},
   "outputs": [],
   "source": [
    "# Levanto los datos\n",
    "df_steam_games = pd.read_parquet('..\\\\datasets\\\\1. Extracción\\\\steam_games.parquet')"
   ]
  },
  {
   "cell_type": "markdown",
   "metadata": {},
   "source": [
    "- Análisis de la columna 'price'. Como \"price\" contenía texto y números al momento de la carga de datos, fue necesario guardarlo como \"string\" en el archivo parquet.\n",
    "- Ahora analizamos cuáles son los valores que \"no son precios\"."
   ]
  },
  {
   "cell_type": "code",
   "execution_count": 32,
   "metadata": {},
   "outputs": [
    {
     "data": {
      "text/plain": [
       "price\n",
       "nan                              89687\n",
       "Free                               905\n",
       "Free to Play                       520\n",
       "Free To Play                       462\n",
       "Free Mod                             4\n",
       "Free Demo                            3\n",
       "Play for Free!                       2\n",
       "Third-party                          2\n",
       "Play Now                             2\n",
       "Starting at $499.00                  1\n",
       "Free Movie                           1\n",
       "Free to Try                          1\n",
       "Starting at $449.00                  1\n",
       "Install Theme                        1\n",
       "Play the Demo                        1\n",
       "Free HITMAN™ Holiday Pack            1\n",
       "Play WARMACHINE: Tactics Demo        1\n",
       "Install Now                          1\n",
       "Free to Use                          1\n",
       "Name: count, dtype: int64"
      ]
     },
     "execution_count": 32,
     "metadata": {},
     "output_type": "execute_result"
    }
   ],
   "source": [
    "# Convertir 'price' en texto para asegurarnos que se puede manipular correctamente\n",
    "df_steam_games['price'] = df_steam_games['price'].astype(str)\n",
    "\n",
    "# Filtrar valores que no pueden ser convertidos a float (es decir, son texto) y cuento\n",
    "df_steam_games[~df_steam_games['price'].str.replace('.', '', 1).str.isnumeric()]['price'].value_counts()"
   ]
  },
  {
   "cell_type": "markdown",
   "metadata": {},
   "source": [
    "- Como resultado se observa:\n",
    "    - \"nan\": son valores nulos, los trataremos como nulos al momento de transformar \"price\" en valor numérico nuevamente.\n",
    "    - La gran mayoría contienen la palabra \"Free\". Tomaremos a todos los que no son \"nan\" y no son número como Free. Le ponemos valor \"0\" USD y creamos una columna \"Free\" = True or \"False\" que puede ser necesaria para un mejor funcionamiento de la API."
   ]
  },
  {
   "cell_type": "code",
   "execution_count": 33,
   "metadata": {},
   "outputs": [
    {
     "name": "stdout",
     "output_type": "stream",
     "text": [
      "1908\n"
     ]
    }
   ],
   "source": [
    "# Reemplazo valores específicos\n",
    "df_steam_games['price'] = df_steam_games['price'].replace('Starting at $499.00', '499')\n",
    "df_steam_games['price'] = df_steam_games['price'].replace('Starting at $449.00', '449')\n",
    "\n",
    "# Reemplazar los valores textuales por 0, excepto los \"nan\"\n",
    "df_steam_games['price'] = df_steam_games['price'].apply( lambda x: 0 if (x != 'nan' and not x.replace('.', '', 1).isnumeric()) else x)\n",
    "\n",
    "# Convertir a tipo float y los \"nan\" a \"NaN\"\n",
    "df_steam_games['price'] = pd.to_numeric(df_steam_games['price'], errors='coerce')\n",
    "\n",
    "# Crear la columna 'Free', donde si el precio es 0 la columna es \"True\"\n",
    "df_steam_games['free'] = df_steam_games['price'].apply(lambda x: True if x == 0 else False)\n",
    "\n",
    "#Verifico la cantidad de \"Free\"\n",
    "cantidad_free = df_steam_games['free'].sum()\n",
    "print(cantidad_free)"
   ]
  },
  {
   "cell_type": "markdown",
   "metadata": {},
   "source": [
    "- Realizo algunas modificaciones más:\n",
    "    - Reemplazamoslos valores \"Non\" por nulos de numpy\n",
    "    - Descartamos todas las filas que tengan todos los campos Nulos.\n",
    "    - Modificamos el formato del campo fecha como DateTime.\n",
    "    - Creamos una columna con el año que se va a requerir en la API.\n",
    "    - Renombramos el campo id para que coincida con la tabla de users_items, la modificamos a número y eliminamos todas las filas que tengan un nulo en el id.    "
   ]
  },
  {
   "cell_type": "code",
   "execution_count": 34,
   "metadata": {},
   "outputs": [],
   "source": [
    "# Reemplazar None y np.nan por np.nan (en caso de que haya strings 'nan')\n",
    "df_steam_games = df_steam_games.replace({None: np.nan})\n",
    "\n",
    "# Eliminar filas donde TODOS los valores son nulos\n",
    "df_steam_games = df_steam_games.dropna(how='all')\n",
    "\n",
    "# Modifico el formato de 'release_date' \n",
    "df_steam_games['release_date'] = pd.to_datetime(df_steam_games['release_date'], errors='coerce')\n",
    "\n",
    "# Creo la columna con el año de 'release_date' que se necesita en \"developer\"\n",
    "df_steam_games['year'] = df_steam_games['release_date'].dt.year\n",
    "\n",
    "# Renombramos id a item_id\n",
    "df_steam_games = df_steam_games.rename(columns={'id': 'item_id'})\n",
    "\n",
    "# item_id tiene que ser un número -- Lo había pasado a número pero después no me servía para hacer el link en las fucniones\n",
    "# df_steam_games['item_id'] = pd.to_numeric(df_steam_games['item_id'], errors='coerce')\n",
    "\n",
    "# Eliminar filas donde item_id es nulo\n",
    "df_steam_games = df_steam_games.dropna(subset=['item_id'])"
   ]
  },
  {
   "cell_type": "markdown",
   "metadata": {},
   "source": [
    "- Análisis de duplicados"
   ]
  },
  {
   "cell_type": "code",
   "execution_count": 35,
   "metadata": {},
   "outputs": [
    {
     "name": "stdout",
     "output_type": "stream",
     "text": [
      "1\n"
     ]
    }
   ],
   "source": [
    "# Contar la cantidad de líneas duplicadas - Considero las columnas que voy a utilziar en la API menos la de \"genres\" que tiene un Array dentro.\n",
    "duplicated_count = df_steam_games.duplicated(subset = ['release_date', 'price', 'item_id', 'developer','year','free']).sum()\n",
    "print(duplicated_count )"
   ]
  },
  {
   "cell_type": "code",
   "execution_count": 36,
   "metadata": {},
   "outputs": [
    {
     "data": {
      "text/html": [
       "<div>\n",
       "<style scoped>\n",
       "    .dataframe tbody tr th:only-of-type {\n",
       "        vertical-align: middle;\n",
       "    }\n",
       "\n",
       "    .dataframe tbody tr th {\n",
       "        vertical-align: top;\n",
       "    }\n",
       "\n",
       "    .dataframe thead th {\n",
       "        text-align: right;\n",
       "    }\n",
       "</style>\n",
       "<table border=\"1\" class=\"dataframe\">\n",
       "  <thead>\n",
       "    <tr style=\"text-align: right;\">\n",
       "      <th></th>\n",
       "      <th>publisher</th>\n",
       "      <th>genres</th>\n",
       "      <th>app_name</th>\n",
       "      <th>title</th>\n",
       "      <th>url</th>\n",
       "      <th>release_date</th>\n",
       "      <th>tags</th>\n",
       "      <th>reviews_url</th>\n",
       "      <th>specs</th>\n",
       "      <th>price</th>\n",
       "      <th>early_access</th>\n",
       "      <th>item_id</th>\n",
       "      <th>developer</th>\n",
       "      <th>free</th>\n",
       "      <th>year</th>\n",
       "    </tr>\n",
       "  </thead>\n",
       "  <tbody>\n",
       "    <tr>\n",
       "      <th>102204</th>\n",
       "      <td>Bethesda Softworks</td>\n",
       "      <td>[Action]</td>\n",
       "      <td>Wolfenstein II: The New Colossus</td>\n",
       "      <td>Wolfenstein II: The New Colossus</td>\n",
       "      <td>http://store.steampowered.com/app/612880/</td>\n",
       "      <td>2017-10-26</td>\n",
       "      <td>[Action, FPS, Gore, Violent, Alternate History...</td>\n",
       "      <td>http://steamcommunity.com/app/612880/reviews/?...</td>\n",
       "      <td>[Single-player, Steam Achievements, Full contr...</td>\n",
       "      <td>59.99</td>\n",
       "      <td>False</td>\n",
       "      <td>612880</td>\n",
       "      <td>Machine Games</td>\n",
       "      <td>False</td>\n",
       "      <td>2017.0</td>\n",
       "    </tr>\n",
       "    <tr>\n",
       "      <th>102883</th>\n",
       "      <td>Bethesda Softworks</td>\n",
       "      <td>[Action]</td>\n",
       "      <td>Wolfenstein II: The New Colossus</td>\n",
       "      <td>Wolfenstein II: The New Colossus</td>\n",
       "      <td>http://store.steampowered.com/app/612880/Wolfe...</td>\n",
       "      <td>2017-10-26</td>\n",
       "      <td>[Action, FPS, Gore, Violent, Alternate History...</td>\n",
       "      <td>http://steamcommunity.com/app/612880/reviews/?...</td>\n",
       "      <td>[Single-player, Steam Achievements, Full contr...</td>\n",
       "      <td>59.99</td>\n",
       "      <td>False</td>\n",
       "      <td>612880</td>\n",
       "      <td>Machine Games</td>\n",
       "      <td>False</td>\n",
       "      <td>2017.0</td>\n",
       "    </tr>\n",
       "  </tbody>\n",
       "</table>\n",
       "</div>"
      ],
      "text/plain": [
       "                 publisher    genres                          app_name  \\\n",
       "102204  Bethesda Softworks  [Action]  Wolfenstein II: The New Colossus   \n",
       "102883  Bethesda Softworks  [Action]  Wolfenstein II: The New Colossus   \n",
       "\n",
       "                                   title  \\\n",
       "102204  Wolfenstein II: The New Colossus   \n",
       "102883  Wolfenstein II: The New Colossus   \n",
       "\n",
       "                                                      url release_date  \\\n",
       "102204          http://store.steampowered.com/app/612880/   2017-10-26   \n",
       "102883  http://store.steampowered.com/app/612880/Wolfe...   2017-10-26   \n",
       "\n",
       "                                                     tags  \\\n",
       "102204  [Action, FPS, Gore, Violent, Alternate History...   \n",
       "102883  [Action, FPS, Gore, Violent, Alternate History...   \n",
       "\n",
       "                                              reviews_url  \\\n",
       "102204  http://steamcommunity.com/app/612880/reviews/?...   \n",
       "102883  http://steamcommunity.com/app/612880/reviews/?...   \n",
       "\n",
       "                                                    specs  price early_access  \\\n",
       "102204  [Single-player, Steam Achievements, Full contr...  59.99        False   \n",
       "102883  [Single-player, Steam Achievements, Full contr...  59.99        False   \n",
       "\n",
       "       item_id      developer   free    year  \n",
       "102204  612880  Machine Games  False  2017.0  \n",
       "102883  612880  Machine Games  False  2017.0  "
      ]
     },
     "execution_count": 36,
     "metadata": {},
     "output_type": "execute_result"
    }
   ],
   "source": [
    "# Filtrar las líneas duplicadas\n",
    "duplicated_rows = df_steam_games[df_steam_games.duplicated(subset=['release_date', 'price', 'item_id', 'developer', 'year', 'free'], keep=False)]\n",
    "duplicated_rows.head()"
   ]
  },
  {
   "cell_type": "code",
   "execution_count": 37,
   "metadata": {},
   "outputs": [],
   "source": [
    "# Elimino duplicados en base al subconjunto de columnas\n",
    "df_steam_games_cleaned = df_steam_games.drop_duplicates(subset=['release_date', 'price', 'item_id', 'developer', 'year', 'free'], keep='first')"
   ]
  },
  {
   "cell_type": "code",
   "execution_count": 38,
   "metadata": {},
   "outputs": [
    {
     "name": "stdout",
     "output_type": "stream",
     "text": [
      "<class 'pandas.core.frame.DataFrame'>\n",
      "Index: 32133 entries, 88310 to 120444\n",
      "Data columns (total 15 columns):\n",
      " #   Column        Non-Null Count  Dtype         \n",
      "---  ------        --------------  -----         \n",
      " 0   publisher     24082 non-null  object        \n",
      " 1   genres        28851 non-null  object        \n",
      " 2   app_name      32132 non-null  object        \n",
      " 3   title         30084 non-null  object        \n",
      " 4   url           32133 non-null  object        \n",
      " 5   release_date  29782 non-null  datetime64[ns]\n",
      " 6   tags          31971 non-null  object        \n",
      " 7   reviews_url   32133 non-null  object        \n",
      " 8   specs         31464 non-null  object        \n",
      " 9   price         30756 non-null  float64       \n",
      " 10  early_access  32133 non-null  object        \n",
      " 11  item_id       32133 non-null  object        \n",
      " 12  developer     28835 non-null  object        \n",
      " 13  free          32133 non-null  bool          \n",
      " 14  year          29782 non-null  float64       \n",
      "dtypes: bool(1), datetime64[ns](1), float64(2), object(11)\n",
      "memory usage: 3.7+ MB\n",
      "None\n"
     ]
    }
   ],
   "source": [
    "# Verificar el resultado\n",
    "print(df_steam_games.info())"
   ]
  },
  {
   "cell_type": "markdown",
   "metadata": {},
   "source": [
    "Analizo outliers de price y de release_date."
   ]
  },
  {
   "cell_type": "code",
   "execution_count": 39,
   "metadata": {},
   "outputs": [
    {
     "name": "stdout",
     "output_type": "stream",
     "text": [
      "                        release_date         price          year\n",
      "count                          29782  30756.000000  29782.000000\n",
      "mean   2015-04-21 10:49:09.916056832      8.896955   2014.759251\n",
      "min              1970-07-15 00:00:00      0.000000   1970.000000\n",
      "25%              2014-10-01 00:00:00      2.990000   2014.000000\n",
      "50%              2016-04-18 00:00:00      4.990000   2016.000000\n",
      "75%              2017-04-17 00:00:00      9.990000   2017.000000\n",
      "max              2021-12-31 00:00:00    995.000000   2021.000000\n",
      "std                              NaN     16.341118      3.508234\n"
     ]
    }
   ],
   "source": [
    "print(df_steam_games.describe())"
   ]
  },
  {
   "cell_type": "markdown",
   "metadata": {},
   "source": [
    "- \"release_date\" tiene fechas razonables. Tenía dudas sobre la fecha más vieja, 15/07/1970, pero se verifica en la web.\n",
    "\n",
    "<img src=\"./_src/Juego_Más_Viejo.PNG\" height=\"300\"><br>"
   ]
  },
  {
   "cell_type": "code",
   "execution_count": 40,
   "metadata": {},
   "outputs": [
    {
     "data": {
      "text/plain": [
       "Timestamp('1970-07-15 00:00:00')"
      ]
     },
     "execution_count": 40,
     "metadata": {},
     "output_type": "execute_result"
    }
   ],
   "source": [
    "df_steam_games['release_date'].min()"
   ]
  },
  {
   "cell_type": "code",
   "execution_count": 41,
   "metadata": {},
   "outputs": [
    {
     "data": {
      "text/html": [
       "<div>\n",
       "<style scoped>\n",
       "    .dataframe tbody tr th:only-of-type {\n",
       "        vertical-align: middle;\n",
       "    }\n",
       "\n",
       "    .dataframe tbody tr th {\n",
       "        vertical-align: top;\n",
       "    }\n",
       "\n",
       "    .dataframe thead th {\n",
       "        text-align: right;\n",
       "    }\n",
       "</style>\n",
       "<table border=\"1\" class=\"dataframe\">\n",
       "  <thead>\n",
       "    <tr style=\"text-align: right;\">\n",
       "      <th></th>\n",
       "      <th>publisher</th>\n",
       "      <th>genres</th>\n",
       "      <th>app_name</th>\n",
       "      <th>title</th>\n",
       "      <th>url</th>\n",
       "      <th>release_date</th>\n",
       "      <th>tags</th>\n",
       "      <th>reviews_url</th>\n",
       "      <th>specs</th>\n",
       "      <th>price</th>\n",
       "      <th>early_access</th>\n",
       "      <th>item_id</th>\n",
       "      <th>developer</th>\n",
       "      <th>free</th>\n",
       "      <th>year</th>\n",
       "    </tr>\n",
       "  </thead>\n",
       "  <tbody>\n",
       "    <tr>\n",
       "      <th>103157</th>\n",
       "      <td>NaN</td>\n",
       "      <td>NaN</td>\n",
       "      <td>Last Train To Berlin</td>\n",
       "      <td>Last Train To Berlin</td>\n",
       "      <td>http://store.steampowered.com/app/734030/Last_...</td>\n",
       "      <td>1970-07-15</td>\n",
       "      <td>[Movie]</td>\n",
       "      <td>http://steamcommunity.com/app/734030/reviews/?...</td>\n",
       "      <td>[Captions available]</td>\n",
       "      <td>3.99</td>\n",
       "      <td>False</td>\n",
       "      <td>734030</td>\n",
       "      <td>NaN</td>\n",
       "      <td>False</td>\n",
       "      <td>1970.0</td>\n",
       "    </tr>\n",
       "  </tbody>\n",
       "</table>\n",
       "</div>"
      ],
      "text/plain": [
       "       publisher genres              app_name                 title  \\\n",
       "103157       NaN    NaN  Last Train To Berlin  Last Train To Berlin   \n",
       "\n",
       "                                                      url release_date  \\\n",
       "103157  http://store.steampowered.com/app/734030/Last_...   1970-07-15   \n",
       "\n",
       "           tags                                        reviews_url  \\\n",
       "103157  [Movie]  http://steamcommunity.com/app/734030/reviews/?...   \n",
       "\n",
       "                       specs  price early_access item_id developer   free  \\\n",
       "103157  [Captions available]   3.99        False  734030       NaN  False   \n",
       "\n",
       "          year  \n",
       "103157  1970.0  "
      ]
     },
     "execution_count": 41,
     "metadata": {},
     "output_type": "execute_result"
    }
   ],
   "source": [
    "df_steam_games[df_steam_games['release_date'] == df_steam_games['release_date'].min()]"
   ]
  },
  {
   "cell_type": "code",
   "execution_count": 42,
   "metadata": {},
   "outputs": [
    {
     "data": {
      "text/plain": [
       "Timestamp('2021-12-31 00:00:00')"
      ]
     },
     "execution_count": 42,
     "metadata": {},
     "output_type": "execute_result"
    }
   ],
   "source": [
    "df_steam_games['release_date'].max()"
   ]
  },
  {
   "cell_type": "markdown",
   "metadata": {},
   "source": [
    "- \"price\": si bien la media es baja, los valores extremos no parecieran estar errados, es razonable que un juego pueda valer 995 USD."
   ]
  },
  {
   "cell_type": "code",
   "execution_count": 43,
   "metadata": {},
   "outputs": [
    {
     "data": {
      "image/png": "[encoded data removed]",
      "text/plain": [
       "<Figure size 1000x600 with 1 Axes>"
      ]
     },
     "metadata": {},
     "output_type": "display_data"
    }
   ],
   "source": [
    "import pandas as pd\n",
    "import seaborn as sns\n",
    "import matplotlib.pyplot as plt\n",
    "\n",
    "# Crear un boxplot para la columna 'price' usando seaborn\n",
    "plt.figure(figsize=(10, 6))\n",
    "sns.boxplot(y=df_steam_games['price'])\n",
    "plt.title('Boxplot del Precio de los Juegos')\n",
    "plt.ylabel('Precio')\n",
    "plt.grid(axis='y')  # Agregar líneas de cuadrícula en el eje y\n",
    "plt.ylim(0,20)\n",
    "plt.show()\n"
   ]
  },
  {
   "cell_type": "code",
   "execution_count": 44,
   "metadata": {},
   "outputs": [],
   "source": [
    "# Guardo el DF depurado con todas las columnas.\n",
    "df_steam_games.to_parquet('..\\\\datasets\\\\2. Depurado\\\\steam_games_depurado.parquet', index=False)\n",
    "\n",
    "# Me quedo con las columnas que voy a usar en la API: genres, released_date, price, item_id  y developer\n",
    "lista_columnas = ['genres', 'release_date', 'price', 'item_id', 'developer','year','free']\n",
    "df_steam_games = df_steam_games[lista_columnas]\n",
    "\n",
    "# Guardo el DF para levantarlo con la API.\n",
    "df_steam_games.to_parquet('..\\\\datasets\\\\3. Depurado y Reducido\\\\steam_games_dep_reducido.parquet', index=False)"
   ]
  },
  {
   "cell_type": "markdown",
   "metadata": {},
   "source": [
    "---\n",
    "# Depuración de users_reviews"
   ]
  },
  {
   "cell_type": "code",
   "execution_count": 45,
   "metadata": {},
   "outputs": [],
   "source": [
    "# #Levanto los datos\n",
    "df_reviews = pd.read_parquet('..\\\\datasets\\\\1. Extracción\\\\user_reviews.parquet')"
   ]
  },
  {
   "cell_type": "code",
   "execution_count": 46,
   "metadata": {},
   "outputs": [
    {
     "data": {
      "text/html": [
       "<div>\n",
       "<style scoped>\n",
       "    .dataframe tbody tr th:only-of-type {\n",
       "        vertical-align: middle;\n",
       "    }\n",
       "\n",
       "    .dataframe tbody tr th {\n",
       "        vertical-align: top;\n",
       "    }\n",
       "\n",
       "    .dataframe thead th {\n",
       "        text-align: right;\n",
       "    }\n",
       "</style>\n",
       "<table border=\"1\" class=\"dataframe\">\n",
       "  <thead>\n",
       "    <tr style=\"text-align: right;\">\n",
       "      <th></th>\n",
       "      <th>user_id</th>\n",
       "      <th>user_url</th>\n",
       "      <th>item_id</th>\n",
       "      <th>posted</th>\n",
       "      <th>helpful</th>\n",
       "      <th>recommend</th>\n",
       "      <th>funny</th>\n",
       "      <th>review</th>\n",
       "    </tr>\n",
       "  </thead>\n",
       "  <tbody>\n",
       "    <tr>\n",
       "      <th>0</th>\n",
       "      <td>76561197970982479</td>\n",
       "      <td>http://steamcommunity.com/profiles/76561197970...</td>\n",
       "      <td>1250</td>\n",
       "      <td>Posted November 5, 2011.</td>\n",
       "      <td>No ratings yet</td>\n",
       "      <td>True</td>\n",
       "      <td></td>\n",
       "      <td>Simple yet with great replayability. In my opi...</td>\n",
       "    </tr>\n",
       "    <tr>\n",
       "      <th>1</th>\n",
       "      <td>76561197970982479</td>\n",
       "      <td>http://steamcommunity.com/profiles/76561197970...</td>\n",
       "      <td>22200</td>\n",
       "      <td>Posted July 15, 2011.</td>\n",
       "      <td>No ratings yet</td>\n",
       "      <td>True</td>\n",
       "      <td></td>\n",
       "      <td>It's unique and worth a playthrough.</td>\n",
       "    </tr>\n",
       "    <tr>\n",
       "      <th>2</th>\n",
       "      <td>76561197970982479</td>\n",
       "      <td>http://steamcommunity.com/profiles/76561197970...</td>\n",
       "      <td>43110</td>\n",
       "      <td>Posted April 21, 2011.</td>\n",
       "      <td>No ratings yet</td>\n",
       "      <td>True</td>\n",
       "      <td></td>\n",
       "      <td>Great atmosphere. The gunplay can be a bit chu...</td>\n",
       "    </tr>\n",
       "    <tr>\n",
       "      <th>3</th>\n",
       "      <td>js41637</td>\n",
       "      <td>http://steamcommunity.com/id/js41637</td>\n",
       "      <td>251610</td>\n",
       "      <td>Posted June 24, 2014.</td>\n",
       "      <td>15 of 20 people (75%) found this review helpful</td>\n",
       "      <td>True</td>\n",
       "      <td></td>\n",
       "      <td>I know what you think when you see this title ...</td>\n",
       "    </tr>\n",
       "    <tr>\n",
       "      <th>4</th>\n",
       "      <td>js41637</td>\n",
       "      <td>http://steamcommunity.com/id/js41637</td>\n",
       "      <td>227300</td>\n",
       "      <td>Posted September 8, 2013.</td>\n",
       "      <td>0 of 1 people (0%) found this review helpful</td>\n",
       "      <td>True</td>\n",
       "      <td></td>\n",
       "      <td>For a simple (it's actually not all that simpl...</td>\n",
       "    </tr>\n",
       "  </tbody>\n",
       "</table>\n",
       "</div>"
      ],
      "text/plain": [
       "             user_id                                           user_url  \\\n",
       "0  76561197970982479  http://steamcommunity.com/profiles/76561197970...   \n",
       "1  76561197970982479  http://steamcommunity.com/profiles/76561197970...   \n",
       "2  76561197970982479  http://steamcommunity.com/profiles/76561197970...   \n",
       "3            js41637               http://steamcommunity.com/id/js41637   \n",
       "4            js41637               http://steamcommunity.com/id/js41637   \n",
       "\n",
       "  item_id                     posted  \\\n",
       "0    1250   Posted November 5, 2011.   \n",
       "1   22200      Posted July 15, 2011.   \n",
       "2   43110     Posted April 21, 2011.   \n",
       "3  251610      Posted June 24, 2014.   \n",
       "4  227300  Posted September 8, 2013.   \n",
       "\n",
       "                                           helpful recommend funny  \\\n",
       "0                                   No ratings yet      True         \n",
       "1                                   No ratings yet      True         \n",
       "2                                   No ratings yet      True         \n",
       "3  15 of 20 people (75%) found this review helpful      True         \n",
       "4     0 of 1 people (0%) found this review helpful      True         \n",
       "\n",
       "                                              review  \n",
       "0  Simple yet with great replayability. In my opi...  \n",
       "1               It's unique and worth a playthrough.  \n",
       "2  Great atmosphere. The gunplay can be a bit chu...  \n",
       "3  I know what you think when you see this title ...  \n",
       "4  For a simple (it's actually not all that simpl...  "
      ]
     },
     "execution_count": 46,
     "metadata": {},
     "output_type": "execute_result"
    }
   ],
   "source": [
    "df_reviews.head()"
   ]
  },
  {
   "cell_type": "markdown",
   "metadata": {},
   "source": [
    "- Análisis de duplicados"
   ]
  },
  {
   "cell_type": "code",
   "execution_count": 47,
   "metadata": {},
   "outputs": [
    {
     "name": "stdout",
     "output_type": "stream",
     "text": [
      "Cantidad de líneas duplicadas (con user_id o item_id nulos): 0\n"
     ]
    }
   ],
   "source": [
    "# Filtrar filas donde user_id o item_id son nulos\n",
    "filtered_reviews = df_reviews[df_reviews['user_id'].isnull() | df_reviews['item_id'].isnull()]\n",
    "\n",
    "# Contar la cantidad de líneas duplicadas en el DataFrame filtrado\n",
    "duplicated_count = filtered_reviews.duplicated().sum()\n",
    "\n",
    "# Mostrar la cantidad de líneas duplicadas\n",
    "print(f'Cantidad de líneas duplicadas (con user_id o item_id nulos): {duplicated_count}')\n"
   ]
  },
  {
   "cell_type": "code",
   "execution_count": 48,
   "metadata": {},
   "outputs": [
    {
     "name": "stdout",
     "output_type": "stream",
     "text": [
      "Cantidad de líneas duplicadas: 874\n",
      "Cantidad de relaciones repetidas: 862\n",
      "Cantidad total de duplicados en las combinaciones: 1736\n",
      "Diferencia entre duplicados totales y duplicados de relaciones: -862\n"
     ]
    }
   ],
   "source": [
    "# Contar la cantidad de líneas duplicadas\n",
    "duplicated_count = df_reviews.duplicated().sum()\n",
    "print(f'Cantidad de líneas duplicadas: {duplicated_count}')\n",
    "\n",
    "# Contar la cantidad de ocurrencias de cada combinación user_id - item_id\n",
    "repeated_relationships = df_reviews.groupby(['user_id', 'item_id']).size().reset_index(name='count')\n",
    "\n",
    "# Filtrar las relaciones que se repiten (más de una vez)\n",
    "repeated_relationships = repeated_relationships[repeated_relationships['count'] > 1]\n",
    "\n",
    "# Sumar las ocurrencias de las combinaciones repetidas\n",
    "total_repeated_count = repeated_relationships['count'].sum()\n",
    "\n",
    "# Calcular la diferencia\n",
    "difference = duplicated_count - total_repeated_count\n",
    "\n",
    "# Mostrar los resultados\n",
    "print(f'Cantidad de relaciones repetidas: {repeated_relationships.shape[0]}')\n",
    "print(f'Cantidad total de duplicados en las combinaciones: {total_repeated_count}')\n",
    "print(f'Diferencia entre duplicados totales y duplicados de relaciones: {difference}')"
   ]
  },
  {
   "cell_type": "code",
   "execution_count": 49,
   "metadata": {},
   "outputs": [
    {
     "data": {
      "text/html": [
       "<div>\n",
       "<style scoped>\n",
       "    .dataframe tbody tr th:only-of-type {\n",
       "        vertical-align: middle;\n",
       "    }\n",
       "\n",
       "    .dataframe tbody tr th {\n",
       "        vertical-align: top;\n",
       "    }\n",
       "\n",
       "    .dataframe thead th {\n",
       "        text-align: right;\n",
       "    }\n",
       "</style>\n",
       "<table border=\"1\" class=\"dataframe\">\n",
       "  <thead>\n",
       "    <tr style=\"text-align: right;\">\n",
       "      <th></th>\n",
       "      <th>user_id</th>\n",
       "      <th>user_url</th>\n",
       "      <th>item_id</th>\n",
       "      <th>posted</th>\n",
       "      <th>helpful</th>\n",
       "      <th>recommend</th>\n",
       "      <th>funny</th>\n",
       "      <th>review</th>\n",
       "    </tr>\n",
       "  </thead>\n",
       "  <tbody>\n",
       "    <tr>\n",
       "      <th>13415</th>\n",
       "      <td>05041129</td>\n",
       "      <td>http://steamcommunity.com/id/05041129</td>\n",
       "      <td>277430</td>\n",
       "      <td>Posted January 5, 2015.</td>\n",
       "      <td>1 of 1 people (100%) found this review helpful</td>\n",
       "      <td>True</td>\n",
       "      <td>1 person found this review funny</td>\n",
       "      <td>this is the best third person game ever that i...</td>\n",
       "    </tr>\n",
       "    <tr>\n",
       "      <th>32000</th>\n",
       "      <td>05041129</td>\n",
       "      <td>http://steamcommunity.com/id/05041129</td>\n",
       "      <td>277430</td>\n",
       "      <td>Posted January 5, 2015.</td>\n",
       "      <td>1 of 1 people (100%) found this review helpful</td>\n",
       "      <td>True</td>\n",
       "      <td>1 person found this review funny</td>\n",
       "      <td>this is the best third person game ever that i...</td>\n",
       "    </tr>\n",
       "  </tbody>\n",
       "</table>\n",
       "</div>"
      ],
      "text/plain": [
       "        user_id                               user_url item_id  \\\n",
       "13415  05041129  http://steamcommunity.com/id/05041129  277430   \n",
       "32000  05041129  http://steamcommunity.com/id/05041129  277430   \n",
       "\n",
       "                        posted  \\\n",
       "13415  Posted January 5, 2015.   \n",
       "32000  Posted January 5, 2015.   \n",
       "\n",
       "                                              helpful recommend  \\\n",
       "13415  1 of 1 people (100%) found this review helpful      True   \n",
       "32000  1 of 1 people (100%) found this review helpful      True   \n",
       "\n",
       "                                  funny  \\\n",
       "13415  1 person found this review funny   \n",
       "32000  1 person found this review funny   \n",
       "\n",
       "                                                  review  \n",
       "13415  this is the best third person game ever that i...  \n",
       "32000  this is the best third person game ever that i...  "
      ]
     },
     "execution_count": 49,
     "metadata": {},
     "output_type": "execute_result"
    }
   ],
   "source": [
    "# Verifico con un ejemplo\n",
    "filtered_reviews = df_reviews[(df_reviews[\"user_id\"] == \"05041129\") & (df_reviews[\"item_id\"] == \"277430\")]\n",
    "\n",
    "# Mostrar el DataFrame filtrado\n",
    "filtered_reviews.head()"
   ]
  },
  {
   "cell_type": "markdown",
   "metadata": {},
   "source": [
    "- Elimino las filas duplicadas"
   ]
  },
  {
   "cell_type": "code",
   "execution_count": 50,
   "metadata": {},
   "outputs": [],
   "source": [
    "df_reviews.drop_duplicates(inplace=True)"
   ]
  },
  {
   "cell_type": "code",
   "execution_count": 51,
   "metadata": {},
   "outputs": [
    {
     "name": "stdout",
     "output_type": "stream",
     "text": [
      "<class 'pandas.core.frame.DataFrame'>\n",
      "Index: 58459 entries, 0 to 59332\n",
      "Data columns (total 8 columns):\n",
      " #   Column     Non-Null Count  Dtype \n",
      "---  ------     --------------  ----- \n",
      " 0   user_id    58459 non-null  object\n",
      " 1   user_url   58459 non-null  object\n",
      " 2   item_id    58431 non-null  object\n",
      " 3   posted     58431 non-null  object\n",
      " 4   helpful    58431 non-null  object\n",
      " 5   recommend  58431 non-null  object\n",
      " 6   funny      58431 non-null  object\n",
      " 7   review     58431 non-null  object\n",
      "dtypes: object(8)\n",
      "memory usage: 4.0+ MB\n",
      "None\n"
     ]
    }
   ],
   "source": [
    "print(df_reviews.info())"
   ]
  },
  {
   "cell_type": "markdown",
   "metadata": {},
   "source": [
    "- Verifico las filas que tiene item_id nulo"
   ]
  },
  {
   "cell_type": "code",
   "execution_count": 52,
   "metadata": {},
   "outputs": [
    {
     "data": {
      "text/html": [
       "<div>\n",
       "<style scoped>\n",
       "    .dataframe tbody tr th:only-of-type {\n",
       "        vertical-align: middle;\n",
       "    }\n",
       "\n",
       "    .dataframe tbody tr th {\n",
       "        vertical-align: top;\n",
       "    }\n",
       "\n",
       "    .dataframe thead th {\n",
       "        text-align: right;\n",
       "    }\n",
       "</style>\n",
       "<table border=\"1\" class=\"dataframe\">\n",
       "  <thead>\n",
       "    <tr style=\"text-align: right;\">\n",
       "      <th></th>\n",
       "      <th>user_id</th>\n",
       "      <th>user_url</th>\n",
       "      <th>item_id</th>\n",
       "      <th>posted</th>\n",
       "      <th>helpful</th>\n",
       "      <th>recommend</th>\n",
       "      <th>funny</th>\n",
       "      <th>review</th>\n",
       "    </tr>\n",
       "  </thead>\n",
       "  <tbody>\n",
       "    <tr>\n",
       "      <th>137</th>\n",
       "      <td>gdxsd</td>\n",
       "      <td>http://steamcommunity.com/id/gdxsd</td>\n",
       "      <td>None</td>\n",
       "      <td>None</td>\n",
       "      <td>None</td>\n",
       "      <td>None</td>\n",
       "      <td>None</td>\n",
       "      <td>None</td>\n",
       "    </tr>\n",
       "    <tr>\n",
       "      <th>177</th>\n",
       "      <td>76561198094224872</td>\n",
       "      <td>http://steamcommunity.com/profiles/76561198094...</td>\n",
       "      <td>None</td>\n",
       "      <td>None</td>\n",
       "      <td>None</td>\n",
       "      <td>None</td>\n",
       "      <td>None</td>\n",
       "      <td>None</td>\n",
       "    </tr>\n",
       "    <tr>\n",
       "      <th>2559</th>\n",
       "      <td>76561198021575394</td>\n",
       "      <td>http://steamcommunity.com/profiles/76561198021...</td>\n",
       "      <td>None</td>\n",
       "      <td>None</td>\n",
       "      <td>None</td>\n",
       "      <td>None</td>\n",
       "      <td>None</td>\n",
       "      <td>None</td>\n",
       "    </tr>\n",
       "    <tr>\n",
       "      <th>10080</th>\n",
       "      <td>cmuir37</td>\n",
       "      <td>http://steamcommunity.com/id/cmuir37</td>\n",
       "      <td>None</td>\n",
       "      <td>None</td>\n",
       "      <td>None</td>\n",
       "      <td>None</td>\n",
       "      <td>None</td>\n",
       "      <td>None</td>\n",
       "    </tr>\n",
       "    <tr>\n",
       "      <th>13767</th>\n",
       "      <td>Jaysteeny</td>\n",
       "      <td>http://steamcommunity.com/id/Jaysteeny</td>\n",
       "      <td>None</td>\n",
       "      <td>None</td>\n",
       "      <td>None</td>\n",
       "      <td>None</td>\n",
       "      <td>None</td>\n",
       "      <td>None</td>\n",
       "    </tr>\n",
       "    <tr>\n",
       "      <th>15493</th>\n",
       "      <td>ML8989</td>\n",
       "      <td>http://steamcommunity.com/id/ML8989</td>\n",
       "      <td>None</td>\n",
       "      <td>None</td>\n",
       "      <td>None</td>\n",
       "      <td>None</td>\n",
       "      <td>None</td>\n",
       "      <td>None</td>\n",
       "    </tr>\n",
       "    <tr>\n",
       "      <th>19184</th>\n",
       "      <td>76561198079215291</td>\n",
       "      <td>http://steamcommunity.com/profiles/76561198079...</td>\n",
       "      <td>None</td>\n",
       "      <td>None</td>\n",
       "      <td>None</td>\n",
       "      <td>None</td>\n",
       "      <td>None</td>\n",
       "      <td>None</td>\n",
       "    </tr>\n",
       "    <tr>\n",
       "      <th>20223</th>\n",
       "      <td>76561198079342142</td>\n",
       "      <td>http://steamcommunity.com/profiles/76561198079...</td>\n",
       "      <td>None</td>\n",
       "      <td>None</td>\n",
       "      <td>None</td>\n",
       "      <td>None</td>\n",
       "      <td>None</td>\n",
       "      <td>None</td>\n",
       "    </tr>\n",
       "    <tr>\n",
       "      <th>25056</th>\n",
       "      <td>76561198061996985</td>\n",
       "      <td>http://steamcommunity.com/profiles/76561198061...</td>\n",
       "      <td>None</td>\n",
       "      <td>None</td>\n",
       "      <td>None</td>\n",
       "      <td>None</td>\n",
       "      <td>None</td>\n",
       "      <td>None</td>\n",
       "    </tr>\n",
       "    <tr>\n",
       "      <th>26257</th>\n",
       "      <td>76561198108286351</td>\n",
       "      <td>http://steamcommunity.com/profiles/76561198108...</td>\n",
       "      <td>None</td>\n",
       "      <td>None</td>\n",
       "      <td>None</td>\n",
       "      <td>None</td>\n",
       "      <td>None</td>\n",
       "      <td>None</td>\n",
       "    </tr>\n",
       "    <tr>\n",
       "      <th>26674</th>\n",
       "      <td>CallTripleZero</td>\n",
       "      <td>http://steamcommunity.com/id/CallTripleZero</td>\n",
       "      <td>None</td>\n",
       "      <td>None</td>\n",
       "      <td>None</td>\n",
       "      <td>None</td>\n",
       "      <td>None</td>\n",
       "      <td>None</td>\n",
       "    </tr>\n",
       "    <tr>\n",
       "      <th>28444</th>\n",
       "      <td>Priceless612</td>\n",
       "      <td>http://steamcommunity.com/id/Priceless612</td>\n",
       "      <td>None</td>\n",
       "      <td>None</td>\n",
       "      <td>None</td>\n",
       "      <td>None</td>\n",
       "      <td>None</td>\n",
       "      <td>None</td>\n",
       "    </tr>\n",
       "    <tr>\n",
       "      <th>28452</th>\n",
       "      <td>diabolical666</td>\n",
       "      <td>http://steamcommunity.com/id/diabolical666</td>\n",
       "      <td>None</td>\n",
       "      <td>None</td>\n",
       "      <td>None</td>\n",
       "      <td>None</td>\n",
       "      <td>None</td>\n",
       "      <td>None</td>\n",
       "    </tr>\n",
       "    <tr>\n",
       "      <th>28975</th>\n",
       "      <td>DrScottnik</td>\n",
       "      <td>http://steamcommunity.com/id/DrScottnik</td>\n",
       "      <td>None</td>\n",
       "      <td>None</td>\n",
       "      <td>None</td>\n",
       "      <td>None</td>\n",
       "      <td>None</td>\n",
       "      <td>None</td>\n",
       "    </tr>\n",
       "    <tr>\n",
       "      <th>31955</th>\n",
       "      <td>76561198110176420</td>\n",
       "      <td>http://steamcommunity.com/profiles/76561198110...</td>\n",
       "      <td>None</td>\n",
       "      <td>None</td>\n",
       "      <td>None</td>\n",
       "      <td>None</td>\n",
       "      <td>None</td>\n",
       "      <td>None</td>\n",
       "    </tr>\n",
       "    <tr>\n",
       "      <th>32819</th>\n",
       "      <td>jojoPL1987</td>\n",
       "      <td>http://steamcommunity.com/id/jojoPL1987</td>\n",
       "      <td>None</td>\n",
       "      <td>None</td>\n",
       "      <td>None</td>\n",
       "      <td>None</td>\n",
       "      <td>None</td>\n",
       "      <td>None</td>\n",
       "    </tr>\n",
       "    <tr>\n",
       "      <th>33785</th>\n",
       "      <td>Kylee_Kylie</td>\n",
       "      <td>http://steamcommunity.com/id/Kylee_Kylie</td>\n",
       "      <td>None</td>\n",
       "      <td>None</td>\n",
       "      <td>None</td>\n",
       "      <td>None</td>\n",
       "      <td>None</td>\n",
       "      <td>None</td>\n",
       "    </tr>\n",
       "    <tr>\n",
       "      <th>39279</th>\n",
       "      <td>_samie</td>\n",
       "      <td>http://steamcommunity.com/id/_samie</td>\n",
       "      <td>None</td>\n",
       "      <td>None</td>\n",
       "      <td>None</td>\n",
       "      <td>None</td>\n",
       "      <td>None</td>\n",
       "      <td>None</td>\n",
       "    </tr>\n",
       "    <tr>\n",
       "      <th>39357</th>\n",
       "      <td>FifthExclamation</td>\n",
       "      <td>http://steamcommunity.com/id/FifthExclamation</td>\n",
       "      <td>None</td>\n",
       "      <td>None</td>\n",
       "      <td>None</td>\n",
       "      <td>None</td>\n",
       "      <td>None</td>\n",
       "      <td>None</td>\n",
       "    </tr>\n",
       "    <tr>\n",
       "      <th>39420</th>\n",
       "      <td>sbenji</td>\n",
       "      <td>http://steamcommunity.com/id/sbenji</td>\n",
       "      <td>None</td>\n",
       "      <td>None</td>\n",
       "      <td>None</td>\n",
       "      <td>None</td>\n",
       "      <td>None</td>\n",
       "      <td>None</td>\n",
       "    </tr>\n",
       "    <tr>\n",
       "      <th>40661</th>\n",
       "      <td>SpatialWheel14</td>\n",
       "      <td>http://steamcommunity.com/id/SpatialWheel14</td>\n",
       "      <td>None</td>\n",
       "      <td>None</td>\n",
       "      <td>None</td>\n",
       "      <td>None</td>\n",
       "      <td>None</td>\n",
       "      <td>None</td>\n",
       "    </tr>\n",
       "    <tr>\n",
       "      <th>41777</th>\n",
       "      <td>76561198065238937</td>\n",
       "      <td>http://steamcommunity.com/profiles/76561198065...</td>\n",
       "      <td>None</td>\n",
       "      <td>None</td>\n",
       "      <td>None</td>\n",
       "      <td>None</td>\n",
       "      <td>None</td>\n",
       "      <td>None</td>\n",
       "    </tr>\n",
       "    <tr>\n",
       "      <th>44384</th>\n",
       "      <td>76561198071075080</td>\n",
       "      <td>http://steamcommunity.com/profiles/76561198071...</td>\n",
       "      <td>None</td>\n",
       "      <td>None</td>\n",
       "      <td>None</td>\n",
       "      <td>None</td>\n",
       "      <td>None</td>\n",
       "      <td>None</td>\n",
       "    </tr>\n",
       "    <tr>\n",
       "      <th>50718</th>\n",
       "      <td>76561198063489150</td>\n",
       "      <td>http://steamcommunity.com/profiles/76561198063...</td>\n",
       "      <td>None</td>\n",
       "      <td>None</td>\n",
       "      <td>None</td>\n",
       "      <td>None</td>\n",
       "      <td>None</td>\n",
       "      <td>None</td>\n",
       "    </tr>\n",
       "    <tr>\n",
       "      <th>53323</th>\n",
       "      <td>thecommunistbear</td>\n",
       "      <td>http://steamcommunity.com/id/thecommunistbear</td>\n",
       "      <td>None</td>\n",
       "      <td>None</td>\n",
       "      <td>None</td>\n",
       "      <td>None</td>\n",
       "      <td>None</td>\n",
       "      <td>None</td>\n",
       "    </tr>\n",
       "    <tr>\n",
       "      <th>55425</th>\n",
       "      <td>76561198085883839</td>\n",
       "      <td>http://steamcommunity.com/profiles/76561198085...</td>\n",
       "      <td>None</td>\n",
       "      <td>None</td>\n",
       "      <td>None</td>\n",
       "      <td>None</td>\n",
       "      <td>None</td>\n",
       "      <td>None</td>\n",
       "    </tr>\n",
       "    <tr>\n",
       "      <th>57578</th>\n",
       "      <td>76561198100396147</td>\n",
       "      <td>http://steamcommunity.com/profiles/76561198100...</td>\n",
       "      <td>None</td>\n",
       "      <td>None</td>\n",
       "      <td>None</td>\n",
       "      <td>None</td>\n",
       "      <td>None</td>\n",
       "      <td>None</td>\n",
       "    </tr>\n",
       "    <tr>\n",
       "      <th>57766</th>\n",
       "      <td>76561198102423654</td>\n",
       "      <td>http://steamcommunity.com/profiles/76561198102...</td>\n",
       "      <td>None</td>\n",
       "      <td>None</td>\n",
       "      <td>None</td>\n",
       "      <td>None</td>\n",
       "      <td>None</td>\n",
       "      <td>None</td>\n",
       "    </tr>\n",
       "  </tbody>\n",
       "</table>\n",
       "</div>"
      ],
      "text/plain": [
       "                 user_id                                           user_url  \\\n",
       "137                gdxsd                 http://steamcommunity.com/id/gdxsd   \n",
       "177    76561198094224872  http://steamcommunity.com/profiles/76561198094...   \n",
       "2559   76561198021575394  http://steamcommunity.com/profiles/76561198021...   \n",
       "10080            cmuir37               http://steamcommunity.com/id/cmuir37   \n",
       "13767          Jaysteeny             http://steamcommunity.com/id/Jaysteeny   \n",
       "15493             ML8989                http://steamcommunity.com/id/ML8989   \n",
       "19184  76561198079215291  http://steamcommunity.com/profiles/76561198079...   \n",
       "20223  76561198079342142  http://steamcommunity.com/profiles/76561198079...   \n",
       "25056  76561198061996985  http://steamcommunity.com/profiles/76561198061...   \n",
       "26257  76561198108286351  http://steamcommunity.com/profiles/76561198108...   \n",
       "26674     CallTripleZero        http://steamcommunity.com/id/CallTripleZero   \n",
       "28444       Priceless612          http://steamcommunity.com/id/Priceless612   \n",
       "28452      diabolical666         http://steamcommunity.com/id/diabolical666   \n",
       "28975         DrScottnik            http://steamcommunity.com/id/DrScottnik   \n",
       "31955  76561198110176420  http://steamcommunity.com/profiles/76561198110...   \n",
       "32819         jojoPL1987            http://steamcommunity.com/id/jojoPL1987   \n",
       "33785        Kylee_Kylie           http://steamcommunity.com/id/Kylee_Kylie   \n",
       "39279             _samie                http://steamcommunity.com/id/_samie   \n",
       "39357   FifthExclamation      http://steamcommunity.com/id/FifthExclamation   \n",
       "39420             sbenji                http://steamcommunity.com/id/sbenji   \n",
       "40661     SpatialWheel14        http://steamcommunity.com/id/SpatialWheel14   \n",
       "41777  76561198065238937  http://steamcommunity.com/profiles/76561198065...   \n",
       "44384  76561198071075080  http://steamcommunity.com/profiles/76561198071...   \n",
       "50718  76561198063489150  http://steamcommunity.com/profiles/76561198063...   \n",
       "53323   thecommunistbear      http://steamcommunity.com/id/thecommunistbear   \n",
       "55425  76561198085883839  http://steamcommunity.com/profiles/76561198085...   \n",
       "57578  76561198100396147  http://steamcommunity.com/profiles/76561198100...   \n",
       "57766  76561198102423654  http://steamcommunity.com/profiles/76561198102...   \n",
       "\n",
       "      item_id posted helpful recommend funny review  \n",
       "137      None   None    None      None  None   None  \n",
       "177      None   None    None      None  None   None  \n",
       "2559     None   None    None      None  None   None  \n",
       "10080    None   None    None      None  None   None  \n",
       "13767    None   None    None      None  None   None  \n",
       "15493    None   None    None      None  None   None  \n",
       "19184    None   None    None      None  None   None  \n",
       "20223    None   None    None      None  None   None  \n",
       "25056    None   None    None      None  None   None  \n",
       "26257    None   None    None      None  None   None  \n",
       "26674    None   None    None      None  None   None  \n",
       "28444    None   None    None      None  None   None  \n",
       "28452    None   None    None      None  None   None  \n",
       "28975    None   None    None      None  None   None  \n",
       "31955    None   None    None      None  None   None  \n",
       "32819    None   None    None      None  None   None  \n",
       "33785    None   None    None      None  None   None  \n",
       "39279    None   None    None      None  None   None  \n",
       "39357    None   None    None      None  None   None  \n",
       "39420    None   None    None      None  None   None  \n",
       "40661    None   None    None      None  None   None  \n",
       "41777    None   None    None      None  None   None  \n",
       "44384    None   None    None      None  None   None  \n",
       "50718    None   None    None      None  None   None  \n",
       "53323    None   None    None      None  None   None  \n",
       "55425    None   None    None      None  None   None  \n",
       "57578    None   None    None      None  None   None  \n",
       "57766    None   None    None      None  None   None  "
      ]
     },
     "execution_count": 52,
     "metadata": {},
     "output_type": "execute_result"
    }
   ],
   "source": [
    "df_reviews[df_reviews['item_id'].isnull()]"
   ]
  },
  {
   "cell_type": "code",
   "execution_count": 53,
   "metadata": {},
   "outputs": [],
   "source": [
    "# Elimino las que tienen item_id nulo\n",
    "df_reviews.dropna(subset=['item_id'],inplace=True)"
   ]
  },
  {
   "cell_type": "code",
   "execution_count": 54,
   "metadata": {},
   "outputs": [
    {
     "name": "stdout",
     "output_type": "stream",
     "text": [
      "<class 'pandas.core.frame.DataFrame'>\n",
      "Index: 58431 entries, 0 to 59332\n",
      "Data columns (total 8 columns):\n",
      " #   Column     Non-Null Count  Dtype \n",
      "---  ------     --------------  ----- \n",
      " 0   user_id    58431 non-null  object\n",
      " 1   user_url   58431 non-null  object\n",
      " 2   item_id    58431 non-null  object\n",
      " 3   posted     58431 non-null  object\n",
      " 4   helpful    58431 non-null  object\n",
      " 5   recommend  58431 non-null  object\n",
      " 6   funny      58431 non-null  object\n",
      " 7   review     58431 non-null  object\n",
      "dtypes: object(8)\n",
      "memory usage: 4.0+ MB\n",
      "None\n"
     ]
    }
   ],
   "source": [
    "print(df_reviews.info())"
   ]
  },
  {
   "cell_type": "code",
   "execution_count": 55,
   "metadata": {},
   "outputs": [],
   "source": [
    "# Guardo el DF depurado.\n",
    "df_reviews.to_parquet('..\\\\datasets\\\\2. Depurado\\\\user_reviews_depurado.parquet', index=False)"
   ]
  },
  {
   "cell_type": "markdown",
   "metadata": {},
   "source": [
    "---\n",
    "# Depuración de users_items"
   ]
  },
  {
   "cell_type": "code",
   "execution_count": 56,
   "metadata": {},
   "outputs": [],
   "source": [
    "# #Levanto los datos\n",
    "df_user_items = pd.read_parquet('..\\\\datasets\\\\1. Extracción\\\\users_items.parquet')"
   ]
  },
  {
   "cell_type": "code",
   "execution_count": 57,
   "metadata": {},
   "outputs": [
    {
     "name": "stdout",
     "output_type": "stream",
     "text": [
      "<class 'pandas.core.frame.DataFrame'>\n",
      "RangeIndex: 5170015 entries, 0 to 5170014\n",
      "Data columns (total 6 columns):\n",
      " #   Column            Dtype  \n",
      "---  ------            -----  \n",
      " 0   user_id           object \n",
      " 1   user_url          object \n",
      " 2   item_id           object \n",
      " 3   item_name         object \n",
      " 4   playtime_forever  float64\n",
      " 5   playtime_2weeks   float64\n",
      "dtypes: float64(2), object(4)\n",
      "memory usage: 236.7+ MB\n"
     ]
    }
   ],
   "source": [
    "df_user_items.info()"
   ]
  },
  {
   "cell_type": "code",
   "execution_count": 58,
   "metadata": {},
   "outputs": [
    {
     "name": "stdout",
     "output_type": "stream",
     "text": [
      "user_id             5170015\n",
      "user_url            5170015\n",
      "item_id             5153209\n",
      "item_name           5153209\n",
      "playtime_forever    5153209\n",
      "playtime_2weeks     5153209\n",
      "dtype: int64\n"
     ]
    }
   ],
   "source": [
    "# Cuento las que no nulos\n",
    "print(df_user_items.notnull().sum())"
   ]
  },
  {
   "cell_type": "code",
   "execution_count": 59,
   "metadata": {},
   "outputs": [
    {
     "name": "stdout",
     "output_type": "stream",
     "text": [
      "user_id                 0\n",
      "user_url                0\n",
      "item_id             16806\n",
      "item_name           16806\n",
      "playtime_forever    16806\n",
      "playtime_2weeks     16806\n",
      "dtype: int64\n"
     ]
    }
   ],
   "source": [
    "# Cuento las que tienen nulos\n",
    "print(df_user_items.isnull().sum())"
   ]
  },
  {
   "cell_type": "markdown",
   "metadata": {},
   "source": [
    "- Elimino las filas que no tienen \"item_id\"."
   ]
  },
  {
   "cell_type": "code",
   "execution_count": 60,
   "metadata": {},
   "outputs": [],
   "source": [
    "# Eliminar filas donde item_id es nulo\n",
    "df_user_items = df_user_items.dropna(subset=['item_id'])"
   ]
  },
  {
   "cell_type": "markdown",
   "metadata": {},
   "source": [
    "- Cuento los duplicados"
   ]
  },
  {
   "cell_type": "code",
   "execution_count": 61,
   "metadata": {},
   "outputs": [
    {
     "name": "stdout",
     "output_type": "stream",
     "text": [
      "59104\n"
     ]
    }
   ],
   "source": [
    "# Contar la cantidad de líneas duplicadas\n",
    "duplicated_count = df_user_items.duplicated().sum()\n",
    "print(duplicated_count)"
   ]
  },
  {
   "cell_type": "code",
   "execution_count": 62,
   "metadata": {},
   "outputs": [
    {
     "data": {
      "text/html": [
       "<div>\n",
       "<style scoped>\n",
       "    .dataframe tbody tr th:only-of-type {\n",
       "        vertical-align: middle;\n",
       "    }\n",
       "\n",
       "    .dataframe tbody tr th {\n",
       "        vertical-align: top;\n",
       "    }\n",
       "\n",
       "    .dataframe thead th {\n",
       "        text-align: right;\n",
       "    }\n",
       "</style>\n",
       "<table border=\"1\" class=\"dataframe\">\n",
       "  <thead>\n",
       "    <tr style=\"text-align: right;\">\n",
       "      <th></th>\n",
       "      <th>user_id</th>\n",
       "      <th>item_id</th>\n",
       "      <th>count</th>\n",
       "    </tr>\n",
       "  </thead>\n",
       "  <tbody>\n",
       "    <tr>\n",
       "      <th>6680</th>\n",
       "      <td>05041129</td>\n",
       "      <td>104900</td>\n",
       "      <td>2</td>\n",
       "    </tr>\n",
       "    <tr>\n",
       "      <th>6681</th>\n",
       "      <td>05041129</td>\n",
       "      <td>105600</td>\n",
       "      <td>2</td>\n",
       "    </tr>\n",
       "    <tr>\n",
       "      <th>6682</th>\n",
       "      <td>05041129</td>\n",
       "      <td>17080</td>\n",
       "      <td>2</td>\n",
       "    </tr>\n",
       "    <tr>\n",
       "      <th>6683</th>\n",
       "      <td>05041129</td>\n",
       "      <td>204360</td>\n",
       "      <td>2</td>\n",
       "    </tr>\n",
       "    <tr>\n",
       "      <th>6684</th>\n",
       "      <td>05041129</td>\n",
       "      <td>218230</td>\n",
       "      <td>2</td>\n",
       "    </tr>\n",
       "    <tr>\n",
       "      <th>...</th>\n",
       "      <td>...</td>\n",
       "      <td>...</td>\n",
       "      <td>...</td>\n",
       "    </tr>\n",
       "    <tr>\n",
       "      <th>5084021</th>\n",
       "      <td>zeroblade</td>\n",
       "      <td>9460</td>\n",
       "      <td>2</td>\n",
       "    </tr>\n",
       "    <tr>\n",
       "      <th>5084022</th>\n",
       "      <td>zeroblade</td>\n",
       "      <td>9480</td>\n",
       "      <td>2</td>\n",
       "    </tr>\n",
       "    <tr>\n",
       "      <th>5084023</th>\n",
       "      <td>zeroblade</td>\n",
       "      <td>96400</td>\n",
       "      <td>2</td>\n",
       "    </tr>\n",
       "    <tr>\n",
       "      <th>5084024</th>\n",
       "      <td>zeroblade</td>\n",
       "      <td>97100</td>\n",
       "      <td>2</td>\n",
       "    </tr>\n",
       "    <tr>\n",
       "      <th>5084025</th>\n",
       "      <td>zeroblade</td>\n",
       "      <td>98200</td>\n",
       "      <td>2</td>\n",
       "    </tr>\n",
       "  </tbody>\n",
       "</table>\n",
       "<p>58647 rows × 3 columns</p>\n",
       "</div>"
      ],
      "text/plain": [
       "           user_id item_id  count\n",
       "6680      05041129  104900      2\n",
       "6681      05041129  105600      2\n",
       "6682      05041129   17080      2\n",
       "6683      05041129  204360      2\n",
       "6684      05041129  218230      2\n",
       "...            ...     ...    ...\n",
       "5084021  zeroblade    9460      2\n",
       "5084022  zeroblade    9480      2\n",
       "5084023  zeroblade   96400      2\n",
       "5084024  zeroblade   97100      2\n",
       "5084025  zeroblade   98200      2\n",
       "\n",
       "[58647 rows x 3 columns]"
      ]
     },
     "execution_count": 62,
     "metadata": {},
     "output_type": "execute_result"
    }
   ],
   "source": [
    "# Contar la cantidad de ocurrencias de cada combinación user_id - item_id\n",
    "repeated_relationships = df_user_items.groupby(['user_id', 'item_id']).size().reset_index(name='count')\n",
    "\n",
    "# Filtrar las relaciones que se repiten (más de una vez)\n",
    "repeated_relationships = repeated_relationships[repeated_relationships['count'] > 1]\n",
    "repeated_relationships"
   ]
  },
  {
   "cell_type": "code",
   "execution_count": 63,
   "metadata": {},
   "outputs": [
    {
     "data": {
      "text/html": [
       "<div>\n",
       "<style scoped>\n",
       "    .dataframe tbody tr th:only-of-type {\n",
       "        vertical-align: middle;\n",
       "    }\n",
       "\n",
       "    .dataframe tbody tr th {\n",
       "        vertical-align: top;\n",
       "    }\n",
       "\n",
       "    .dataframe thead th {\n",
       "        text-align: right;\n",
       "    }\n",
       "</style>\n",
       "<table border=\"1\" class=\"dataframe\">\n",
       "  <thead>\n",
       "    <tr style=\"text-align: right;\">\n",
       "      <th></th>\n",
       "      <th>user_id</th>\n",
       "      <th>user_url</th>\n",
       "      <th>item_id</th>\n",
       "      <th>item_name</th>\n",
       "      <th>playtime_forever</th>\n",
       "      <th>playtime_2weeks</th>\n",
       "    </tr>\n",
       "  </thead>\n",
       "  <tbody>\n",
       "    <tr>\n",
       "      <th>1095504</th>\n",
       "      <td>05041129</td>\n",
       "      <td>http://steamcommunity.com/id/05041129</td>\n",
       "      <td>104900</td>\n",
       "      <td>ORION: Prelude</td>\n",
       "      <td>0.0</td>\n",
       "      <td>0.0</td>\n",
       "    </tr>\n",
       "    <tr>\n",
       "      <th>2715806</th>\n",
       "      <td>05041129</td>\n",
       "      <td>http://steamcommunity.com/id/05041129</td>\n",
       "      <td>104900</td>\n",
       "      <td>ORION: Prelude</td>\n",
       "      <td>0.0</td>\n",
       "      <td>0.0</td>\n",
       "    </tr>\n",
       "  </tbody>\n",
       "</table>\n",
       "</div>"
      ],
      "text/plain": [
       "          user_id                               user_url item_id  \\\n",
       "1095504  05041129  http://steamcommunity.com/id/05041129  104900   \n",
       "2715806  05041129  http://steamcommunity.com/id/05041129  104900   \n",
       "\n",
       "              item_name  playtime_forever  playtime_2weeks  \n",
       "1095504  ORION: Prelude               0.0              0.0  \n",
       "2715806  ORION: Prelude               0.0              0.0  "
      ]
     },
     "execution_count": 63,
     "metadata": {},
     "output_type": "execute_result"
    }
   ],
   "source": [
    "# Verifico con un ejemplo\n",
    "filtered_reviews = df_user_items[(df_user_items[\"user_id\"] == \"05041129\") & (df_user_items[\"item_id\"] == \"104900\")]\n",
    "\n",
    "# Mostrar el DataFrame filtrado\n",
    "filtered_reviews.head()"
   ]
  },
  {
   "cell_type": "code",
   "execution_count": 64,
   "metadata": {},
   "outputs": [],
   "source": [
    "# Elimino las filas dupicads\n",
    "df_user_items.drop_duplicates(inplace=True)"
   ]
  },
  {
   "cell_type": "code",
   "execution_count": 65,
   "metadata": {},
   "outputs": [
    {
     "name": "stdout",
     "output_type": "stream",
     "text": [
      "user_id             5094105\n",
      "user_url            5094105\n",
      "item_id             5094105\n",
      "item_name           5094105\n",
      "playtime_forever    5094105\n",
      "playtime_2weeks     5094105\n",
      "dtype: int64\n"
     ]
    }
   ],
   "source": [
    "# Cuento las que no nulos\n",
    "print(df_user_items.notnull().sum())"
   ]
  },
  {
   "cell_type": "code",
   "execution_count": 66,
   "metadata": {},
   "outputs": [
    {
     "name": "stdout",
     "output_type": "stream",
     "text": [
      "       playtime_forever  playtime_2weeks\n",
      "count      5.094105e+06     5.094105e+06\n",
      "mean       9.905511e+02     9.069004e+00\n",
      "std        5.414297e+03     1.403145e+02\n",
      "min        0.000000e+00     0.000000e+00\n",
      "25%        0.000000e+00     0.000000e+00\n",
      "50%        3.400000e+01     0.000000e+00\n",
      "75%        3.550000e+02     0.000000e+00\n",
      "max        6.427730e+05     1.996700e+04\n"
     ]
    }
   ],
   "source": [
    "print(df_user_items.describe())"
   ]
  },
  {
   "cell_type": "code",
   "execution_count": 67,
   "metadata": {},
   "outputs": [],
   "source": [
    "# item_idid tiene que ser un número\n",
    "# df_user_items['item_id'] = pd.to_numeric(df_user_items['item_id'], errors='coerce')"
   ]
  },
  {
   "cell_type": "code",
   "execution_count": 68,
   "metadata": {},
   "outputs": [],
   "source": [
    "# Guardo el DF en parquet para levantarlo más rápido la próxima vez.\n",
    "df_user_items.to_parquet('..\\\\datasets\\\\2. Depurado\\\\users_items_depurado.parquet', index=False)"
   ]
  }
 ],
 "metadata": {
  "kernelspec": {
   "display_name": "Python 3",
   "language": "python",
   "name": "python3"
  },
  "language_info": {
   "codemirror_mode": {
    "name": "ipython",
    "version": 3
   },
   "file_extension": ".py",
   "mimetype": "text/x-python",
   "name": "python",
   "nbconvert_exporter": "python",
   "pygments_lexer": "ipython3",
   "version": "3.12.1"
  }
 },
 "nbformat": 4,
 "nbformat_minor": 2
}
