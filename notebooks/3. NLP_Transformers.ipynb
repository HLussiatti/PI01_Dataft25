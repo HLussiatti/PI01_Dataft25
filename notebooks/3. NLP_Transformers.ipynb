{
 "cells": [
  {
   "cell_type": "markdown",
   "metadata": {},
   "source": [
    "## Flujo de Trabajo en NLP\n",
    "\n",
    "<img src=\"../_src/PLN_Flujo_Trabajo.jpg\" height=\"300\"><br>"
   ]
  },
  {
   "cell_type": "code",
   "execution_count": 1,
   "metadata": {},
   "outputs": [],
   "source": [
    "import pandas as pd\n",
    "import nltk\n",
    "import itertools\n",
    "import re \n",
    "from nltk.stem import PorterStemmer\n",
    "from nltk.stem import WordNetLemmatizer\n",
    "from nltk.corpus import wordnet\n",
    "from nltk.tokenize import RegexpTokenizer"
   ]
  },
  {
   "cell_type": "code",
   "execution_count": 2,
   "metadata": {},
   "outputs": [],
   "source": [
    "# Asegurarse de haber descargado los recursos necesarios\n",
    "# nltk.download('punkt')\n",
    "# nltk.download('averaged_perceptron_tagger')\n",
    "# nltk.download('wordnet')"
   ]
  },
  {
   "cell_type": "code",
   "execution_count": 3,
   "metadata": {},
   "outputs": [],
   "source": [
    "# Cargo la información de las reviews\n",
    "df_reviews = pd.read_parquet('..\\\\datasets\\\\2. Depurado\\\\user_reviews_depurado.parquet')\n",
    "#df_reviews = df_reviews.iloc[:500] # para pruebas actodas."
   ]
  },
  {
   "cell_type": "markdown",
   "metadata": {},
   "source": [
    "- Se cargan las Stopwords en Inglés y se instancia el lemmatizer."
   ]
  },
  {
   "cell_type": "code",
   "execution_count": 4,
   "metadata": {},
   "outputs": [],
   "source": [
    "stopwords = nltk.corpus.stopwords.words('english') \n",
    "wordnet_lemmatizer = WordNetLemmatizer()"
   ]
  },
  {
   "cell_type": "markdown",
   "metadata": {},
   "source": [
    "- Se elabora la función para mapeo de tipo de palabra para Lematización"
   ]
  },
  {
   "cell_type": "code",
   "execution_count": 5,
   "metadata": {},
   "outputs": [],
   "source": [
    "# Las etiquetas refieren al tipo de palabra. Vamos a definir una función para traducir estas etiquetas a los valores de POS que entiende 'wordnet_lemmatizer'.\n",
    "def get_wordnet_pos(word):\n",
    "    \n",
    "    \"\"\"Map POS tag to first character lemmatize() accepts\"\"\"\n",
    "    tag = nltk.pos_tag([word])[0][1][0].upper()\n",
    "    tag_dict = {\"J\": wordnet.ADJ,\n",
    "                \"N\": wordnet.NOUN,\n",
    "                \"V\": wordnet.VERB,\n",
    "                \"R\": wordnet.ADV}\n",
    "    return tag_dict.get(tag, wordnet.NOUN)"
   ]
  },
  {
   "cell_type": "markdown",
   "metadata": {},
   "source": [
    "- Se realiza el proceso de Tokenización, eliminación de Expresiones Regulares y Lematización"
   ]
  },
  {
   "cell_type": "code",
   "execution_count": 6,
   "metadata": {},
   "outputs": [],
   "source": [
    "def process_review(review):\n",
    "    if pd.isna(review):\n",
    "        return []  # Review vacío\n",
    "    \n",
    "    # Limpieza y procesamiento - Si la review no es nula\n",
    "\n",
    "    # Elimino URLs\n",
    "    review = re.sub(r'http\\S+', '', review)\n",
    "    \n",
    "    # Elimino todo lo que no sean letras y convertir a minúsculas\n",
    "    review = re.sub(\"[^a-zA-Z]\", \" \", str(review)).lower()\n",
    "\n",
    "    # Tokeniza la review depues de sacar las condiciones regulares que le pasamos\n",
    "    tokenizer = RegexpTokenizer(r'\\w+')\n",
    "    review = tokenizer.tokenize(review)\n",
    "    \n",
    "    # Elimina las stopwords \n",
    "    review = [word for word in review if word not in stopwords]\n",
    "    # Lematización\n",
    "    review = [wordnet_lemmatizer.lemmatize(word, get_wordnet_pos(word)) for word in review]\n",
    "    \n",
    "    return review\n",
    "\n",
    "\n",
    "# Aplicar la función de procesamiento a cada reseña\n",
    "df_reviews[\"processed_reviews\"] = df_reviews[\"review\"].apply(process_review)"
   ]
  },
  {
   "cell_type": "markdown",
   "metadata": {},
   "source": [
    "- Utiizamos la Librería TRANSFORMERS para la categorización de las Reviews."
   ]
  },
  {
   "cell_type": "code",
   "execution_count": 7,
   "metadata": {},
   "outputs": [
    {
     "name": "stderr",
     "output_type": "stream",
     "text": [
      "c:\\Users\\Hernán\\AppData\\Local\\Programs\\Python\\Python312\\Lib\\site-packages\\tqdm\\auto.py:21: TqdmWarning: IProgress not found. Please update jupyter and ipywidgets. See https://ipywidgets.readthedocs.io/en/stable/user_install.html\n",
      "  from .autonotebook import tqdm as notebook_tqdm\n"
     ]
    },
    {
     "name": "stdout",
     "output_type": "stream",
     "text": [
      "WARNING:tensorflow:From c:\\Users\\Hernán\\AppData\\Local\\Programs\\Python\\Python312\\Lib\\site-packages\\tf_keras\\src\\losses.py:2976: The name tf.losses.sparse_softmax_cross_entropy is deprecated. Please use tf.compat.v1.losses.sparse_softmax_cross_entropy instead.\n",
      "\n"
     ]
    }
   ],
   "source": [
    "from transformers import pipeline\n",
    "from transformers import AutoTokenizer\n",
    "\n",
    "# Cargar el modelo de análisis de sentimientos\n",
    "sentiment_analysis = pipeline(\"sentiment-analysis\", model=\"distilbert-base-uncased-finetuned-sst-2-english\", batch_size=16)\n",
    "\n",
    "# Debido a que hay reviews con más de 512 tokens, debo importar AutoTkenizer para limitar la cantidad.\n",
    "# Cargar el tokenizador asociado con el modelo\n",
    "tokenizer = AutoTokenizer.from_pretrained(\"distilbert-base-uncased\")"
   ]
  },
  {
   "cell_type": "code",
   "execution_count": 8,
   "metadata": {},
   "outputs": [],
   "source": [
    "# Aplicar el análisis de sentimiento a las reviews procesadas\n",
    "sentiment_results = []\n",
    "\n",
    "# Debido a que el pipeline \"sentiment-analysis\" clasifica en POSITIVE o NEGATIVE, se define la siguiente función:\n",
    "# Función para clasificar una reseña como positiva, neutra o negativa\n",
    "def classify_review(review):\n",
    "    # Unir la lista de palabras en una cadena de texto\n",
    "    review_text = \" \".join(review)\n",
    "\n",
    "    if not review_text:\n",
    "        return 'Neutro' # Si no hay review, asignar \"Neutro\"\n",
    "    \n",
    "    # Tokenizar la review y truncar si es necesario porque transformer requiere máx 512\n",
    "    inputs = tokenizer(review_text, truncation=True, max_length=512, return_tensors=\"pt\")\n",
    "    \n",
    "    # Realizar el análisis de sentimiento\n",
    "    result = sentiment_analysis(tokenizer.decode(inputs[\"input_ids\"][0], skip_special_tokens=True))[0]\n",
    "    label = result['label']\n",
    "    score = result['score']\n",
    "\n",
    "    # Convertir las etiquetas a Positivo, Neutro y Negativo\n",
    "    if label == 'POSITIVE' and score > 0.75:\n",
    "        return 'Positivo'\n",
    "    elif label == 'POSITIVE' and score <= 0.75:\n",
    "        return 'Neutro'\n",
    "    elif label == 'NEGATIVE' and score > 0.75:\n",
    "        return 'Negativo'\n",
    "    else:\n",
    "        return 'Neutro'\n",
    "\n",
    "\n",
    "# Aplicar el análisis de sentimiento a las reviews procesadas\n",
    "df_reviews['sentiment'] = df_reviews['processed_reviews'].apply(lambda review: classify_review(review) if review else 'Neutro')\n",
    "\n",
    "# Aplicar el valor necesario\n",
    "df_reviews['sentiment_value'] = df_reviews['sentiment'].map({'Negativo': '0', 'Neutro': '1', 'Positivo':'2'})"
   ]
  },
  {
   "cell_type": "code",
   "execution_count": 9,
   "metadata": {},
   "outputs": [],
   "source": [
    "# Guardo el resultado para su uso posterior\n",
    "df_reviews.to_parquet('..\\\\datasets\\\\2. Depurado\\\\user_reviews_NLP_Transformers.parquet', index=False)"
   ]
  }
 ],
 "metadata": {
  "kernelspec": {
   "display_name": "Python 3",
   "language": "python",
   "name": "python3"
  },
  "language_info": {
   "codemirror_mode": {
    "name": "ipython",
    "version": 3
   },
   "file_extension": ".py",
   "mimetype": "text/x-python",
   "name": "python",
   "nbconvert_exporter": "python",
   "pygments_lexer": "ipython3",
   "version": "3.12.1"
  }
 },
 "nbformat": 4,
 "nbformat_minor": 2
}
